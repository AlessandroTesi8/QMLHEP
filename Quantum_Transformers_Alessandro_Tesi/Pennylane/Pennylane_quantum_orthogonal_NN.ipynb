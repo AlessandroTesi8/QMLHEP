{
  "nbformat": 4,
  "nbformat_minor": 0,
  "metadata": {
    "colab": {
      "provenance": [],
      "gpuType": "V28"
    },
    "kernelspec": {
      "name": "python3",
      "display_name": "Python 3"
    },
    "language_info": {
      "name": "python"
    },
    "accelerator": "TPU"
  },
  "cells": [
    {
      "cell_type": "code",
      "execution_count": 1,
      "metadata": {
        "colab": {
          "base_uri": "https://localhost:8080/"
        },
        "id": "nhKrRukZA0I0",
        "outputId": "f78e6293-0905-452a-f4a3-cd9f5b99c37a"
      },
      "outputs": [
        {
          "output_type": "stream",
          "name": "stdout",
          "text": [
            "Requirement already satisfied: pennylane in /usr/local/lib/python3.10/dist-packages (0.37.0)\n",
            "Requirement already satisfied: numpy<2.0 in /usr/local/lib/python3.10/dist-packages (from pennylane) (1.26.4)\n",
            "Requirement already satisfied: scipy in /usr/local/lib/python3.10/dist-packages (from pennylane) (1.13.1)\n",
            "Requirement already satisfied: networkx in /usr/local/lib/python3.10/dist-packages (from pennylane) (3.3)\n",
            "Requirement already satisfied: rustworkx in /usr/local/lib/python3.10/dist-packages (from pennylane) (0.15.1)\n",
            "Requirement already satisfied: autograd in /usr/local/lib/python3.10/dist-packages (from pennylane) (1.6.2)\n",
            "Requirement already satisfied: toml in /usr/local/lib/python3.10/dist-packages (from pennylane) (0.10.2)\n",
            "Requirement already satisfied: appdirs in /usr/local/lib/python3.10/dist-packages (from pennylane) (1.4.4)\n",
            "Requirement already satisfied: semantic-version>=2.7 in /usr/local/lib/python3.10/dist-packages (from pennylane) (2.10.0)\n",
            "Requirement already satisfied: autoray>=0.6.11 in /usr/local/lib/python3.10/dist-packages (from pennylane) (0.6.12)\n",
            "Requirement already satisfied: cachetools in /usr/local/lib/python3.10/dist-packages (from pennylane) (5.4.0)\n",
            "Requirement already satisfied: pennylane-lightning>=0.37 in /usr/local/lib/python3.10/dist-packages (from pennylane) (0.37.0)\n",
            "Requirement already satisfied: requests in /usr/local/lib/python3.10/dist-packages (from pennylane) (2.32.3)\n",
            "Requirement already satisfied: typing-extensions in /usr/local/lib/python3.10/dist-packages (from pennylane) (4.12.2)\n",
            "Requirement already satisfied: packaging in /usr/local/lib/python3.10/dist-packages (from pennylane) (24.1)\n",
            "Requirement already satisfied: future>=0.15.2 in /usr/local/lib/python3.10/dist-packages (from autograd->pennylane) (1.0.0)\n",
            "Requirement already satisfied: charset-normalizer<4,>=2 in /usr/local/lib/python3.10/dist-packages (from requests->pennylane) (3.3.2)\n",
            "Requirement already satisfied: idna<4,>=2.5 in /usr/local/lib/python3.10/dist-packages (from requests->pennylane) (3.7)\n",
            "Requirement already satisfied: urllib3<3,>=1.21.1 in /usr/local/lib/python3.10/dist-packages (from requests->pennylane) (2.0.7)\n",
            "Requirement already satisfied: certifi>=2017.4.17 in /usr/local/lib/python3.10/dist-packages (from requests->pennylane) (2024.7.4)\n"
          ]
        }
      ],
      "source": [
        "!pip install pennylane"
      ]
    },
    {
      "cell_type": "code",
      "source": [
        "import pennylane as qml\n",
        "from pennylane.operation import Operation\n",
        "import numpy as np\n",
        "import tensorflow as tf\n",
        "from sklearn.decomposition import PCA\n",
        "import matplotlib.pyplot as plt"
      ],
      "metadata": {
        "id": "SgHDgnhXA3l-"
      },
      "execution_count": 2,
      "outputs": []
    },
    {
      "cell_type": "code",
      "source": [
        "(x_train, y_train), (x_test, y_test) = tf.keras.datasets.mnist.load_data()\n",
        "\n",
        "x_train = x_train[:10000]\n",
        "y_train = y_train[:10000]\n",
        "\n",
        "x_test = x_test[-2000:]\n",
        "y_test = y_test[-2000:]\n",
        "\n",
        "x_train, x_test = x_train[..., np.newaxis]/255.0, x_test[..., np.newaxis]/255.0\n",
        "\n",
        "def filter_36(x, y):\n",
        "    keep = (y == 3) | (y == 6)\n",
        "    x, y = x[keep], y[keep]\n",
        "    y = y == 3\n",
        "    return x, y\n",
        "\n",
        "x_train, y_train = filter_36(x_train, y_train)\n",
        "x_test, y_test = filter_36(x_test, y_test)\n",
        "\n",
        "x_train_reshaped = x_train.reshape(x_train.shape[0], -1)\n",
        "x_test_reshaped = x_test.reshape(x_test.shape[0], -1)\n",
        "\n",
        "pca = PCA(n_components=8)\n",
        "x_train_small = pca.fit_transform(x_train_reshaped)\n",
        "x_test_small = pca.transform(x_test_reshaped)"
      ],
      "metadata": {
        "id": "2oZBgxd-BaTQ"
      },
      "execution_count": 3,
      "outputs": []
    },
    {
      "cell_type": "code",
      "source": [
        "class RBSGate(Operation):\n",
        "    num_params = 1\n",
        "    num_wires = 2\n",
        "    par_domain = 'R'\n",
        "\n",
        "    def __init__(self, theta, wires):\n",
        "        super().__init__(theta, wires=wires)\n",
        "        self.theta = theta\n",
        "\n",
        "    @staticmethod\n",
        "    def compute_matrix(theta):\n",
        "        cos = tf.cos(theta)\n",
        "        sin = tf.sin(theta)\n",
        "        return tf.convert_to_tensor([\n",
        "            [1, 0, 0, 0],\n",
        "            [0, cos, sin, 0],\n",
        "            [0, -sin, cos, 0],\n",
        "            [0, 0, 0, 1]\n",
        "        ], dtype=tf.float64)\n",
        "\n",
        "    def adjoint(self):\n",
        "        return RBSGate(-self.parameters[0], wires=self.wires)\n",
        "\n",
        "    def label(self, decimals=None, base_label=None, **kwargs):\n",
        "        theta = self.parameters[0]\n",
        "        return f\"RBS({theta:.2f})\""
      ],
      "metadata": {
        "id": "0LK0HYgBBfzy"
      },
      "execution_count": 4,
      "outputs": []
    },
    {
      "cell_type": "code",
      "source": [
        "def convert_array(X):\n",
        "    alphas = tf.zeros(X.shape[:-1] + (X.shape[-1]-1,), dtype=X.dtype)\n",
        "    X_normd = tf.linalg.l2_normalize(X, axis=-1)\n",
        "    for i in range(X.shape[-1]-1):\n",
        "        prod_sin_alphas = tf.reduce_prod(tf.sin(alphas[..., :i]), axis=-1)\n",
        "        updated_value = tf.acos(X_normd[..., i] / prod_sin_alphas)\n",
        "        indices = tf.constant([[i]])\n",
        "        updates = tf.reshape(updated_value, [1])\n",
        "        alphas = tf.tensor_scatter_nd_update(alphas, indices, updates)\n",
        "    return alphas\n",
        "\n",
        "def vector_loader(alphas, wires=None, is_x=True, is_conjugate=False):\n",
        "    if wires is None:\n",
        "        wires = list(range(len(alphas) + 1))\n",
        "    if is_x and not is_conjugate:\n",
        "        qml.PauliX(wires=wires[0])\n",
        "    if is_conjugate:\n",
        "        for i in range(len(wires) - 2, -1, -1):\n",
        "            qml.apply(RBSGate(-alphas[i], wires=[wires[i], wires[i+1]]))\n",
        "    else:\n",
        "        for i in range(len(wires) - 1):\n",
        "            qml.apply(RBSGate(alphas[i], wires=[wires[i], wires[i+1]]))\n",
        "    if is_x and is_conjugate:\n",
        "        qml.PauliX(wires=wires[0])"
      ],
      "metadata": {
        "id": "2WV_kjd2BjZt"
      },
      "execution_count": 5,
      "outputs": []
    },
    {
      "cell_type": "code",
      "source": [
        "def nn_circuit(parameters, wires=None):\n",
        "    if wires is None:\n",
        "        wires = list(range(len(parameters) // 2))\n",
        "    n = len(wires)\n",
        "    for i in range(n-1):\n",
        "        qml.apply(RBSGate(parameters[i], wires=[wires[n-i-1], wires[n - i -2]]))"
      ],
      "metadata": {
        "id": "jvBPpeX4BluE"
      },
      "execution_count": 6,
      "outputs": []
    },
    {
      "cell_type": "code",
      "source": [
        "dev = qml.device('default.qubit', wires=8)\n",
        "\n",
        "@qml.qnode(dev, interface='tf', diff_method='backprop')\n",
        "def quantum_model(inputs, weights):\n",
        "    inputs = tf.cast(inputs, tf.float64)\n",
        "    weights = tf.cast(weights, tf.float64)\n",
        "    vector_loader(convert_array(inputs), wires=range(8))\n",
        "    nn_circuit(weights, wires=range(8))\n",
        "    return qml.expval(qml.PauliZ(0))"
      ],
      "metadata": {
        "id": "kE9SHuHVDwmT"
      },
      "execution_count": 7,
      "outputs": []
    },
    {
      "cell_type": "code",
      "source": [
        "weights_init = np.random.normal(size=(7,), scale=np.pi/4)\n",
        "weights = tf.Variable(weights_init, dtype=tf.float64)\n",
        "\n",
        "class HybridModel(tf.keras.Model):\n",
        "    def __init__(self, quantum_model):\n",
        "        super(HybridModel, self).__init__()\n",
        "        self.quantum_model = quantum_model\n",
        "\n",
        "    def build(self, input_shape):\n",
        "        self.quantum_weights = self.add_weight(shape=(7,), initializer='random_normal', trainable=True, dtype=tf.float64)\n",
        "\n",
        "    def call(self, inputs):\n",
        "        inputs = tf.cast(inputs, tf.float64)\n",
        "        outputs = tf.map_fn(lambda x: self.quantum_model(x, self.quantum_weights), inputs, dtype=tf.float64)\n",
        "        return outputs\n",
        "\n",
        "model = HybridModel(quantum_model)"
      ],
      "metadata": {
        "id": "CAP8cA2nD167"
      },
      "execution_count": 8,
      "outputs": []
    },
    {
      "cell_type": "code",
      "source": [
        "def hinge_loss(y_true, y_pred):\n",
        "    return tf.reduce_mean(tf.maximum(1.0 - y_true * y_pred, 0.0))\n",
        "\n",
        "optimizer = tf.keras.optimizers.Adam(learning_rate=0.01)\n",
        "\n",
        "x_train_small_tensor = tf.convert_to_tensor(x_train_small, dtype=tf.float64)\n",
        "y_train_tensor = tf.convert_to_tensor(2 * y_train - 1, dtype=tf.float64)\n",
        "\n",
        "@tf.function\n",
        "def train_step(inputs, targets):\n",
        "    with tf.GradientTape() as tape:\n",
        "        predictions = model(inputs)\n",
        "        loss = hinge_loss(targets, predictions)\n",
        "    accuracy = tf.reduce_mean(tf.cast(tf.equal(tf.sign(predictions), targets), tf.float64))\n",
        "    gradients = tape.gradient(loss, model.trainable_variables)\n",
        "    optimizer.apply_gradients(zip(gradients, model.trainable_variables))\n",
        "    return loss, accuracy"
      ],
      "metadata": {
        "id": "Jpac-ClHD8Ls"
      },
      "execution_count": 9,
      "outputs": []
    },
    {
      "cell_type": "code",
      "source": [
        "@tf.function\n",
        "def validation_step(inputs, targets):\n",
        "    predictions = model(inputs)\n",
        "    loss = hinge_loss(targets, predictions)\n",
        "    accuracy = tf.reduce_mean(tf.cast(tf.equal(tf.sign(predictions), targets), tf.float64))\n",
        "    return loss, accuracy"
      ],
      "metadata": {
        "id": "jB_q8NJrTnLz"
      },
      "execution_count": 10,
      "outputs": []
    },
    {
      "cell_type": "code",
      "source": [
        "x_test_small_tensor = tf.convert_to_tensor(x_test_small, dtype=tf.float64)\n",
        "y_test_tensor = tf.convert_to_tensor(2 * y_test - 1, dtype=tf.float64)\n",
        "\n",
        "epochs = 30\n",
        "for epoch in range(epochs):\n",
        "    loss, acc = train_step(x_train_small_tensor, y_train_tensor)\n",
        "    val_loss, val_acc = validation_step(x_test_small_tensor, y_test_tensor)\n",
        "    print(f'Epoch {epoch + 1} ----------------------------------- \\n Train Loss: {loss.numpy()}, Train Accuracy: {acc.numpy()},  Validation Loss: {val_loss.numpy()}, Validation Accuracy: {val_acc.numpy()}')"
      ],
      "metadata": {
        "colab": {
          "base_uri": "https://localhost:8080/"
        },
        "id": "zGX3JRcnD-hd",
        "outputId": "bbb7e7b4-c96b-45d5-8031-93c6062fd456"
      },
      "execution_count": 12,
      "outputs": [
        {
          "output_type": "stream",
          "name": "stdout",
          "text": [
            "Epoch 1 ----------------------------------- \n",
            " Train Loss: 0.9283672288199954, Train Accuracy: 0.552297165200391,  Validation Loss: 0.98103437502747, Validation Accuracy: 0.5134474327628362\n",
            "Epoch 2 ----------------------------------- \n",
            " Train Loss: 0.9239592918834791, Train Accuracy: 0.555229716520039,  Validation Loss: 0.9791819571772121, Validation Accuracy: 0.5061124694376528\n",
            "Epoch 3 ----------------------------------- \n",
            " Train Loss: 0.9198439711965595, Train Accuracy: 0.5571847507331378,  Validation Loss: 0.9775080600564474, Validation Accuracy: 0.508557457212714\n",
            "Epoch 4 ----------------------------------- \n",
            " Train Loss: 0.9160170391716028, Train Accuracy: 0.5645161290322581,  Validation Loss: 0.9759749922128004, Validation Accuracy: 0.511002444987775\n",
            "Epoch 5 ----------------------------------- \n",
            " Train Loss: 0.9124666848062603, Train Accuracy: 0.5654936461388075,  Validation Loss: 0.9745578765550154, Validation Accuracy: 0.5061124694376528\n",
            "Epoch 6 ----------------------------------- \n",
            " Train Loss: 0.9091798286454862, Train Accuracy: 0.5703812316715543,  Validation Loss: 0.9732459514279501, Validation Accuracy: 0.511002444987775\n",
            "Epoch 7 ----------------------------------- \n",
            " Train Loss: 0.9061459818750227, Train Accuracy: 0.5728250244379277,  Validation Loss: 0.9720360988852362, Validation Accuracy: 0.508557457212714\n",
            "Epoch 8 ----------------------------------- \n",
            " Train Loss: 0.903356793992403, Train Accuracy: 0.5738025415444771,  Validation Loss: 0.9709270498203728, Validation Accuracy: 0.511002444987775\n",
            "Epoch 9 ----------------------------------- \n",
            " Train Loss: 0.9008041241560973, Train Accuracy: 0.5757575757575758,  Validation Loss: 0.9699165770119467, Validation Accuracy: 0.5158924205378973\n",
            "Epoch 10 ----------------------------------- \n",
            " Train Loss: 0.8984786297169283, Train Accuracy: 0.5782013685239492,  Validation Loss: 0.9690006024435478, Validation Accuracy: 0.5158924205378973\n",
            "Epoch 11 ----------------------------------- \n",
            " Train Loss: 0.8963691498860911, Train Accuracy: 0.5782013685239492,  Validation Loss: 0.9681731295754954, Validation Accuracy: 0.511002444987775\n",
            "Epoch 12 ----------------------------------- \n",
            " Train Loss: 0.8944626309953293, Train Accuracy: 0.581622678396872,  Validation Loss: 0.9674264820791961, Validation Accuracy: 0.5158924205378973\n",
            "Epoch 13 ----------------------------------- \n",
            " Train Loss: 0.8927443586145415, Train Accuracy: 0.5826001955034213,  Validation Loss: 0.9667516565924681, Validation Accuracy: 0.5134474327628362\n",
            "Epoch 14 ----------------------------------- \n",
            " Train Loss: 0.891198356025778, Train Accuracy: 0.5840664711632454,  Validation Loss: 0.9661386983121116, Validation Accuracy: 0.5134474327628362\n",
            "Epoch 15 ----------------------------------- \n",
            " Train Loss: 0.889807865607038, Train Accuracy: 0.5855327468230694,  Validation Loss: 0.9655769391156752, Validation Accuracy: 0.5134474327628362\n",
            "Epoch 16 ----------------------------------- \n",
            " Train Loss: 0.8885558211286216, Train Accuracy: 0.5874877810361682,  Validation Loss: 0.965055178222936, Validation Accuracy: 0.5134474327628362\n",
            "Epoch 17 ----------------------------------- \n",
            " Train Loss: 0.8874252937291316, Train Accuracy: 0.5860215053763441,  Validation Loss: 0.9645623107774386, Validation Accuracy: 0.511002444987775\n",
            "Epoch 18 ----------------------------------- \n",
            " Train Loss: 0.886400080517998, Train Accuracy: 0.5865102639296188,  Validation Loss: 0.9640877531560053, Validation Accuracy: 0.5183374083129584\n",
            "Epoch 19 ----------------------------------- \n",
            " Train Loss: 0.8854652067374827, Train Accuracy: 0.5855327468230694,  Validation Loss: 0.9636218314441399, Validation Accuracy: 0.5207823960880196\n",
            "Epoch 20 ----------------------------------- \n",
            " Train Loss: 0.8846073127360736, Train Accuracy: 0.5884652981427175,  Validation Loss: 0.9631564922522049, Validation Accuracy: 0.5232273838630807\n",
            "Epoch 21 ----------------------------------- \n",
            " Train Loss: 0.8838149397146161, Train Accuracy: 0.5899315738025416,  Validation Loss: 0.9626865330292677, Validation Accuracy: 0.5207823960880196\n",
            "Epoch 22 ----------------------------------- \n",
            " Train Loss: 0.8830786540791191, Train Accuracy: 0.5904203323558163,  Validation Loss: 0.9622107953666225, Validation Accuracy: 0.5232273838630807\n",
            "Epoch 23 ----------------------------------- \n",
            " Train Loss: 0.8823909641732419, Train Accuracy: 0.5909090909090909,  Validation Loss: 0.9617303540499924, Validation Accuracy: 0.5232273838630807\n",
            "Epoch 24 ----------------------------------- \n",
            " Train Loss: 0.8817460818004247, Train Accuracy: 0.5918866080156403,  Validation Loss: 0.9612409852190326, Validation Accuracy: 0.5232273838630807\n",
            "Epoch 25 ----------------------------------- \n",
            " Train Loss: 0.8811396310147378, Train Accuracy: 0.5918866080156403,  Validation Loss: 0.9607248329077909, Validation Accuracy: 0.5256723716381418\n",
            "Epoch 26 ----------------------------------- \n",
            " Train Loss: 0.8805681313220162, Train Accuracy: 0.5918866080156403,  Validation Loss: 0.9601468674600122, Validation Accuracy: 0.5281173594132029\n",
            "Epoch 27 ----------------------------------- \n",
            " Train Loss: 0.8800280748871535, Train Accuracy: 0.5909090909090909,  Validation Loss: 0.9594564029528316, Validation Accuracy: 0.5256723716381418\n",
            "Epoch 28 ----------------------------------- \n",
            " Train Loss: 0.8795149793293005, Train Accuracy: 0.5894428152492669,  Validation Loss: 0.9585975864611676, Validation Accuracy: 0.5256723716381418\n",
            "Epoch 29 ----------------------------------- \n",
            " Train Loss: 0.8790231951332205, Train Accuracy: 0.5918866080156403,  Validation Loss: 0.9575274840149051, Validation Accuracy: 0.5232273838630807\n",
            "Epoch 30 ----------------------------------- \n",
            " Train Loss: 0.8785469286055432, Train Accuracy: 0.5913978494623656,  Validation Loss: 0.9562262836285074, Validation Accuracy: 0.5207823960880196\n"
          ]
        }
      ]
    }
  ]
}