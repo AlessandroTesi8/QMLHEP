{
 "cells": [
  {
   "cell_type": "code",
   "execution_count": 1,
   "metadata": {},
   "outputs": [],
   "source": [
    "import cirq\n",
    "import sympy\n",
    "n_qubit = 2\n",
    "q = [cirq.GridQubit(i, 0) for i in  range(n_qubit)]\n",
    "sampler = cirq.Simulator()\n",
    "\n",
    "x = sympy.IndexedBase('x')\n",
    "#x = sympy.symarray('x', 2)\n",
    "y1 = sympy.Symbol('y_0')\n",
    "y2 = sympy.Symbol('y_1')\n",
    "#args = (x[0],x[1])\n",
    "args = (y1, y2)"
   ]
  },
  {
   "cell_type": "code",
   "execution_count": 2,
   "metadata": {},
   "outputs": [],
   "source": [
    "\n",
    "cq = cirq.Circuit()\n",
    "cq.append(cirq.FSimGate(*args)(q[0],q[1]))\n",
    "cq.append(cirq.measure(q[0], key='out0'))\n",
    "cq.append(cirq.measure(q[1], key='out1'))"
   ]
  },
  {
   "cell_type": "code",
   "execution_count": 6,
   "metadata": {},
   "outputs": [
    {
     "data": {
      "text/plain": [
       "sympy.tensor.indexed.Indexed"
      ]
     },
     "execution_count": 6,
     "metadata": {},
     "output_type": "execute_result"
    }
   ],
   "source": [
    "type(x[1])"
   ]
  },
  {
   "cell_type": "code",
   "execution_count": 8,
   "metadata": {},
   "outputs": [
    {
     "ename": "ValueError",
     "evalue": "Circuit contains ops whose symbols were not specified in parameter sweep. Ops: [cirq.FSimGate(theta=Indexed(IndexedBase(sympy.Symbol('x')), sympy.Integer(0)), phi=Indexed(IndexedBase(sympy.Symbol('x')), sympy.Integer(1))).on(cirq.GridQubit(0, 0), cirq.GridQubit(1, 0))]",
     "output_type": "error",
     "traceback": [
      "\u001b[0;31m---------------------------------------------------------------------------\u001b[0m",
      "\u001b[0;31mValueError\u001b[0m                                Traceback (most recent call last)",
      "\u001b[0;32m<ipython-input-8-09e2e5b627dd>\u001b[0m in \u001b[0;36m<module>\u001b[0;34m\u001b[0m\n\u001b[1;32m      3\u001b[0m samples_sweep = sampler.sample(cq,\n\u001b[1;32m      4\u001b[0m                                \u001b[0mrepetitions\u001b[0m\u001b[0;34m=\u001b[0m\u001b[0mreps\u001b[0m\u001b[0;34m,\u001b[0m\u001b[0;34m\u001b[0m\u001b[0;34m\u001b[0m\u001b[0m\n\u001b[0;32m----> 5\u001b[0;31m                                params=params)\n\u001b[0m\u001b[1;32m      6\u001b[0m \u001b[0mprint\u001b[0m\u001b[0;34m(\u001b[0m\u001b[0msamples_sweep\u001b[0m\u001b[0;34m)\u001b[0m\u001b[0;34m\u001b[0m\u001b[0;34m\u001b[0m\u001b[0m\n",
      "\u001b[0;32m/afs/cern.ch/work/c/chlcheng/public/local/conda/miniconda/envs/ml-base/lib/python3.7/site-packages/cirq/work/sampler.py\u001b[0m in \u001b[0;36msample\u001b[0;34m(self, program, repetitions, params)\u001b[0m\n\u001b[1;32m    125\u001b[0m             sweep_results = self.run_sweep(program,\n\u001b[1;32m    126\u001b[0m                                            \u001b[0mparams\u001b[0m\u001b[0;34m=\u001b[0m\u001b[0msweep\u001b[0m\u001b[0;34m,\u001b[0m\u001b[0;34m\u001b[0m\u001b[0;34m\u001b[0m\u001b[0m\n\u001b[0;32m--> 127\u001b[0;31m                                            repetitions=repetitions)\n\u001b[0m\u001b[1;32m    128\u001b[0m             \u001b[0;32mfor\u001b[0m \u001b[0mresolver\u001b[0m\u001b[0;34m,\u001b[0m \u001b[0mresult\u001b[0m \u001b[0;32min\u001b[0m \u001b[0mzip\u001b[0m\u001b[0;34m(\u001b[0m\u001b[0msweep\u001b[0m\u001b[0;34m,\u001b[0m \u001b[0msweep_results\u001b[0m\u001b[0;34m)\u001b[0m\u001b[0;34m:\u001b[0m\u001b[0;34m\u001b[0m\u001b[0;34m\u001b[0m\u001b[0m\n\u001b[1;32m    129\u001b[0m                 \u001b[0mparam_values_once\u001b[0m \u001b[0;34m=\u001b[0m \u001b[0;34m[\u001b[0m\u001b[0mresolver\u001b[0m\u001b[0;34m.\u001b[0m\u001b[0mvalue_of\u001b[0m\u001b[0;34m(\u001b[0m\u001b[0mkey\u001b[0m\u001b[0;34m)\u001b[0m \u001b[0;32mfor\u001b[0m \u001b[0mkey\u001b[0m \u001b[0;32min\u001b[0m \u001b[0mkeys\u001b[0m\u001b[0;34m]\u001b[0m\u001b[0;34m\u001b[0m\u001b[0;34m\u001b[0m\u001b[0m\n",
      "\u001b[0;32m/afs/cern.ch/work/c/chlcheng/public/local/conda/miniconda/envs/ml-base/lib/python3.7/site-packages/cirq/sim/simulator.py\u001b[0m in \u001b[0;36mrun_sweep\u001b[0;34m(self, program, params, repetitions)\u001b[0m\n\u001b[1;32m     85\u001b[0m             measurements = self._run(circuit=program,\n\u001b[1;32m     86\u001b[0m                                      \u001b[0mparam_resolver\u001b[0m\u001b[0;34m=\u001b[0m\u001b[0mparam_resolver\u001b[0m\u001b[0;34m,\u001b[0m\u001b[0;34m\u001b[0m\u001b[0;34m\u001b[0m\u001b[0m\n\u001b[0;32m---> 87\u001b[0;31m                                      repetitions=repetitions)\n\u001b[0m\u001b[1;32m     88\u001b[0m             trial_results.append(\n\u001b[1;32m     89\u001b[0m                 study.TrialResult.from_single_parameter_set(\n",
      "\u001b[0;32m/afs/cern.ch/work/c/chlcheng/public/local/conda/miniconda/envs/ml-base/lib/python3.7/site-packages/cirq/sim/sparse_simulator.py\u001b[0m in \u001b[0;36m_run\u001b[0;34m(self, circuit, param_resolver, repetitions)\u001b[0m\n\u001b[1;32m    161\u001b[0m         \u001b[0mparam_resolver\u001b[0m \u001b[0;34m=\u001b[0m \u001b[0mparam_resolver\u001b[0m \u001b[0;32mor\u001b[0m \u001b[0mstudy\u001b[0m\u001b[0;34m.\u001b[0m\u001b[0mParamResolver\u001b[0m\u001b[0;34m(\u001b[0m\u001b[0;34m{\u001b[0m\u001b[0;34m}\u001b[0m\u001b[0;34m)\u001b[0m\u001b[0;34m\u001b[0m\u001b[0;34m\u001b[0m\u001b[0m\n\u001b[1;32m    162\u001b[0m         \u001b[0mresolved_circuit\u001b[0m \u001b[0;34m=\u001b[0m \u001b[0mprotocols\u001b[0m\u001b[0;34m.\u001b[0m\u001b[0mresolve_parameters\u001b[0m\u001b[0;34m(\u001b[0m\u001b[0mcircuit\u001b[0m\u001b[0;34m,\u001b[0m \u001b[0mparam_resolver\u001b[0m\u001b[0;34m)\u001b[0m\u001b[0;34m\u001b[0m\u001b[0;34m\u001b[0m\u001b[0m\n\u001b[0;32m--> 163\u001b[0;31m         \u001b[0mself\u001b[0m\u001b[0;34m.\u001b[0m\u001b[0m_check_all_resolved\u001b[0m\u001b[0;34m(\u001b[0m\u001b[0mresolved_circuit\u001b[0m\u001b[0;34m)\u001b[0m\u001b[0;34m\u001b[0m\u001b[0;34m\u001b[0m\u001b[0m\n\u001b[0m\u001b[1;32m    164\u001b[0m \u001b[0;34m\u001b[0m\u001b[0m\n\u001b[1;32m    165\u001b[0m         \u001b[0;32mdef\u001b[0m \u001b[0mmeasure_or_mixture\u001b[0m\u001b[0;34m(\u001b[0m\u001b[0mop\u001b[0m\u001b[0;34m)\u001b[0m\u001b[0;34m:\u001b[0m\u001b[0;34m\u001b[0m\u001b[0;34m\u001b[0m\u001b[0m\n",
      "\u001b[0;32m/afs/cern.ch/work/c/chlcheng/public/local/conda/miniconda/envs/ml-base/lib/python3.7/site-packages/cirq/sim/sparse_simulator.py\u001b[0m in \u001b[0;36m_check_all_resolved\u001b[0;34m(self, circuit)\u001b[0m\n\u001b[1;32m    375\u001b[0m             raise ValueError(\n\u001b[1;32m    376\u001b[0m                 \u001b[0;34m'Circuit contains ops whose symbols were not specified in '\u001b[0m\u001b[0;34m\u001b[0m\u001b[0;34m\u001b[0m\u001b[0m\n\u001b[0;32m--> 377\u001b[0;31m                 'parameter sweep. Ops: {}'.format(unresolved))\n\u001b[0m\u001b[1;32m    378\u001b[0m \u001b[0;34m\u001b[0m\u001b[0m\n\u001b[1;32m    379\u001b[0m \u001b[0;34m\u001b[0m\u001b[0m\n",
      "\u001b[0;31mValueError\u001b[0m: Circuit contains ops whose symbols were not specified in parameter sweep. Ops: [cirq.FSimGate(theta=Indexed(IndexedBase(sympy.Symbol('x')), sympy.Integer(0)), phi=Indexed(IndexedBase(sympy.Symbol('x')), sympy.Integer(1))).on(cirq.GridQubit(0, 0), cirq.GridQubit(1, 0))]"
     ]
    }
   ],
   "source": [
    "params = [{'x[0]': 0.5, 'x[1]':0.2}]\n",
    "reps=5\n",
    "samples_sweep = sampler.sample(cq,\n",
    "                               repetitions=reps,\n",
    "                               params=params)\n",
    "print(samples_sweep)"
   ]
  },
  {
   "cell_type": "code",
   "execution_count": null,
   "metadata": {},
   "outputs": [],
   "source": []
  }
 ],
 "metadata": {
  "kernelspec": {
   "display_name": "Python 3",
   "language": "python",
   "name": "python3"
  },
  "language_info": {
   "codemirror_mode": {
    "name": "ipython",
    "version": 3
   },
   "file_extension": ".py",
   "mimetype": "text/x-python",
   "name": "python",
   "nbconvert_exporter": "python",
   "pygments_lexer": "ipython3",
   "version": "3.7.6"
  }
 },
 "nbformat": 4,
 "nbformat_minor": 4
}
