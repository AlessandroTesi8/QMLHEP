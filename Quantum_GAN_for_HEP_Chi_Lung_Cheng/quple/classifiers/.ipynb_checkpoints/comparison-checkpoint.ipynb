{
 "cells": [
  {
   "cell_type": "code",
   "execution_count": 1,
   "metadata": {},
   "outputs": [],
   "source": [
    "import numpy as np\n",
    "from pdb import set_trace"
   ]
  },
  {
   "cell_type": "code",
   "execution_count": 2,
   "metadata": {},
   "outputs": [],
   "source": [
    "import quple\n",
    "from quple.classifiers import QSVM, QSVMLogger\n",
    "from quple.data_encoding import  EncodingCircuit\n",
    "from quple import ParameterisedCircuit, PauliBlock\n",
    "from quple.data_encoding.encoding_maps import trial_2"
   ]
  },
  {
   "cell_type": "code",
   "execution_count": 3,
   "metadata": {},
   "outputs": [],
   "source": [
    "from sklearn.preprocessing import StandardScaler, MinMaxScaler\n",
    "from sklearn.decomposition import PCA\n",
    "from quple.components.data_preparation import prepare_train_val_test"
   ]
  },
  {
   "cell_type": "code",
   "execution_count": 14,
   "metadata": {},
   "outputs": [],
   "source": [
    "import glob\n",
    "files = glob.glob('/eos/atlas/unpledged/group-wisc/users/shsun/for_akaid/check_kernel/*.npz')\n",
    "data = [dict(np.load(f,allow_pickle=True)) for f in files]\n",
    "data_quple = dict(np.load('/eos/home-c/chlcheng/qsvm/validation2/best/combined_result.npz',allow_pickle=True))"
   ]
  },
  {
   "cell_type": "code",
   "execution_count": 23,
   "metadata": {},
   "outputs": [
    {
     "name": "stdout",
     "output_type": "stream",
     "text": [
      "shaojun auc: 0.9027999999999999; best degree: 0\n",
      "Alkaid auc: 0.9027999999999999; best degree: 0\n",
      "\n",
      "shaojun auc: 0.8512; best degree: 5\n",
      "Alkaid auc: 0.8532; best degree: 3\n",
      "\n",
      "shaojun auc: 0.8924000000000001; best degree: 4\n",
      "Alkaid auc: 0.8924000000000001; best degree: 4\n",
      "\n",
      "shaojun auc: 0.8296; best degree: 0\n",
      "Alkaid auc: 0.8503999999999999; best degree: 3\n",
      "\n",
      "shaojun auc: 0.8486; best degree: 2\n",
      "Alkaid auc: 0.8486; best degree: 2\n",
      "\n",
      "shaojun auc: 0.912; best degree: 1\n",
      "Alkaid auc: 0.912; best degree: 1\n",
      "\n",
      "shaojun auc: 0.862; best degree: 2\n",
      "Alkaid auc: 0.9116000000000001; best degree: 4\n",
      "\n",
      "shaojun auc: 0.8463999999999999; best degree: 1\n",
      "Alkaid auc: 0.8464; best degree: 1\n",
      "\n",
      "shaojun auc: 0.9203999999999999; best degree: 3\n",
      "Alkaid auc: 0.9264; best degree: 0\n",
      "\n",
      "shaojun auc: 0.8552; best degree: 3\n",
      "Alkaid auc: 0.856; best degree: 4\n",
      "\n",
      "shaojun auc: 0.8276; best degree: 5\n",
      "Alkaid auc: 0.8276; best degree: 5\n",
      "\n",
      "shaojun auc: 0.8964; best degree: 4\n",
      "Alkaid auc: 0.8964; best degree: 4\n",
      "\n",
      "shaojun auc: 0.8984; best degree: 3\n",
      "Alkaid auc: 0.8984; best degree: 3\n",
      "\n",
      "shaojun auc: 0.7856000000000001; best degree: 2\n",
      "Alkaid auc: 0.8228; best degree: 0\n",
      "\n",
      "shaojun auc: 0.9231999999999999; best degree: 4\n",
      "Alkaid auc: 0.9231999999999999; best degree: 4\n",
      "\n",
      "shaojun auc: 0.8240000000000001; best degree: 2\n",
      "Alkaid auc: 0.8240000000000001; best degree: 2\n",
      "\n",
      "shaojun auc: 0.8648; best degree: 4\n",
      "Alkaid auc: 0.8659999999999999; best degree: 3\n",
      "\n",
      "shaojun auc: 0.858; best degree: 1\n",
      "Alkaid auc: 0.8976; best degree: 3\n",
      "\n",
      "shaojun auc: 0.914; best degree: 0\n",
      "Alkaid auc: 0.9139999999999999; best degree: 0\n",
      "\n",
      "shaojun auc: 0.8684; best degree: 4\n",
      "Alkaid auc: 0.868; best degree: 4\n",
      "\n",
      "shaojun auc: 0.746; best degree: 0\n",
      "Alkaid auc: 0.794; best degree: 4\n",
      "\n",
      "shaojun auc: 0.9032; best degree: 3\n",
      "Alkaid auc: 0.9032; best degree: 3\n",
      "\n",
      "shaojun auc: 0.8936000000000001; best degree: 2\n",
      "Alkaid auc: 0.8936000000000001; best degree: 2\n",
      "\n",
      "shaojun auc: 0.8175999999999999; best degree: 5\n",
      "Alkaid auc: 0.8184; best degree: 3\n",
      "\n",
      "shaojun auc: 0.8228000000000001; best degree: 0\n",
      "Alkaid auc: 0.8688; best degree: 3\n",
      "\n",
      "shaojun auc: 0.8868; best degree: 4\n",
      "Alkaid auc: 0.8868; best degree: 4\n",
      "\n",
      "shaojun auc: 0.8615999999999999; best degree: 1\n",
      "Alkaid auc: 0.8784000000000001; best degree: 0\n",
      "\n",
      "shaojun auc: 0.8236; best degree: 5\n",
      "Alkaid auc: 0.8292; best degree: 2\n",
      "\n",
      "shaojun auc: 0.8476; best degree: 5\n",
      "Alkaid auc: 0.8472; best degree: 5\n",
      "\n",
      "shaojun auc: 0.8064; best degree: 5\n",
      "Alkaid auc: 0.8064; best degree: 5\n",
      "\n"
     ]
    }
   ],
   "source": [
    "for d in data:\n",
    "    for dq in data_quple['qsvm'].item()[(10, 100)]['raw']:\n",
    "        if all(dq['y_test'] == d['y_test']):\n",
    "            print('shaojun auc: {}; best degree: {}'.format(d['auc'], d['best_degree']))\n",
    "            print('Alkaid auc: {}; best degree: {}'.format(dq['auc'], dq['degree']))\n",
    "            print('')\n",
    "            continue"
   ]
  },
  {
   "cell_type": "code",
   "execution_count": 4,
   "metadata": {},
   "outputs": [],
   "source": [
    "# data preparation\n",
    "data = np.load('/afs/cern.ch/work/c/chlcheng/Repository/quple/data/ttH_padded.npy')\n",
    "x = data[:, :-1]\n",
    "y = data[:, -1]\n",
    "\n",
    "n_trials = 20\n",
    "depth = 2\n",
    "\n",
    "\n",
    "for n_qubit in n_qubits:\n",
    "    qiskit_encoding_circuit = FeatureMapDev(n_qubit, reps=depth, paulis=['Z','Y','ZZ'], data_map_func=trial_0_qiskit, entanglement='alternate_linear')\n",
    "    preprocessors = [PCA(n_components=n_qubit, random_state=3), StandardScaler(), MinMaxScaler((-1,1))]\n",
    "    for n_event in n_events:\n",
    "        for i in range(n_trials):\n",
    "            seed = random_seed*i\n",
    "            # split the data into training set, validation set and test set\n",
    "            x_train, x_val, x_test, y_train, y_val, y_test = prepare_train_val_test(x, y, train_size=n_event, \n",
    "                                                                                    val_size=n_event, test_size=n_event, \n",
    "                                                                                    preprocessors=preprocessors, random_state=seed, stratify=y)                                  \n",
    "            print('INFO: Training trial {} for {} qubit and {} events'.format(i, n_qubit, n_event))\n",
    "            QSVM.run(qiskit_encoding_circuit, x_train, y_train, x_test, y_test, backend=quantum_instance)"
   ]
  },
  {
   "cell_type": "code",
   "execution_count": 5,
   "metadata": {},
   "outputs": [
    {
     "data": {
      "text/plain": [
       "{'x_train': array([[-0.87156579, -0.44578897, -0.0366809 , ..., -0.24385284,\n",
       "         -0.12238717,  0.13932368],\n",
       "        [-0.8610793 , -0.36923313, -0.11685266, ..., -0.26976105,\n",
       "         -0.25074945, -0.14075166],\n",
       "        [-0.92503122, -0.25493515,  0.00244956, ...,  0.15334179,\n",
       "          0.09888489,  0.0678761 ],\n",
       "        ...,\n",
       "        [-0.84718065, -0.37925286, -0.11369864, ..., -0.20673822,\n",
       "         -0.2724015 , -0.12339129],\n",
       "        [-0.86409091, -0.37607929, -0.15153269, ..., -0.47856422,\n",
       "          0.00375979, -0.22203975],\n",
       "        [-0.89632667, -0.39850334, -0.03019062, ..., -0.36525518,\n",
       "         -0.16185926,  0.09247356]]),\n",
       " 'y_train': array([0, 1, 0, 1, 0, 1, 0, 0, 1, 0, 0, 0, 1, 0, 1, 1, 1, 1, 1, 0, 1, 0,\n",
       "        1, 1, 1, 0, 1, 1, 1, 1, 1, 1, 1, 1, 1, 0, 1, 1, 1, 0, 1, 0, 0, 1,\n",
       "        1, 0, 0, 0, 1, 0, 1, 1, 1, 1, 1, 0, 0, 0, 1, 1, 0, 1, 0, 0, 0, 0,\n",
       "        0, 0, 1, 1, 0, 1, 1, 1, 1, 1, 1, 0, 0, 1, 0, 0, 1, 0, 0, 1, 0, 0,\n",
       "        0, 0, 0, 1, 0, 0, 0, 0, 0, 0, 1, 0, 1, 0, 0, 1, 0, 1, 0, 0, 0, 1,\n",
       "        0, 0, 0, 1, 0, 1, 1, 0, 1, 0, 1, 0, 0, 0, 1, 0, 1, 1, 0, 0, 1, 1,\n",
       "        0, 1, 0, 1, 1, 0, 1, 1, 1, 0, 1, 0, 0, 1, 1, 1, 1, 0, 0, 0, 1, 1,\n",
       "        0, 1, 0, 1, 0, 0, 1, 0, 1, 1, 1, 1, 0, 1, 0, 1, 1, 1, 0, 0, 0, 1,\n",
       "        1, 1, 1, 1, 0, 0, 0, 1, 0, 1, 1, 1, 0, 0, 0, 1, 0, 0, 0, 1, 0, 0,\n",
       "        0, 0]),\n",
       " 'x_val': array([[-0.69000421, -0.26652671, -0.33148288, ..., -0.35188281,\n",
       "          0.12208718,  0.11866251],\n",
       "        [-0.65606595, -0.39710553,  0.22466062, ..., -0.20608486,\n",
       "         -0.31132136, -0.01191017],\n",
       "        [-0.84186782, -0.37772867, -0.0123274 , ...,  0.51392514,\n",
       "          0.08201559, -0.14202081],\n",
       "        ...,\n",
       "        [-0.76607576, -0.18379095, -0.04222951, ...,  0.04354277,\n",
       "         -0.19346561,  0.16148895],\n",
       "        [-0.7610944 , -0.33933771, -0.15775296, ...,  0.44403268,\n",
       "          0.0485788 , -0.14575078],\n",
       "        [-0.86966436, -0.12162969,  0.1806131 , ...,  0.00203942,\n",
       "         -0.29274794, -0.13128973]]),\n",
       " 'y_val': array([1, 0, 1, 0, 1, 1, 0, 1, 1, 0, 0, 1, 0, 0, 0, 0, 0, 1, 1, 0, 1, 1,\n",
       "        0, 1, 0, 1, 1, 1, 1, 0, 0, 0, 1, 0, 0, 1, 1, 0, 0, 0, 1, 0, 0, 1,\n",
       "        1, 1, 0, 0, 0, 0, 1, 0, 1, 1, 1, 0, 0, 0, 0, 1, 1, 0, 0, 1, 1, 1,\n",
       "        0, 1, 1, 0, 1, 0, 1, 1, 1, 0, 0, 0, 1, 1, 1, 0, 1, 0, 0, 1, 0, 0,\n",
       "        0, 0, 1, 0, 0, 1, 0, 0, 1, 0, 0, 0, 1, 0, 0, 0, 1, 1, 0, 0, 0, 1,\n",
       "        1, 1, 1, 1, 1, 0, 0, 0, 1, 0, 0, 1, 0, 1, 1, 0, 0, 1, 0, 1, 1, 1,\n",
       "        0, 1, 0, 1, 1, 1, 0, 1, 0, 1, 0, 0, 0, 1, 1, 1, 1, 0, 0, 0, 1, 0,\n",
       "        1, 1, 1, 0, 1, 0, 1, 0, 0, 1, 0, 1, 1, 1, 1, 1, 0, 0, 0, 0, 1, 1,\n",
       "        1, 0, 0, 1, 1, 0, 1, 1, 0, 1, 0, 1, 0, 1, 1, 0, 0, 1, 0, 1, 0, 1,\n",
       "        0, 1]),\n",
       " 'x_test': array([[-0.89272854, -0.3477838 , -0.09816616, ...,  0.10455696,\n",
       "         -0.04915718, -0.05751487],\n",
       "        [-0.86960642, -0.36837438, -0.14870188, ...,  0.24023972,\n",
       "          0.24417416,  0.0962903 ],\n",
       "        [-0.58684123, -0.30410385, -0.26254425, ..., -0.10592702,\n",
       "         -0.28053721, -0.03364153],\n",
       "        ...,\n",
       "        [-0.86574647, -0.25881411, -0.11197992, ..., -0.42137253,\n",
       "         -0.00131084,  0.2398696 ],\n",
       "        [-0.75125317, -0.49920984, -0.04299391, ...,  0.28529458,\n",
       "         -0.23448593, -0.2440701 ],\n",
       "        [-0.79320995, -0.15474875, -0.13266266, ..., -0.01756956,\n",
       "         -0.26659508,  0.0760382 ]]),\n",
       " 'y_test': array([0, 0, 1, 1, 0, 1, 1, 0, 0, 1, 0, 1, 0, 0, 0, 1, 1, 1, 1, 1, 1, 1,\n",
       "        1, 1, 1, 1, 1, 1, 0, 0, 1, 1, 0, 1, 1, 1, 0, 1, 1, 1, 1, 0, 0, 0,\n",
       "        0, 1, 0, 1, 0, 1, 0, 1, 0, 1, 0, 1, 1, 0, 1, 0, 0, 0, 0, 1, 1, 0,\n",
       "        0, 0, 1, 0, 0, 0, 1, 1, 1, 0, 0, 1, 0, 1, 1, 1, 1, 1, 0, 0, 0, 1,\n",
       "        1, 0, 0, 0, 1, 1, 0, 0, 1, 1, 1, 0, 0, 0, 0, 0, 0, 0, 0, 0, 0, 1,\n",
       "        1, 0, 1, 0, 1, 0, 1, 1, 0, 1, 0, 0, 1, 0, 0, 0, 1, 0, 0, 0, 0, 0,\n",
       "        1, 1, 1, 1, 0, 0, 1, 0, 1, 1, 1, 1, 0, 1, 0, 0, 0, 0, 1, 0, 0, 0,\n",
       "        1, 1, 1, 1, 0, 1, 1, 0, 1, 1, 0, 1, 0, 1, 1, 1, 0, 1, 0, 0, 0, 1,\n",
       "        0, 0, 1, 0, 1, 0, 0, 0, 0, 1, 1, 0, 1, 1, 1, 0, 0, 0, 0, 1, 1, 1,\n",
       "        0, 1])}"
      ]
     },
     "execution_count": 5,
     "metadata": {},
     "output_type": "execute_result"
    }
   ],
   "source": [
    "data[0]"
   ]
  },
  {
   "cell_type": "code",
   "execution_count": null,
   "metadata": {},
   "outputs": [],
   "source": []
  },
  {
   "cell_type": "code",
   "execution_count": null,
   "metadata": {},
   "outputs": [],
   "source": []
  },
  {
   "cell_type": "code",
   "execution_count": null,
   "metadata": {},
   "outputs": [],
   "source": []
  },
  {
   "cell_type": "code",
   "execution_count": 178,
   "metadata": {},
   "outputs": [],
   "source": [
    "# load qsvm instance\n",
    "backend_name = 'statevector_simulator'\n",
    "n_shots = 1024\n",
    "aqua_globals.random_seed = random_seed\n",
    "quantum_instance = QuantumInstance(Aer.get_backend(backend_name), \n",
    "                                   shots=n_shots, \n",
    "                                   seed_simulator=random_seed, \n",
    "                                   seed_transpiler=random_seed,\n",
    "                                   noise_model=None)"
   ]
  },
  {
   "cell_type": "code",
   "execution_count": 179,
   "metadata": {},
   "outputs": [],
   "source": [
    "# load feature map\n",
    "depth = 3\n",
    "entanglement = 'full'\n",
    "feature_map = ZZFeatureMap(n_qubit, reps=depth, entanglement=entanglement)"
   ]
  },
  {
   "cell_type": "code",
   "execution_count": 180,
   "metadata": {},
   "outputs": [],
   "source": [
    "# load qsvm instance\n",
    "batch_size = 200\n",
    "qsvm = QSVM(feature_map)\n",
    "qsvm.BATCH_SIZE = batch_size"
   ]
  },
  {
   "cell_type": "code",
   "execution_count": 181,
   "metadata": {},
   "outputs": [],
   "source": [
    "if isinstance(feature_map, QuantumCircuit):\n",
    "            use_parameterized_circuits = True\n",
    "else:\n",
    "    use_parameterized_circuits = feature_map.support_parameterized_circuit"
   ]
  },
  {
   "cell_type": "code",
   "execution_count": 182,
   "metadata": {},
   "outputs": [],
   "source": [
    "x1_vec = x_train\n",
    "x2_vec=None"
   ]
  },
  {
   "cell_type": "code",
   "execution_count": 183,
   "metadata": {},
   "outputs": [],
   "source": [
    "if x2_vec is None:\n",
    "    is_symmetric = True\n",
    "    x2_vec = x1_vec\n",
    "else:\n",
    "    is_symmetric = False\n",
    "\n",
    "is_statevector_sim = quantum_instance.is_statevector\n",
    "\n",
    "measurement = not is_statevector_sim"
   ]
  },
  {
   "cell_type": "code",
   "execution_count": 184,
   "metadata": {},
   "outputs": [],
   "source": [
    "measurement_basis = '0' * feature_map.num_qubits\n",
    "mat = np.ones((x1_vec.shape[0], x2_vec.shape[0]))"
   ]
  },
  {
   "cell_type": "code",
   "execution_count": 185,
   "metadata": {},
   "outputs": [],
   "source": [
    "# get all indices\n",
    "if is_symmetric:\n",
    "    mus, nus = np.triu_indices(x1_vec.shape[0], k=1)  # remove diagonal term\n",
    "else:\n",
    "    mus, nus = np.indices((x1_vec.shape[0], x2_vec.shape[0]))\n",
    "    mus = np.asarray(mus.flat)\n",
    "    nus = np.asarray(nus.flat)"
   ]
  },
  {
   "cell_type": "code",
   "execution_count": 186,
   "metadata": {},
   "outputs": [],
   "source": [
    "if is_symmetric:\n",
    "    to_be_computed_data = x1_vec\n",
    "else:\n",
    "    to_be_computed_data = np.concatenate((x1_vec, x2_vec))"
   ]
  },
  {
   "cell_type": "code",
   "execution_count": 187,
   "metadata": {},
   "outputs": [],
   "source": [
    "# build parameterized circuits, it could be slower for building circuit\n",
    "# but overall it should be faster since it only transpile one circuit\n",
    "feature_map_params = ParameterVector('x', feature_map.feature_dimension)\n",
    "parameterized_circuit = QSVM._construct_circuit(\n",
    "    (feature_map_params, feature_map_params), feature_map, measurement,\n",
    "    is_statevector_sim=is_statevector_sim)\n",
    "parameterized_circuit = quantum_instance.transpile(parameterized_circuit)[0]\n",
    "circuits = [parameterized_circuit.assign_parameters({feature_map_params: x})\n",
    "            for x in to_be_computed_data]"
   ]
  },
  {
   "cell_type": "code",
   "execution_count": 188,
   "metadata": {},
   "outputs": [],
   "source": [
    "results = quantum_instance.execute(circuits,\n",
    "                                   had_transpiled=use_parameterized_circuits)"
   ]
  },
  {
   "cell_type": "code",
   "execution_count": null,
   "metadata": {},
   "outputs": [],
   "source": [
    "import glob\n",
    "files = glob.glob('/afs/cern.ch/work/c/chlcheng/Repository/logs/*.npz')\n",
    "combined_result = {}\n",
    "for "
   ]
  }
 ],
 "metadata": {
  "kernelspec": {
   "display_name": "Python 3",
   "language": "python",
   "name": "python3"
  },
  "language_info": {
   "codemirror_mode": {
    "name": "ipython",
    "version": 3
   },
   "file_extension": ".py",
   "mimetype": "text/x-python",
   "name": "python",
   "nbconvert_exporter": "python",
   "pygments_lexer": "ipython3",
   "version": "3.7.6"
  }
 },
 "nbformat": 4,
 "nbformat_minor": 4
}
