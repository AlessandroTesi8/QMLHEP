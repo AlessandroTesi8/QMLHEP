{
 "cells": [
  {
   "cell_type": "code",
   "execution_count": null,
   "id": "unnecessary-pharmacology",
   "metadata": {
    "id": "unnecessary-pharmacology"
   },
   "outputs": [],
   "source": [
    "if 'google.colab' in str(get_ipython()):\n",
    "  # install packages required for this tutorial\n",
    "  !pip install tensorflow==2.3.1\n",
    "  !pip install tensorflow_quantum==0.4.0\n",
    "  !pip install quple==0.7.8"
   ]
  },
  {
   "cell_type": "markdown",
   "id": "frequent-thunder",
   "metadata": {
    "id": "frequent-thunder"
   },
   "source": [
    "# Tutorial-03 Interaction Graphs\n",
    "\n",
    "In this tutorial, you will learn:\n",
    "\n",
    "- Various build-in interaction graphs for connecting qubits with multi-qubit gate operations\n",
    "- Construct your own interaction graphs"
   ]
  },
  {
   "cell_type": "markdown",
   "id": "normal-raise",
   "metadata": {
    "id": "normal-raise"
   },
   "source": [
    "## Interaction Graphs\n",
    "An interaction graph determines how the qubits in a quantum circuit are connected by a specific gate operation. In the circuit centric architecture, all qubits must be touched by the gate operation at least once. If the gate operation acts on $m$ qubits for a circuit with $n$ qubits then an interaction graph for that gate operation will consist of a collection of distinct $m$-tuple of qubits created from the $n$ circuit qubits. The most common use cases for an interaction graph is to determine how qubits are entangled by a two-qubit gate operation. \n",
    "    \n",
    "The interaction graph category implemented by `quple` are: \n",
    "​\n",
    "* `linear` (or `nearest_neighbor`)\n",
    "​\n",
    "* `cyclic` (or `circular`),\n",
    "​\n",
    "* `star`\n",
    "​\n",
    "* `full` (or `fully_connected`)\n",
    "​\n",
    "* `alternate_linear`\n",
    "​\n",
    "* `alternate_cyclic`\n",
    "​\n",
    "* `filter_mesh` (for Quantum GAN)\n",
    "​\n",
    "* `pool_mesh` (for Quantum GAN)\n",
    "​"
   ]
  },
  {
   "cell_type": "code",
   "execution_count": null,
   "id": "environmental-butterfly",
   "metadata": {
    "id": "environmental-butterfly"
   },
   "outputs": [],
   "source": [
    "from quple.components.interaction_graphs import nearest_neighbor, cyclic, star, fully_connected, alternate_linear, alternate_cyclic"
   ]
  },
  {
   "cell_type": "markdown",
   "id": "smart-journal",
   "metadata": {
    "id": "smart-journal"
   },
   "source": [
    "### Interaction Graphs - Nearest Neighbor\n",
    "\n",
    "In the `nearest_neighbor` interaction, each qubit is connected to its next nearest neighbor in a linear manner."
   ]
  },
  {
   "cell_type": "code",
   "execution_count": null,
   "id": "collected-intro",
   "metadata": {
    "id": "collected-intro",
    "outputId": "1dac6ebc-f064-4a7b-dc4f-94a4a7d2579f"
   },
   "outputs": [
    {
     "data": {
      "text/plain": [
       "[(0, 1), (1, 2), (2, 3)]"
      ]
     },
     "execution_count": 2,
     "metadata": {
      "tags": []
     },
     "output_type": "execute_result"
    }
   ],
   "source": [
    "# Nearest neighbor interaction graph for 4 qubit system with 2 qubit interaction\n",
    "nearest_neighbor(n=4, m=2)    "
   ]
  },
  {
   "cell_type": "code",
   "execution_count": null,
   "id": "statistical-expense",
   "metadata": {
    "id": "statistical-expense",
    "outputId": "dacd9cda-d16f-4224-ef4f-44739fa243a1"
   },
   "outputs": [
    {
     "name": "stdout",
     "output_type": "stream",
     "text": [
      "(0, 0): ───@───────────\n",
      "           │\n",
      "(0, 1): ───X───@───────\n",
      "               │\n",
      "(0, 2): ───────X───@───\n",
      "                   │\n",
      "(0, 3): ───────────X───\n"
     ]
    }
   ],
   "source": [
    "from quple import ParameterisedCircuit\n",
    "# Building a circuit of 4 qubits with a layer of CNOT gates using\n",
    "# the nearest neighbor interaction graph\n",
    "circuit = ParameterisedCircuit(n_qubit=4)\n",
    "circuit.add_entanglement_layer(['CNOT'], entangle_strategy=nearest_neighbor)\n",
    "# Print out the circuit diagram\n",
    "print(circuit)"
   ]
  },
  {
   "cell_type": "code",
   "execution_count": null,
   "id": "executed-publisher",
   "metadata": {
    "id": "executed-publisher",
    "outputId": "b2dd99f1-d09c-406b-85af-babbca205b41"
   },
   "outputs": [
    {
     "name": "stdout",
     "output_type": "stream",
     "text": [
      "---------------------------\n",
      "(0, 0): ───@───────────\n",
      "           │\n",
      "(0, 1): ───X───@───────\n",
      "               │\n",
      "(0, 2): ───────X───@───\n",
      "                   │\n",
      "(0, 3): ───────────X───\n",
      "---------------------------\n",
      "(0, 0): ───@───────────\n",
      "           │\n",
      "(0, 1): ───X───@───────\n",
      "               │\n",
      "(0, 2): ───────X───@───\n",
      "                   │\n",
      "(0, 3): ───────────X───\n",
      "---------------------------\n"
     ]
    }
   ],
   "source": [
    "# alternatively, you can simply specify a string that corresponds to the entangle strategy\n",
    "# for example one can use `linear` or `nearest-neighbor` for using the nearest-neighbor interaction graphs\n",
    "circuit = ParameterisedCircuit(n_qubit=4, entanglement_blocks=['CNOT'], entangle_strategy='linear')\n",
    "print('---------------------------')\n",
    "print(circuit)\n",
    "circuit = ParameterisedCircuit(n_qubit=4, entanglement_blocks=['CNOT'], entangle_strategy='nearest_neighbor')\n",
    "print('---------------------------')\n",
    "print(circuit)\n",
    "print('---------------------------')"
   ]
  },
  {
   "cell_type": "markdown",
   "id": "opposite-plasma",
   "metadata": {
    "id": "opposite-plasma"
   },
   "source": [
    "## Interaction Graphs - Cyclic\n",
    "\n",
    "In the `cyclic` interaction, each qubit is connected to its next nearest neighbor in a circular manner."
   ]
  },
  {
   "cell_type": "code",
   "execution_count": null,
   "id": "expanded-guide",
   "metadata": {
    "id": "expanded-guide",
    "outputId": "f444844e-4c28-45c1-83f9-be47feb5a7f3"
   },
   "outputs": [
    {
     "data": {
      "text/plain": [
       "[(0, 1), (1, 2), (2, 3), (3, 0)]"
      ]
     },
     "execution_count": 5,
     "metadata": {
      "tags": []
     },
     "output_type": "execute_result"
    }
   ],
   "source": [
    "# Cyclic graph for 4 qubit system with 2 qubit interaction\n",
    "cyclic(n=4, m=2) "
   ]
  },
  {
   "cell_type": "code",
   "execution_count": null,
   "id": "piano-mother",
   "metadata": {
    "id": "piano-mother",
    "outputId": "90b19736-1607-4163-8cd5-1fcf77fe731a"
   },
   "outputs": [
    {
     "name": "stdout",
     "output_type": "stream",
     "text": [
      "(0, 0): ───@───────────X───@───────────X───\n",
      "           │           │   │           │\n",
      "(0, 1): ───X───@───────┼───X───@───────┼───\n",
      "               │       │       │       │\n",
      "(0, 2): ───────X───@───┼───────X───@───┼───\n",
      "                   │   │           │   │\n",
      "(0, 3): ───────────X───@───────────X───@───\n"
     ]
    }
   ],
   "source": [
    "# Building a circuit of 4 qubits with a layer of CNOT gates using\n",
    "# the cyclic interaction graph\n",
    "circuit = ParameterisedCircuit(n_qubit=4)\n",
    "circuit.add_entanglement_layer(['CNOT'], entangle_strategy='cyclic')\n",
    "circuit.add_entanglement_layer(['CNOT'], entangle_strategy='circular')\n",
    "# Print out the circuit diagram\n",
    "print(circuit)"
   ]
  },
  {
   "cell_type": "markdown",
   "id": "korean-removal",
   "metadata": {
    "id": "korean-removal"
   },
   "source": [
    "## Interaction Graphs - Star\n",
    "\n",
    "In the `star` interaction, the first qubit is connected to every other qubit."
   ]
  },
  {
   "cell_type": "code",
   "execution_count": null,
   "id": "helpful-strand",
   "metadata": {
    "id": "helpful-strand",
    "outputId": "cc37d391-a310-4fe2-fef2-db042bc8f3c2"
   },
   "outputs": [
    {
     "data": {
      "text/plain": [
       "[(0, 1), (0, 2), (0, 3)]"
      ]
     },
     "execution_count": 7,
     "metadata": {
      "tags": []
     },
     "output_type": "execute_result"
    }
   ],
   "source": [
    "# Star interaction graph for 4 qubit system with 2 qubit interaction\n",
    "star(n=4, m=2)  "
   ]
  },
  {
   "cell_type": "code",
   "execution_count": null,
   "id": "working-leone",
   "metadata": {
    "id": "working-leone",
    "outputId": "790ec097-46ab-4566-95cd-64b01a711bf6"
   },
   "outputs": [
    {
     "name": "stdout",
     "output_type": "stream",
     "text": [
      "(0, 0): ───@───@───@───\n",
      "           │   │   │\n",
      "(0, 1): ───X───┼───┼───\n",
      "               │   │\n",
      "(0, 2): ───────X───┼───\n",
      "                   │\n",
      "(0, 3): ───────────X───\n"
     ]
    }
   ],
   "source": [
    "# Building a circuit of 4 qubits with a layer of CNOT gates using\n",
    "# the fully connected interaction graph\n",
    "circuit = ParameterisedCircuit(n_qubit=4)\n",
    "circuit.add_entanglement_layer(['CNOT'], entangle_strategy='star')\n",
    "# Print out the circuit diagram\n",
    "print(circuit)"
   ]
  },
  {
   "cell_type": "markdown",
   "id": "theoretical-vacuum",
   "metadata": {
    "id": "theoretical-vacuum"
   },
   "source": [
    "## Interaction Graphs - Fully connected\n",
    "\n",
    "In the `fully_connected` interaction, every distinct ordered tuple of $m$ qubits are connected."
   ]
  },
  {
   "cell_type": "code",
   "execution_count": null,
   "id": "funded-smith",
   "metadata": {
    "id": "funded-smith",
    "outputId": "86d070f1-d0ba-4630-9367-2b88657ad7fa"
   },
   "outputs": [
    {
     "data": {
      "text/plain": [
       "[(0, 1), (0, 2), (0, 3), (1, 2), (1, 3), (2, 3)]"
      ]
     },
     "execution_count": 9,
     "metadata": {
      "tags": []
     },
     "output_type": "execute_result"
    }
   ],
   "source": [
    "# Fully connected interaction graph for 4 qubit system with 2 qubit interaction\n",
    "fully_connected(n=4, m=2)"
   ]
  },
  {
   "cell_type": "code",
   "execution_count": null,
   "id": "following-french",
   "metadata": {
    "id": "following-french",
    "outputId": "be6744ef-8b5a-4c8d-a587-ee8531870912"
   },
   "outputs": [
    {
     "data": {
      "text/html": [
       "<pre style=\"overflow: auto; white-space: pre;\">                   ┌──┐\n",
       "(0, 0): ───@───@────@─────────────\n",
       "           │   │    │\n",
       "(0, 1): ───X───┼────┼@────@───────\n",
       "               │    ││    │\n",
       "(0, 2): ───────X────┼X────┼───@───\n",
       "                    │     │   │\n",
       "(0, 3): ────────────X─────X───X───\n",
       "                   └──┘</pre>"
      ],
      "text/plain": [
       "                   ┌──┐\n",
       "(0, 0): ───@───@────@─────────────\n",
       "           │   │    │\n",
       "(0, 1): ───X───┼────┼@────@───────\n",
       "               │    ││    │\n",
       "(0, 2): ───────X────┼X────┼───@───\n",
       "                    │     │   │\n",
       "(0, 3): ────────────X─────X───X───\n",
       "                   └──┘"
      ]
     },
     "execution_count": 10,
     "metadata": {
      "tags": []
     },
     "output_type": "execute_result"
    }
   ],
   "source": [
    "# Building a circuit of 4 qubits with a layer of CNOT gates using\n",
    "# the fully connected interaction graph\n",
    "circuit = ParameterisedCircuit(n_qubit=4)\n",
    "circuit.add_entanglement_layer(['CNOT'], entangle_strategy='full')\n",
    "circuit"
   ]
  },
  {
   "cell_type": "markdown",
   "id": "religious-species",
   "metadata": {
    "id": "religious-species"
   },
   "source": [
    "## Interaction Graphs - Alternate Linear\n",
    "\n",
    "In the alternate, all neiboring qubits are connected but in an alternating manner"
   ]
  },
  {
   "cell_type": "code",
   "execution_count": null,
   "id": "proof-district",
   "metadata": {
    "id": "proof-district",
    "outputId": "73fa8f5b-575d-4b70-df4e-ce49a8d77d89"
   },
   "outputs": [
    {
     "data": {
      "text/plain": [
       "[(0, 1), (2, 3), (1, 2), (3, 4)]"
      ]
     },
     "execution_count": 11,
     "metadata": {
      "tags": []
     },
     "output_type": "execute_result"
    }
   ],
   "source": [
    "alternate_linear(n=5, m=2)"
   ]
  },
  {
   "cell_type": "code",
   "execution_count": null,
   "id": "mobile-message",
   "metadata": {
    "id": "mobile-message",
    "outputId": "34f90bb7-1b36-44c8-f561-cc502d9a97cd"
   },
   "outputs": [
    {
     "data": {
      "text/html": [
       "<pre style=\"overflow: auto; white-space: pre;\">(0, 0): ───@───────\n",
       "           │\n",
       "(0, 1): ───X───@───\n",
       "               │\n",
       "(0, 2): ───@───X───\n",
       "           │\n",
       "(0, 3): ───X───@───\n",
       "               │\n",
       "(0, 4): ───────X───</pre>"
      ],
      "text/plain": [
       "(0, 0): ───@───────\n",
       "           │\n",
       "(0, 1): ───X───@───\n",
       "               │\n",
       "(0, 2): ───@───X───\n",
       "           │\n",
       "(0, 3): ───X───@───\n",
       "               │\n",
       "(0, 4): ───────X───"
      ]
     },
     "execution_count": 12,
     "metadata": {
      "tags": []
     },
     "output_type": "execute_result"
    }
   ],
   "source": [
    "circuit = ParameterisedCircuit(n_qubit=5)\n",
    "circuit.add_entanglement_layer(['CNOT'], entangle_strategy='alternate_linear')\n",
    "circuit"
   ]
  },
  {
   "cell_type": "markdown",
   "id": "single-newspaper",
   "metadata": {
    "id": "single-newspaper"
   },
   "source": [
    "## Interaction Graphs - Alternate Cyclic\n",
    "\n",
    "In the alternate, all neiboring qubits are connected but in an alternating manner"
   ]
  },
  {
   "cell_type": "code",
   "execution_count": null,
   "id": "viral-hospital",
   "metadata": {
    "id": "viral-hospital",
    "outputId": "1decbe99-5e46-4ce2-9af9-7b55c52caeb4"
   },
   "outputs": [
    {
     "data": {
      "text/plain": [
       "[(0, 1), (2, 3), (1, 2), (3, 4), (4, 0)]"
      ]
     },
     "execution_count": 13,
     "metadata": {
      "tags": []
     },
     "output_type": "execute_result"
    }
   ],
   "source": [
    "alternate_cyclic(n=5, m=2)"
   ]
  },
  {
   "cell_type": "code",
   "execution_count": null,
   "id": "foster-split",
   "metadata": {
    "id": "foster-split",
    "outputId": "123bb3c5-6afa-411c-c31b-d79b02d8e879"
   },
   "outputs": [
    {
     "data": {
      "text/html": [
       "<pre style=\"overflow: auto; white-space: pre;\">(0, 0): ───@───────X───\n",
       "           │       │\n",
       "(0, 1): ───X───@───┼───\n",
       "               │   │\n",
       "(0, 2): ───@───X───┼───\n",
       "           │       │\n",
       "(0, 3): ───X───@───┼───\n",
       "               │   │\n",
       "(0, 4): ───────X───@───</pre>"
      ],
      "text/plain": [
       "(0, 0): ───@───────X───\n",
       "           │       │\n",
       "(0, 1): ───X───@───┼───\n",
       "               │   │\n",
       "(0, 2): ───@───X───┼───\n",
       "           │       │\n",
       "(0, 3): ───X───@───┼───\n",
       "               │   │\n",
       "(0, 4): ───────X───@───"
      ]
     },
     "execution_count": 14,
     "metadata": {
      "tags": []
     },
     "output_type": "execute_result"
    }
   ],
   "source": [
    "circuit = ParameterisedCircuit(n_qubit=5)\n",
    "circuit.add_entanglement_layer(['CNOT'], entangle_strategy='alternate_cyclic')\n",
    "circuit"
   ]
  },
  {
   "cell_type": "markdown",
   "id": "foreign-musician",
   "metadata": {
    "id": "foreign-musician"
   },
   "source": [
    "## Interaction Graphs - Custom Interaction Graph\n",
    "\n",
    "You can create your custom interaction graph that takes in two arguments: n is the number of qubits of the circuit and m is the number of qubits involved in one interaction. The function should return a list of tuples specifying the qubit connection."
   ]
  },
  {
   "cell_type": "code",
   "execution_count": null,
   "id": "broadband-semester",
   "metadata": {
    "id": "broadband-semester"
   },
   "outputs": [],
   "source": [
    "def my_interaction(n, m=2):\n",
    "    if m != 2:\n",
    "        raise ValueError('Only 2 qubit gates are allowed for this interaction map')\n",
    "    return [(i, i+2) for i in range(n - 2)]"
   ]
  },
  {
   "cell_type": "code",
   "execution_count": null,
   "id": "trained-defeat",
   "metadata": {
    "id": "trained-defeat",
    "outputId": "b30e1945-f5fe-494a-a0c8-b2cb69ce5192"
   },
   "outputs": [
    {
     "data": {
      "text/plain": [
       "[(0, 2), (1, 3), (2, 4)]"
      ]
     },
     "execution_count": 16,
     "metadata": {
      "tags": []
     },
     "output_type": "execute_result"
    }
   ],
   "source": [
    "# Custom interaction graph for 4 qubit system with 2 qubit interaction\n",
    "my_interaction(n=5, m=2)"
   ]
  },
  {
   "cell_type": "code",
   "execution_count": null,
   "id": "considerable-rental",
   "metadata": {
    "id": "considerable-rental",
    "outputId": "165cd787-de52-47b1-80fb-982828b7a74d"
   },
   "outputs": [
    {
     "data": {
      "text/html": [
       "<pre style=\"overflow: auto; white-space: pre;\">           ┌──┐\n",
       "(0, 0): ────@─────────\n",
       "            │\n",
       "(0, 1): ────┼@────────\n",
       "            ││\n",
       "(0, 2): ────X┼────@───\n",
       "             │    │\n",
       "(0, 3): ─────X────┼───\n",
       "                  │\n",
       "(0, 4): ──────────X───\n",
       "           └──┘</pre>"
      ],
      "text/plain": [
       "           ┌──┐\n",
       "(0, 0): ────@─────────\n",
       "            │\n",
       "(0, 1): ────┼@────────\n",
       "            ││\n",
       "(0, 2): ────X┼────@───\n",
       "             │    │\n",
       "(0, 3): ─────X────┼───\n",
       "                  │\n",
       "(0, 4): ──────────X───\n",
       "           └──┘"
      ]
     },
     "execution_count": 17,
     "metadata": {
      "tags": []
     },
     "output_type": "execute_result"
    }
   ],
   "source": [
    "# Building a circuit of 4 qubits with a layer of CNOT gates using\n",
    "# the my_interaction connected interaction graph\n",
    "circuit = ParameterisedCircuit(n_qubit=5)\n",
    "circuit.add_entanglement_layer(['CNOT'], entangle_strategy=my_interaction)\n",
    "circuit"
   ]
  },
  {
   "cell_type": "code",
   "execution_count": null,
   "id": "random-niger",
   "metadata": {
    "id": "random-niger"
   },
   "outputs": [],
   "source": [
    ""
   ]
  }
 ],
 "metadata": {
  "colab": {
   "name": "T03-Interaction_Graphs.ipynb",
   "provenance": []
  },
  "kernelspec": {
   "display_name": "Python 3",
   "language": "python",
   "name": "python3"
  },
  "language_info": {
   "codemirror_mode": {
    "name": "ipython",
    "version": 3
   },
   "file_extension": ".py",
   "mimetype": "text/x-python",
   "name": "python",
   "nbconvert_exporter": "python",
   "pygments_lexer": "ipython3",
   "version": "3.7.10"
  }
 },
 "nbformat": 4,
 "nbformat_minor": 5
}
