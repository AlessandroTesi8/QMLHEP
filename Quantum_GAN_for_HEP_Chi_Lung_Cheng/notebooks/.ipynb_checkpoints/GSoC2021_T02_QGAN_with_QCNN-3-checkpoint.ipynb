{
 "cells": [
  {
   "cell_type": "code",
   "execution_count": null,
   "id": "13rxe3B4vcvC",
   "metadata": {
    "colab": {
     "base_uri": "https://localhost:8080/"
    },
    "id": "13rxe3B4vcvC",
    "outputId": "c18c259a-ad22-4009-9c9f-3b4a3035a7e0"
   },
   "outputs": [
    {
     "name": "stdout",
     "output_type": "stream",
     "text": [
      "Collecting tensorflow==2.4.1\n",
      "\u001b[?25l  Downloading https://files.pythonhosted.org/packages/70/dc/e8c5e7983866fa4ef3fd619faa35f660b95b01a2ab62b3884f038ccab542/tensorflow-2.4.1-cp37-cp37m-manylinux2010_x86_64.whl (394.3MB)\n",
      "\u001b[K     |████████████████████████████████| 394.3MB 34kB/s \n"
     ]
    }
   ],
   "source": [
    "!pip install tensorflow==2.4.1\n",
    "!pip install tensorflow-quantum\n",
    "!pip install quple"
   ]
  },
  {
   "cell_type": "code",
   "execution_count": 1,
   "id": "prerequisite-yellow",
   "metadata": {
    "id": "prerequisite-yellow"
   },
   "outputs": [],
   "source": [
    "import os\n",
    "import glob\n",
    "import operator\n",
    "import numpy as np\n",
    "import pandas\n",
    "import h5py\n",
    "import tensorflow as tf\n",
    "import tensorflow_quantum as tfq"
   ]
  },
  {
   "cell_type": "code",
   "execution_count": 2,
   "id": "rough-killing",
   "metadata": {
    "id": "rough-killing"
   },
   "outputs": [],
   "source": [
    "# for reproducibility\n",
    "tf.random.set_seed(2021)\n",
    "np.random.seed(2021) "
   ]
  },
  {
   "cell_type": "markdown",
   "id": "working-protection",
   "metadata": {
    "id": "working-protection"
   },
   "source": [
    "# Section 1 - Data Preprocessing"
   ]
  },
  {
   "cell_type": "markdown",
   "id": "suffering-acceptance",
   "metadata": {
    "id": "suffering-acceptance"
   },
   "source": [
    "## 1.1 Load Photon-Electron data"
   ]
  },
  {
   "cell_type": "code",
   "execution_count": 3,
   "id": "sexual-coordination",
   "metadata": {
    "id": "sexual-coordination"
   },
   "outputs": [],
   "source": [
    "# use the cern afs public path or your own path containing the training data\n",
    "data_dir = \"/afs/cern.ch/work/c/chlcheng/public/GSoC2021/data\"\n",
    "photon_path = os.path.join(data_dir, \"photon.hdf5\")\n",
    "electron_path = os.path.join(data_dir, \"electron.hdf5\")"
   ]
  },
  {
   "cell_type": "code",
   "execution_count": 4,
   "id": "vertical-chess",
   "metadata": {
    "id": "vertical-chess"
   },
   "outputs": [],
   "source": [
    "# load photon data\n",
    "with h5py.File(photon_path, \"r\") as f:\n",
    "    px = np.asarray(f['X'][()], dtype=np.float32)[:,:,:,0]\n",
    "    py = np.asarray(f['y'][()], dtype=np.float32)\n",
    "\n",
    "# load electron data\n",
    "with h5py.File(electron_path, \"r\") as f:\n",
    "    ex = np.asarray(f['X'][()], dtype=np.float32)[:,:,:,0]\n",
    "    ey = np.asarray(f['y'][()], dtype=np.float32)"
   ]
  },
  {
   "cell_type": "markdown",
   "id": "proud-amendment",
   "metadata": {
    "id": "proud-amendment"
   },
   "source": [
    "## 1.2 Image Visualization"
   ]
  },
  {
   "cell_type": "code",
   "execution_count": 5,
   "id": "compound-certification",
   "metadata": {
    "id": "compound-certification"
   },
   "outputs": [],
   "source": [
    "particle_label_map = {\n",
    "    0: 'photon',\n",
    "    1: 'electron'\n",
    "}\n",
    "import matplotlib.pyplot as plt\n",
    "def vitualize_image(img, labels, name=None):\n",
    "    columns = 8\n",
    "    size = img.shape[0]\n",
    "    rows = ( size // columns ) + 1\n",
    "    fig = plt.figure(figsize=(20, rows*3))\n",
    "    plt.subplots_adjust(hspace=0.3)\n",
    "    for i in range(img.shape[0]):\n",
    "        ax = fig.add_subplot(rows, columns, i+1)\n",
    "        ax.set_title('Image {}: {}'.format(i+1, particle_label_map[labels[i]]))\n",
    "        plt.imshow(img[i])\n",
    "    if name is not None:\n",
    "        plt.savefig(name, bbox_inches=\"tight\")\n",
    "    return plt"
   ]
  },
  {
   "cell_type": "code",
   "execution_count": 6,
   "id": "white-sugar",
   "metadata": {
    "id": "white-sugar",
    "outputId": "f1c933c2-cf3a-4b27-b75c-a149eca081f9"
   },
   "outputs": [
    {
     "data": {
      "text/plain": [
       "<module 'matplotlib.pyplot' from '/afs/cern.ch/work/c/chlcheng/public/local/conda/miniconda/envs/ml-base/lib/python3.7/site-packages/matplotlib/pyplot.py'>"
      ]
     },
     "execution_count": 6,
     "metadata": {},
     "output_type": "execute_result"
    },
    {
     "data": {
      "image/png": "[encoded data removed]",
      "text/plain": [
       "<Figure size 1440x648 with 16 Axes>"
      ]
     },
     "metadata": {
      "needs_background": "light"
     },
     "output_type": "display_data"
    }
   ],
   "source": [
    "# let's just visualize the photon image\n",
    "vitualize_image(px[:16], py[:16], name=\"images/cnn_raw_image_photon.pdf\")"
   ]
  },
  {
   "cell_type": "markdown",
   "id": "promotional-capacity",
   "metadata": {
    "id": "promotional-capacity"
   },
   "source": [
    "## 1.3 Prepare Training Dataset\n",
    "\n",
    "- Let's just train on the photon data first and split the data into 75% train and 25% test"
   ]
  },
  {
   "cell_type": "code",
   "execution_count": 7,
   "id": "lovely-stations",
   "metadata": {
    "id": "lovely-stations"
   },
   "outputs": [],
   "source": [
    "from sklearn.model_selection import train_test_split\n",
    "x_train, x_test, y_train, y_test = train_test_split(px, py, train_size=0.75, test_size=0.25, random_state=2021)"
   ]
  },
  {
   "cell_type": "markdown",
   "id": "damaged-dutch",
   "metadata": {
    "id": "damaged-dutch"
   },
   "source": [
    "## 1.4 Image Cropping\n",
    "\n",
    "Note that the image is\n",
    "1. Mostly empty except at the center\n",
    "2. All jets are centered and aligned in the same direction (horizontally)\n",
    "\n",
    "That means we can crop out the central region of the image without losing much information about the jet. And we don't need to rotate the image.\n",
    "\n",
    "So by inspection, it should be safe to **crop out the central (8x8) grid**."
   ]
  },
  {
   "cell_type": "code",
   "execution_count": 8,
   "id": "eastern-prefix",
   "metadata": {
    "id": "eastern-prefix"
   },
   "outputs": [],
   "source": [
    "def crop_image(img, dimension):\n",
    "    start = tuple(map(lambda a, da: a//2-da//2, img.shape, dimension))\n",
    "    end = tuple(map(operator.add, start, dimension))\n",
    "    slices = tuple(map(slice, start, end))\n",
    "    return img[slices]"
   ]
  },
  {
   "cell_type": "code",
   "execution_count": 9,
   "id": "combined-hierarchy",
   "metadata": {
    "id": "combined-hierarchy"
   },
   "outputs": [],
   "source": [
    "crop_size = (8, 8)\n",
    "x_train_cropped = np.array([crop_image(i, crop_size) for i in x_train])\n",
    "x_test_cropped = np.array([crop_image(i, crop_size) for i in x_test])"
   ]
  },
  {
   "cell_type": "code",
   "execution_count": 10,
   "id": "random-commissioner",
   "metadata": {
    "id": "random-commissioner",
    "outputId": "dec5a045-fb63-41ba-8a51-8bd87f9feb49"
   },
   "outputs": [
    {
     "data": {
      "text/plain": [
       "<module 'matplotlib.pyplot' from '/afs/cern.ch/work/c/chlcheng/public/local/conda/miniconda/envs/ml-base/lib/python3.7/site-packages/matplotlib/pyplot.py'>"
      ]
     },
     "execution_count": 10,
     "metadata": {},
     "output_type": "execute_result"
    },
    {
     "data": {
      "image/png": "[encoded data removed]",
      "text/plain": [
       "<Figure size 1440x648 with 16 Axes>"
      ]
     },
     "metadata": {
      "needs_background": "light"
     },
     "output_type": "display_data"
    }
   ],
   "source": [
    "vitualize_image(x_train_cropped[:16], y_train[:16],  name=\"images/cnn_cropped_image_photon.pdf\")"
   ]
  },
  {
   "cell_type": "markdown",
   "id": "stock-operator",
   "metadata": {
    "id": "stock-operator"
   },
   "source": [
    "## 1.6 Rescale data to the range appropriate for quantum data encoding\n",
    "\n",
    "- Usually classical data is encoded as the rotation angle of a gate operation in a quantum circuit which has a valid range of $[-\\pi,+\\pi]$. However, from past experience a smaller range will suffice and even show better performance than the valid range itself. So for this task, we will be **rescaling our data to a unit range (i.e. $[0, +1]$)** following the range used by  the`tensorflow_quantum` tutorial for MNIST classification (https://www.tensorflow.org/quantum/tutorials/mnist). Alternative, one may also use another common range $[-1, +1]$ for example from https://arxiv.org/abs/1906.10467."
   ]
  },
  {
   "cell_type": "code",
   "execution_count": 11,
   "id": "accepting-shield",
   "metadata": {
    "id": "accepting-shield"
   },
   "outputs": [],
   "source": [
    "def rescale_data(*data, val_range = (0, 1.)):\n",
    "    min_value = np.min([np.min(d) for d in data])\n",
    "    max_value = np.max([np.max(d) for d in data])\n",
    "    range_min = val_range[0]\n",
    "    range_max = val_range[1]\n",
    "    rescaled_data = tuple([(((d-min_value)/(max_value-min_value))*(range_max-range_min))+range_min for d in data])\n",
    "    return rescaled_data\n",
    "x_train_rescaled, x_test_rescaled = rescale_data(x_train_cropped, x_test_cropped, val_range=(-1, 1))"
   ]
  },
  {
   "cell_type": "code",
   "execution_count": 12,
   "id": "hired-alert",
   "metadata": {
    "id": "hired-alert",
    "outputId": "68d34ba6-bff3-4da1-e076-16f1acd88c59"
   },
   "outputs": [
    {
     "data": {
      "text/plain": [
       "<module 'matplotlib.pyplot' from '/afs/cern.ch/work/c/chlcheng/public/local/conda/miniconda/envs/ml-base/lib/python3.7/site-packages/matplotlib/pyplot.py'>"
      ]
     },
     "execution_count": 12,
     "metadata": {},
     "output_type": "execute_result"
    },
    {
     "data": {
      "image/png": "[encoded data removed]",
      "text/plain": [
       "<Figure size 1440x648 with 16 Axes>"
      ]
     },
     "metadata": {
      "needs_background": "light"
     },
     "output_type": "display_data"
    }
   ],
   "source": [
    "vitualize_image(x_train_rescaled[:16], y_train[:16],  name=\"images/cnn_rescaled_image_photon.pdf\")"
   ]
  },
  {
   "cell_type": "code",
   "execution_count": 13,
   "id": "whole-mouth",
   "metadata": {
    "id": "whole-mouth",
    "outputId": "2a533cc2-6ca8-46d6-bf92-0ff2661959a5"
   },
   "outputs": [
    {
     "data": {
      "text/plain": [
       "(8, 8)"
      ]
     },
     "execution_count": 13,
     "metadata": {},
     "output_type": "execute_result"
    }
   ],
   "source": [
    "image_shape = x_train_rescaled.shape[1:]\n",
    "image_shape"
   ]
  },
  {
   "cell_type": "markdown",
   "id": "prompt-equipment",
   "metadata": {
    "id": "prompt-equipment"
   },
   "source": [
    "# Section 2 - QGAN with Classical Generator and QCNN Discriminator"
   ]
  },
  {
   "cell_type": "markdown",
   "id": "awful-jacket",
   "metadata": {
    "id": "awful-jacket"
   },
   "source": [
    "## 2.1 Create classical generator model"
   ]
  },
  {
   "cell_type": "code",
   "execution_count": 14,
   "id": "hybrid-championship",
   "metadata": {
    "id": "hybrid-championship"
   },
   "outputs": [],
   "source": [
    "def create_classical_generator():\n",
    "    model = tf.keras.Sequential()\n",
    "    # foundation for 2x2 image\n",
    "    n_nodes = 32 * 2 * 2\n",
    "    model.add(tf.keras.layers.Dense(n_nodes, use_bias=False, input_shape=(100,)))\n",
    "    model.add(tf.keras.layers.BatchNormalization())\n",
    "    model.add(tf.keras.layers.LeakyReLU())\n",
    "    model.add(tf.keras.layers.Reshape((2, 2, 32)))\n",
    "\n",
    "    model.add(tf.keras.layers.Conv2DTranspose(32, (2,2), strides=(1,1), padding=\"same\", use_bias=False))\n",
    "    model.add(tf.keras.layers.BatchNormalization())\n",
    "    model.add(tf.keras.layers.LeakyReLU())\n",
    "    # upsample to 4x4\n",
    "    model.add(tf.keras.layers.Conv2DTranspose(16, (2,2), strides=(2,2), padding=\"same\", use_bias=False))\n",
    "    model.add(tf.keras.layers.BatchNormalization())\n",
    "    model.add(tf.keras.layers.LeakyReLU())    \n",
    "    # upsample to 8x8\n",
    "    model.add(tf.keras.layers.Conv2DTranspose(1, (3,3), strides=(2,2), padding=\"same\", use_bias=False, activation='tanh'))\n",
    "    model.add(tf.keras.layers.Reshape((8, 8)))\n",
    "    return model"
   ]
  },
  {
   "cell_type": "code",
   "execution_count": 15,
   "id": "alternate-electron",
   "metadata": {
    "id": "alternate-electron"
   },
   "outputs": [],
   "source": [
    "classical_generator = create_classical_generator()"
   ]
  },
  {
   "cell_type": "markdown",
   "id": "thick-punishment",
   "metadata": {
    "id": "thick-punishment"
   },
   "source": [
    "## 2.2 Create QCNN discriminator\n",
    "\n",
    "- We will use a 3x3 quantum filter in terms of a 9 qubit PQC"
   ]
  },
  {
   "cell_type": "code",
   "execution_count": 16,
   "id": "fewer-uganda",
   "metadata": {
    "id": "fewer-uganda"
   },
   "outputs": [],
   "source": [
    "n_qubit = feature_dimension = 9"
   ]
  },
  {
   "cell_type": "markdown",
   "id": "insured-landscape",
   "metadata": {
    "id": "insured-landscape"
   },
   "source": [
    "### Data Encoding Circuit for the 3 x 3 data window\n",
    "\n",
    "- Just some normal circuit choice taken from the QSVM paper I involved in\n",
    "- qubit (0, 0) represents top left pixel and qubit (0, 9) represents bottom right pixel"
   ]
  },
  {
   "cell_type": "code",
   "execution_count": 17,
   "id": "vital-catalyst",
   "metadata": {
    "id": "vital-catalyst",
    "outputId": "c90519ce-4024-49e7-b91f-08a20c5369ea"
   },
   "outputs": [
    {
     "data": {
      "text/html": [
       "<pre style=\"overflow: auto; white-space: pre;\">(0, 0): ───H───Rz(pi*&lt;x_0/pi&gt;)───H───Rz(pi*&lt;x_0/pi&gt;)───\n",
       "\n",
       "(0, 1): ───H───Rz(pi*&lt;x_1/pi&gt;)───H───Rz(pi*&lt;x_1/pi&gt;)───\n",
       "\n",
       "(0, 2): ───H───Rz(pi*&lt;x_2/pi&gt;)───H───Rz(pi*&lt;x_2/pi&gt;)───\n",
       "\n",
       "(0, 3): ───H───Rz(pi*&lt;x_3/pi&gt;)───H───Rz(pi*&lt;x_3/pi&gt;)───\n",
       "\n",
       "(0, 4): ───H───Rz(pi*&lt;x_4/pi&gt;)───H───Rz(pi*&lt;x_4/pi&gt;)───\n",
       "\n",
       "(0, 5): ───H───Rz(pi*&lt;x_5/pi&gt;)───H───Rz(pi*&lt;x_5/pi&gt;)───\n",
       "\n",
       "(0, 6): ───H───Rz(pi*&lt;x_6/pi&gt;)───H───Rz(pi*&lt;x_6/pi&gt;)───\n",
       "\n",
       "(0, 7): ───H───Rz(pi*&lt;x_7/pi&gt;)───H───Rz(pi*&lt;x_7/pi&gt;)───\n",
       "\n",
       "(0, 8): ───H───Rz(pi*&lt;x_8/pi&gt;)───H───Rz(pi*&lt;x_8/pi&gt;)───</pre>"
      ],
      "text/plain": [
       "(0, 0): ───H───Rz(pi*<x_0/pi>)───H───Rz(pi*<x_0/pi>)───\n",
       "\n",
       "(0, 1): ───H───Rz(pi*<x_1/pi>)───H───Rz(pi*<x_1/pi>)───\n",
       "\n",
       "(0, 2): ───H───Rz(pi*<x_2/pi>)───H───Rz(pi*<x_2/pi>)───\n",
       "\n",
       "(0, 3): ───H───Rz(pi*<x_3/pi>)───H───Rz(pi*<x_3/pi>)───\n",
       "\n",
       "(0, 4): ───H───Rz(pi*<x_4/pi>)───H───Rz(pi*<x_4/pi>)───\n",
       "\n",
       "(0, 5): ───H───Rz(pi*<x_5/pi>)───H───Rz(pi*<x_5/pi>)───\n",
       "\n",
       "(0, 6): ───H───Rz(pi*<x_6/pi>)───H───Rz(pi*<x_6/pi>)───\n",
       "\n",
       "(0, 7): ───H───Rz(pi*<x_7/pi>)───H───Rz(pi*<x_7/pi>)───\n",
       "\n",
       "(0, 8): ───H───Rz(pi*<x_8/pi>)───H───Rz(pi*<x_8/pi>)───"
      ]
     },
     "execution_count": 17,
     "metadata": {},
     "output_type": "execute_result"
    }
   ],
   "source": [
    "## deprecated\n",
    "#from quple.data_encoding import  EncodingCircuit\n",
    "#from quple import PauliBlock\n",
    "#from quple.data_encoding import polynomial\n",
    "#degree = 3\n",
    "\n",
    "from quple.data_encoding import FirstOrderPauliZEncoding\n",
    "# create a data circuit for encoding the 3x3 data window\n",
    "'''\n",
    "data_circuit = EncodingCircuit(feature_dimension=n_qubit, \n",
    "                                copies=2,\n",
    "                                rotation_blocks=['H',PauliBlock('Z', polynomial(1)),\n",
    "                                                   PauliBlock('Y',polynomial(degree))],\n",
    "                                entanglement_blocks=[PauliBlock('ZZ',polynomial(degree))],\n",
    "                                entangle_strategy='alternate_linear')\n",
    "'''\n",
    "data_circuit = FirstOrderPauliZEncoding(feature_dimension=n_qubit, copies=2, parameter_scale=1)\n",
    "data_circuit"
   ]
  },
  {
   "cell_type": "markdown",
   "id": "scheduled-double",
   "metadata": {
    "id": "scheduled-double"
   },
   "source": [
    "### Kernel Circuit for the Quantum Filter\n",
    "\n",
    "- Just some random 3x3 = 9 qubit PQC with entanglement"
   ]
  },
  {
   "cell_type": "code",
   "execution_count": 18,
   "id": "missing-carrier",
   "metadata": {
    "id": "missing-carrier"
   },
   "outputs": [],
   "source": [
    "from quple import ParameterisedCircuit"
   ]
  },
  {
   "cell_type": "code",
   "execution_count": 19,
   "id": "brief-ministry",
   "metadata": {
    "id": "brief-ministry",
    "outputId": "44e2ed0e-213e-499e-b4ad-8521935eafb9"
   },
   "outputs": [
    {
     "data": {
      "text/html": [
       "<pre style=\"overflow: auto; white-space: pre;\">(0, 0): ───Rx(θ_0)───Rz(θ_9)────ZZ──────────Rx(θ_26)────Rz(θ_35)──────────────ZZ──────────────────────\n",
       "                                │                                             │\n",
       "(0, 1): ───Rx(θ_1)───Rz(θ_10)───ZZ^(θ_18)───ZZ──────────Rx(θ_27)───Rz(θ_36)───ZZ^(θ_44)───ZZ──────────\n",
       "                                            │                                             │\n",
       "(0, 2): ───Rx(θ_2)───Rz(θ_11)───ZZ──────────ZZ^(θ_22)───Rx(θ_28)───Rz(θ_37)───ZZ──────────ZZ^(θ_48)───\n",
       "                                │                                             │\n",
       "(0, 3): ───Rx(θ_3)───Rz(θ_12)───ZZ^(θ_19)───ZZ──────────Rx(θ_29)───Rz(θ_38)───ZZ^(θ_45)───ZZ──────────\n",
       "                                            │                                             │\n",
       "(0, 4): ───Rx(θ_4)───Rz(θ_13)───ZZ──────────ZZ^(θ_23)───Rx(θ_30)───Rz(θ_39)───ZZ──────────ZZ^(θ_49)───\n",
       "                                │                                             │\n",
       "(0, 5): ───Rx(θ_5)───Rz(θ_14)───ZZ^(θ_20)───ZZ──────────Rx(θ_31)───Rz(θ_40)───ZZ^(θ_46)───ZZ──────────\n",
       "                                            │                                             │\n",
       "(0, 6): ───Rx(θ_6)───Rz(θ_15)───ZZ──────────ZZ^(θ_24)───Rx(θ_32)───Rz(θ_41)───ZZ──────────ZZ^(θ_50)───\n",
       "                                │                                             │\n",
       "(0, 7): ───Rx(θ_7)───Rz(θ_16)───ZZ^(θ_21)───ZZ──────────Rx(θ_33)───Rz(θ_42)───ZZ^(θ_47)───ZZ──────────\n",
       "                                            │                                             │\n",
       "(0, 8): ───Rx(θ_8)───Rz(θ_17)───────────────ZZ^(θ_25)───Rx(θ_34)───Rz(θ_43)───────────────ZZ^(θ_51)───</pre>"
      ],
      "text/plain": [
       "(0, 0): ───Rx(θ_0)───Rz(θ_9)────ZZ──────────Rx(θ_26)────Rz(θ_35)──────────────ZZ──────────────────────\n",
       "                                │                                             │\n",
       "(0, 1): ───Rx(θ_1)───Rz(θ_10)───ZZ^(θ_18)───ZZ──────────Rx(θ_27)───Rz(θ_36)───ZZ^(θ_44)───ZZ──────────\n",
       "                                            │                                             │\n",
       "(0, 2): ───Rx(θ_2)───Rz(θ_11)───ZZ──────────ZZ^(θ_22)───Rx(θ_28)───Rz(θ_37)───ZZ──────────ZZ^(θ_48)───\n",
       "                                │                                             │\n",
       "(0, 3): ───Rx(θ_3)───Rz(θ_12)───ZZ^(θ_19)───ZZ──────────Rx(θ_29)───Rz(θ_38)───ZZ^(θ_45)───ZZ──────────\n",
       "                                            │                                             │\n",
       "(0, 4): ───Rx(θ_4)───Rz(θ_13)───ZZ──────────ZZ^(θ_23)───Rx(θ_30)───Rz(θ_39)───ZZ──────────ZZ^(θ_49)───\n",
       "                                │                                             │\n",
       "(0, 5): ───Rx(θ_5)───Rz(θ_14)───ZZ^(θ_20)───ZZ──────────Rx(θ_31)───Rz(θ_40)───ZZ^(θ_46)───ZZ──────────\n",
       "                                            │                                             │\n",
       "(0, 6): ───Rx(θ_6)───Rz(θ_15)───ZZ──────────ZZ^(θ_24)───Rx(θ_32)───Rz(θ_41)───ZZ──────────ZZ^(θ_50)───\n",
       "                                │                                             │\n",
       "(0, 7): ───Rx(θ_7)───Rz(θ_16)───ZZ^(θ_21)───ZZ──────────Rx(θ_33)───Rz(θ_42)───ZZ^(θ_47)───ZZ──────────\n",
       "                                            │                                             │\n",
       "(0, 8): ───Rx(θ_8)───Rz(θ_17)───────────────ZZ^(θ_25)───Rx(θ_34)───Rz(θ_43)───────────────ZZ^(θ_51)───"
      ]
     },
     "execution_count": 19,
     "metadata": {},
     "output_type": "execute_result"
    }
   ],
   "source": [
    "kernel_circuit = ParameterisedCircuit(n_qubit=n_qubit, copies=2, \n",
    "                                      rotation_blocks=[\"RX\", \"RZ\"],\n",
    "                                      entanglement_blocks=[\"ZZ\"],\n",
    "                                      entangle_strategy=\"alternate_linear\")\n",
    "kernel_circuit"
   ]
  },
  {
   "cell_type": "code",
   "execution_count": 35,
   "id": "41530275",
   "metadata": {},
   "outputs": [
    {
     "data": {
      "text/html": [
       "<pre style=\"overflow: auto; white-space: pre;\">(0, 0): ───Rx(θ_0)───Rz(θ_4)───ZZ─────────Rx(θ_11)────Rz(θ_15)──────────────ZZ──────────────────────\n",
       "                               │                                            │\n",
       "(0, 1): ───Rx(θ_1)───Rz(θ_5)───ZZ^(θ_8)───ZZ──────────Rx(θ_12)───Rz(θ_16)───ZZ^(θ_19)───ZZ──────────\n",
       "                                          │                                             │\n",
       "(0, 2): ───Rx(θ_2)───Rz(θ_6)───ZZ─────────ZZ^(θ_10)───Rx(θ_13)───Rz(θ_17)───ZZ──────────ZZ^(θ_21)───\n",
       "                               │                                            │\n",
       "(0, 3): ───Rx(θ_3)───Rz(θ_7)───ZZ^(θ_9)───────────────Rx(θ_14)───Rz(θ_18)───ZZ^(θ_20)───────────────</pre>"
      ],
      "text/plain": [
       "(0, 0): ───Rx(θ_0)───Rz(θ_4)───ZZ─────────Rx(θ_11)────Rz(θ_15)──────────────ZZ──────────────────────\n",
       "                               │                                            │\n",
       "(0, 1): ───Rx(θ_1)───Rz(θ_5)───ZZ^(θ_8)───ZZ──────────Rx(θ_12)───Rz(θ_16)───ZZ^(θ_19)───ZZ──────────\n",
       "                                          │                                             │\n",
       "(0, 2): ───Rx(θ_2)───Rz(θ_6)───ZZ─────────ZZ^(θ_10)───Rx(θ_13)───Rz(θ_17)───ZZ──────────ZZ^(θ_21)───\n",
       "                               │                                            │\n",
       "(0, 3): ───Rx(θ_3)───Rz(θ_7)───ZZ^(θ_9)───────────────Rx(θ_14)───Rz(θ_18)───ZZ^(θ_20)───────────────"
      ]
     },
     "execution_count": 35,
     "metadata": {},
     "output_type": "execute_result"
    }
   ],
   "source": [
    "kernel_circuit2 = ParameterisedCircuit(n_qubit=4, copies=2, \n",
    "                                      rotation_blocks=[\"RX\", \"RZ\"],\n",
    "                                      entanglement_blocks=[\"ZZ\"],\n",
    "                                      entangle_strategy=\"alternate_linear\")\n",
    "kernel_circuit2"
   ]
  },
  {
   "cell_type": "markdown",
   "id": "conditional-affair",
   "metadata": {
    "id": "conditional-affair"
   },
   "source": [
    "- after 2 convolution with strides = (2, 2), the image dimension will be (2, 2) so we can just use a 4 qubit PQC for the final output"
   ]
  },
  {
   "cell_type": "code",
   "execution_count": 20,
   "id": "pressing-delay",
   "metadata": {
    "id": "pressing-delay",
    "outputId": "afe36ef3-5ad9-48c1-a423-aeeb8721b3d5"
   },
   "outputs": [
    {
     "data": {
      "text/html": [
       "<pre style=\"overflow: auto; white-space: pre;\">(0, 0): ───H───Rz(pi*&lt;x_0/pi&gt;)───H───Rz(pi*&lt;x_0/pi&gt;)───\n",
       "\n",
       "(0, 1): ───H───Rz(pi*&lt;x_1/pi&gt;)───H───Rz(pi*&lt;x_1/pi&gt;)───\n",
       "\n",
       "(0, 2): ───H───Rz(pi*&lt;x_2/pi&gt;)───H───Rz(pi*&lt;x_2/pi&gt;)───\n",
       "\n",
       "(0, 3): ───H───Rz(pi*&lt;x_3/pi&gt;)───H───Rz(pi*&lt;x_3/pi&gt;)───</pre>"
      ],
      "text/plain": [
       "(0, 0): ───H───Rz(pi*<x_0/pi>)───H───Rz(pi*<x_0/pi>)───\n",
       "\n",
       "(0, 1): ───H───Rz(pi*<x_1/pi>)───H───Rz(pi*<x_1/pi>)───\n",
       "\n",
       "(0, 2): ───H───Rz(pi*<x_2/pi>)───H───Rz(pi*<x_2/pi>)───\n",
       "\n",
       "(0, 3): ───H───Rz(pi*<x_3/pi>)───H───Rz(pi*<x_3/pi>)───"
      ]
     },
     "execution_count": 20,
     "metadata": {},
     "output_type": "execute_result"
    }
   ],
   "source": [
    "from quple.data_encoding import  EncodingCircuit\n",
    "from quple import PauliBlock\n",
    "from quple.data_encoding.encoding_maps import polynomial\n",
    "output_data_circuit = FirstOrderPauliZEncoding(feature_dimension=4, copies=2, parameter_scale=1)\n",
    "output_data_circuit"
   ]
  },
  {
   "cell_type": "code",
   "execution_count": 21,
   "id": "hired-television",
   "metadata": {
    "id": "hired-television",
    "outputId": "d801869f-37d5-4974-bb05-7a047c8c27ad"
   },
   "outputs": [
    {
     "data": {
      "text/html": [
       "<pre style=\"overflow: auto; white-space: pre;\">                                                     ┌──────────────────┐                                                              ┌──────────────────┐                                                              ┌──────────────────┐                                                              ┌──────────────────┐\n",
       "(0, 0): ───Rx(θ_0)───Rz(θ_4)───ZZ─────────ZZ──────────ZZ────────────────────────────────Rx(θ_14)────Rz(θ_18)───ZZ──────────ZZ───────────ZZ────────────────────────────────Rx(θ_28)────Rz(θ_32)───ZZ──────────ZZ───────────ZZ────────────────────────────────Rx(θ_42)────Rz(θ_46)───ZZ──────────ZZ───────────ZZ────────────────────────────────────────────\n",
       "                               │          │           │                                                        │           │            │                                                        │           │            │                                                        │           │            │\n",
       "(0, 1): ───Rx(θ_1)───Rz(θ_5)───ZZ^(θ_8)───┼───────────┼────────ZZ───────────ZZ──────────Rx(θ_15)────Rz(θ_19)───ZZ^(θ_22)───┼────────────┼────────ZZ───────────ZZ──────────Rx(θ_29)────Rz(θ_33)───ZZ^(θ_36)───┼────────────┼────────ZZ───────────ZZ──────────Rx(θ_43)────Rz(θ_47)───ZZ^(θ_50)───┼────────────┼────────ZZ───────────ZZ──────────────────────\n",
       "                                          │           │        │            │                                              │            │        │            │                                              │            │        │            │                                              │            │        │            │\n",
       "(0, 2): ───Rx(θ_2)───Rz(θ_6)──────────────ZZ^(θ_9)────┼────────ZZ^(θ_11)────┼───────────ZZ──────────Rx(θ_16)───Rz(θ_20)────ZZ^(θ_23)────┼────────ZZ^(θ_25)────┼───────────ZZ──────────Rx(θ_30)───Rz(θ_34)────ZZ^(θ_37)────┼────────ZZ^(θ_39)────┼───────────ZZ──────────Rx(θ_44)───Rz(θ_48)────ZZ^(θ_51)────┼────────ZZ^(θ_53)────┼───────────ZZ──────────\n",
       "                                                      │                     │           │                                               │                     │           │                                               │                     │           │                                               │                     │           │\n",
       "(0, 3): ───Rx(θ_3)───Rz(θ_7)──────────────────────────ZZ^(θ_10)─────────────ZZ^(θ_12)───ZZ^(θ_13)───Rx(θ_17)───Rz(θ_21)─────────────────ZZ^(θ_24)─────────────ZZ^(θ_26)───ZZ^(θ_27)───Rx(θ_31)───Rz(θ_35)─────────────────ZZ^(θ_38)─────────────ZZ^(θ_40)───ZZ^(θ_41)───Rx(θ_45)───Rz(θ_49)─────────────────ZZ^(θ_52)─────────────ZZ^(θ_54)───ZZ^(θ_55)───\n",
       "                                                     └──────────────────┘                                                              └──────────────────┘                                                              └──────────────────┘                                                              └──────────────────┘</pre>"
      ],
      "text/plain": [
       "                                                     ┌──────────────────┐                                                              ┌──────────────────┐                                                              ┌──────────────────┐                                                              ┌──────────────────┐\n",
       "(0, 0): ───Rx(θ_0)───Rz(θ_4)───ZZ─────────ZZ──────────ZZ────────────────────────────────Rx(θ_14)────Rz(θ_18)───ZZ──────────ZZ───────────ZZ────────────────────────────────Rx(θ_28)────Rz(θ_32)───ZZ──────────ZZ───────────ZZ────────────────────────────────Rx(θ_42)────Rz(θ_46)───ZZ──────────ZZ───────────ZZ────────────────────────────────────────────\n",
       "                               │          │           │                                                        │           │            │                                                        │           │            │                                                        │           │            │\n",
       "(0, 1): ───Rx(θ_1)───Rz(θ_5)───ZZ^(θ_8)───┼───────────┼────────ZZ───────────ZZ──────────Rx(θ_15)────Rz(θ_19)───ZZ^(θ_22)───┼────────────┼────────ZZ───────────ZZ──────────Rx(θ_29)────Rz(θ_33)───ZZ^(θ_36)───┼────────────┼────────ZZ───────────ZZ──────────Rx(θ_43)────Rz(θ_47)───ZZ^(θ_50)───┼────────────┼────────ZZ───────────ZZ──────────────────────\n",
       "                                          │           │        │            │                                              │            │        │            │                                              │            │        │            │                                              │            │        │            │\n",
       "(0, 2): ───Rx(θ_2)───Rz(θ_6)──────────────ZZ^(θ_9)────┼────────ZZ^(θ_11)────┼───────────ZZ──────────Rx(θ_16)───Rz(θ_20)────ZZ^(θ_23)────┼────────ZZ^(θ_25)────┼───────────ZZ──────────Rx(θ_30)───Rz(θ_34)────ZZ^(θ_37)────┼────────ZZ^(θ_39)────┼───────────ZZ──────────Rx(θ_44)───Rz(θ_48)────ZZ^(θ_51)────┼────────ZZ^(θ_53)────┼───────────ZZ──────────\n",
       "                                                      │                     │           │                                               │                     │           │                                               │                     │           │                                               │                     │           │\n",
       "(0, 3): ───Rx(θ_3)───Rz(θ_7)──────────────────────────ZZ^(θ_10)─────────────ZZ^(θ_12)───ZZ^(θ_13)───Rx(θ_17)───Rz(θ_21)─────────────────ZZ^(θ_24)─────────────ZZ^(θ_26)───ZZ^(θ_27)───Rx(θ_31)───Rz(θ_35)─────────────────ZZ^(θ_38)─────────────ZZ^(θ_40)───ZZ^(θ_41)───Rx(θ_45)───Rz(θ_49)─────────────────ZZ^(θ_52)─────────────ZZ^(θ_54)───ZZ^(θ_55)───\n",
       "                                                     └──────────────────┘                                                              └──────────────────┘                                                              └──────────────────┘                                                              └──────────────────┘"
      ]
     },
     "execution_count": 21,
     "metadata": {},
     "output_type": "execute_result"
    }
   ],
   "source": [
    "output_model_circuit = ParameterisedCircuit(n_qubit=4, copies=4, \n",
    "                                      rotation_blocks=[\"RX\", \"RZ\"],\n",
    "                                      entanglement_blocks=[\"ZZ\"])\n",
    "output_model_circuit"
   ]
  },
  {
   "cell_type": "code",
   "execution_count": 40,
   "id": "adverse-links",
   "metadata": {
    "id": "adverse-links"
   },
   "outputs": [],
   "source": [
    "from quple.interface.tfq.layers import QConv2D, PQC, QConv2DEx\n",
    "import cirq\n",
    "import tensorflow as tf\n",
    "#let's measure the last qubit\n",
    "readout = [cirq.Z(kernel_circuit.qubits[-1])]\n",
    "readout2 = [cirq.Z(kernel_circuit2.qubits[-1])]\n",
    "final_readout = [cirq.Z(output_model_circuit.qubits[-1])]\n",
    "\n",
    "# create the quantum discriminator model\n",
    "quantum_discriminator = tf.keras.Sequential()\n",
    "quantum_discriminator.add(tf.keras.layers.Input(shape=(8, 8, 1), dtype=tf.float32))\n",
    "quantum_discriminator.add(QConv2DEx(kernel_circuit, data_circuit, readout, kernel_size=(3, 3), filters=8, strides=(1, 1), padding=\"same\"))\n",
    "quantum_discriminator.add(tf.keras.layers.BatchNormalization())\n",
    "quantum_discriminator.add(tf.keras.layers.MaxPooling2D((2,2)))\n",
    "#quantum_discriminator.add(tf.keras.layers.LeakyReLU())\n",
    "#quantum_discriminator.add(tf.keras.layers.Dropout(0.3))    \n",
    "quantum_discriminator.add(QConv2DEx(kernel_circuit2, output_data_circuit, readout2, kernel_size=(2, 2), filters=4, strides=(1, 1), padding=\"same\"))\n",
    "quantum_discriminator.add(tf.keras.layers.BatchNormalization())\n",
    "quantum_discriminator.add(QConv2DEx(kernel_circuit2, output_data_circuit, readout2, kernel_size=(2, 2), filters=1, strides=(1, 1), padding=\"same\"))\n",
    "quantum_discriminator.add(tf.keras.layers.BatchNormalization())\n",
    "quantum_discriminator.add(tf.keras.layers.MaxPooling2D((2,2)))\n",
    "#quantum_discriminator.add(tf.keras.layers.LeakyReLU())\n",
    "#quantum_discriminator.add(tf.keras.layers.Dropout(0.3))\n",
    "quantum_discriminator.add(tf.keras.layers.Flatten())\n",
    "quantum_discriminator.add(PQC(output_model_circuit, output_data_circuit, final_readout))"
   ]
  },
  {
   "cell_type": "markdown",
   "id": "advised-hollywood",
   "metadata": {
    "id": "advised-hollywood"
   },
   "source": [
    "## Create QGAN model"
   ]
  },
  {
   "cell_type": "code",
   "execution_count": 41,
   "id": "rotary-practice",
   "metadata": {
    "id": "rotary-practice",
    "outputId": "bdf1a23b-62c3-4f0d-baeb-ec1bdb9a3da3"
   },
   "outputs": [
    {
     "name": "stdout",
     "output_type": "stream",
     "text": [
      "Summary of Generator\n",
      "Model: \"sequential\"\n",
      "_________________________________________________________________\n",
      "Layer (type)                 Output Shape              Param #   \n",
      "=================================================================\n",
      "dense (Dense)                (None, 128)               12800     \n",
      "_________________________________________________________________\n",
      "batch_normalization (BatchNo (None, 128)               512       \n",
      "_________________________________________________________________\n",
      "leaky_re_lu (LeakyReLU)      (None, 128)               0         \n",
      "_________________________________________________________________\n",
      "reshape (Reshape)            (None, 2, 2, 32)          0         \n",
      "_________________________________________________________________\n",
      "conv2d_transpose (Conv2DTran (None, 2, 2, 32)          4096      \n",
      "_________________________________________________________________\n",
      "batch_normalization_1 (Batch (None, 2, 2, 32)          128       \n",
      "_________________________________________________________________\n",
      "leaky_re_lu_1 (LeakyReLU)    (None, 2, 2, 32)          0         \n",
      "_________________________________________________________________\n",
      "conv2d_transpose_1 (Conv2DTr (None, 4, 4, 16)          2048      \n",
      "_________________________________________________________________\n",
      "batch_normalization_2 (Batch (None, 4, 4, 16)          64        \n",
      "_________________________________________________________________\n",
      "leaky_re_lu_2 (LeakyReLU)    (None, 4, 4, 16)          0         \n",
      "_________________________________________________________________\n",
      "conv2d_transpose_2 (Conv2DTr (None, 8, 8, 1)           144       \n",
      "_________________________________________________________________\n",
      "reshape_1 (Reshape)          (None, 8, 8)              0         \n",
      "=================================================================\n",
      "Total params: 19,792\n",
      "Trainable params: 19,440\n",
      "Non-trainable params: 352\n",
      "_________________________________________________________________\n",
      "Summary of Discriminator\n",
      "Model: \"sequential_5\"\n",
      "_________________________________________________________________\n",
      "Layer (type)                 Output Shape              Param #   \n",
      "=================================================================\n",
      "q_conv2d_ex_8 (QConv2DEx)    (None, 8, 8, 8)           416       \n",
      "_________________________________________________________________\n",
      "batch_normalization_8 (Batch (None, 8, 8, 8)           32        \n",
      "_________________________________________________________________\n",
      "max_pooling2d_6 (MaxPooling2 (None, 4, 4, 8)           0         \n",
      "_________________________________________________________________\n",
      "q_conv2d_ex_9 (QConv2DEx)    (None, 4, 4, 4)           704       \n",
      "_________________________________________________________________\n",
      "batch_normalization_9 (Batch (None, 4, 4, 4)           16        \n",
      "_________________________________________________________________\n",
      "q_conv2d_ex_10 (QConv2DEx)   (None, 4, 4, 1)           88        \n",
      "_________________________________________________________________\n",
      "batch_normalization_10 (Batc (None, 4, 4, 1)           4         \n",
      "_________________________________________________________________\n",
      "max_pooling2d_7 (MaxPooling2 (None, 2, 2, 1)           0         \n",
      "_________________________________________________________________\n",
      "flatten_3 (Flatten)          (None, 4)                 0         \n",
      "_________________________________________________________________\n",
      "pqc_3 (PQC)                  (None, 1)                 56        \n",
      "=================================================================\n",
      "Total params: 1,316\n",
      "Trainable params: 1,290\n",
      "Non-trainable params: 26\n",
      "_________________________________________________________________\n"
     ]
    }
   ],
   "source": [
    "from quple.models import QGAN\n",
    "qgan = QGAN(classical_generator, quantum_discriminator, encoding_circuit=None,\n",
    "            latent_dim=100,\n",
    "            epochs=50, d_lr=1e-3, g_lr=1e-3, random_state=2021, batch_size=32,\n",
    "            checkpoint_dir=\"./training_checkpoints/qgan_with_cnn/\")"
   ]
  },
  {
   "cell_type": "code",
   "execution_count": 42,
   "id": "corrected-country",
   "metadata": {
    "id": "corrected-country"
   },
   "outputs": [],
   "source": [
    "qgan.enable_visualization(image_shape, n_image=16)"
   ]
  },
  {
   "cell_type": "code",
   "execution_count": 25,
   "id": "da9d4cad",
   "metadata": {},
   "outputs": [
    {
     "data": {
      "text/plain": [
       "(186750, 8, 8)"
      ]
     },
     "execution_count": 25,
     "metadata": {},
     "output_type": "execute_result"
    }
   ],
   "source": [
    "x_train_rescaled.shape"
   ]
  },
  {
   "cell_type": "code",
   "execution_count": 26,
   "id": "ed9a0017",
   "metadata": {},
   "outputs": [],
   "source": [
    "new_x_train = np.reshape(x_train_rescaled, [x_train_rescaled.shape[0], 8, 8, 1])"
   ]
  },
  {
   "cell_type": "code",
   "execution_count": null,
   "id": "extraordinary-cause",
   "metadata": {
    "id": "extraordinary-cause",
    "outputId": "ad6a4f2f-e66d-48a5-87ec-4c3f7e3b8c9b"
   },
   "outputs": [
    {
     "data": {
      "image/png": "[encoded data removed]",
      "text/plain": [
       "<Figure size 1152x648 with 17 Axes>"
      ]
     },
     "metadata": {
      "needs_background": "light"
     },
     "output_type": "display_data"
    }
   ],
   "source": [
    "g_loss, d_loss = qgan.train(new_x_train[:200])"
   ]
  },
  {
   "cell_type": "code",
   "execution_count": null,
   "id": "saved-grove",
   "metadata": {
    "id": "saved-grove"
   },
   "outputs": [],
   "source": []
  }
 ],
 "metadata": {
  "colab": {
   "name": "GSoC2021-T02-QGAN-with-QCNN.ipynb",
   "provenance": []
  },
  "kernelspec": {
   "display_name": "Python 3",
   "language": "python",
   "name": "python3"
  },
  "language_info": {
   "codemirror_mode": {
    "name": "ipython",
    "version": 3
   },
   "file_extension": ".py",
   "mimetype": "text/x-python",
   "name": "python",
   "nbconvert_exporter": "python",
   "pygments_lexer": "ipython3",
   "version": "3.7.10"
  }
 },
 "nbformat": 4,
 "nbformat_minor": 5
}
