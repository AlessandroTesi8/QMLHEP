{
 "cells": [
  {
   "cell_type": "code",
   "execution_count": null,
   "id": "balanced-number",
   "metadata": {
    "id": "balanced-number"
   },
   "outputs": [],
   "source": [
    "if 'google.colab' in str(get_ipython()):\n",
    "  # install packages required for this tutorial\n",
    "  !pip install tensorflow==2.3.1\n",
    "  !pip install tensorflow_quantum==0.4.0\n",
    "  !pip install quple==0.7.8"
   ]
  },
  {
   "cell_type": "markdown",
   "id": "frank-mechanism",
   "metadata": {
    "id": "frank-mechanism"
   },
   "source": [
    "# Tutorial-04 Encoding Function\n",
    "\n",
    "In this tutorial, you will learn how to:\n",
    "\n",
    "- use various encoding functions for data encoding\n",
    "- create your own encoding functions"
   ]
  },
  {
   "cell_type": "markdown",
   "id": "median-ghost",
   "metadata": {
    "id": "median-ghost"
   },
   "source": [
    "# Encoding Function\n",
    "\n",
    "An encoding function $\\phi(\\mathbf{x})$ specifies how input features $\\mathbf{x}$ are encoded into the parameters of a unitary gate operation in an encoding circuit. Usually, the parameters involved in a unitary gate operation are the rotation angles about some axis of the single qubit or multi-qubit Bloch sphere depending on the number of qubits the gate operation is acting on. Therefore, for input features of dimension $n$, the encoding function is a map $f: \\mathbb{R}^n \\rightarrow \\mathbb{R}$. It is natural to restrict the range of the encoding function to be within $(0, 2\\pi)$ or $(-\\pi, \\pi)$ to correspond to the effective range of an angle of rotation. \n",
    "\t\n",
    "In Quple, encoding circuits from the `EncodingCircuit` class (see next tutorial) will have its gate operations parameterized by the expressions of the form $\\pi\\phi(\\mathbf{x})$ with the $\\pi$ factor extracted out by default which restricts the range of $\\phi(\\mathbf{x})$ to be within $[0, 2]$ or $[-1, 1]$. One can also remove this $\\pi$ factor by specifying the `parameter_scale` argument when initializing the `EncodingCircuit` instance. There are a number of encoding functions that are implemented in Quple which also put a restriction on the value of each input feature to be within $[-1, +1]$ to make sure the encoding functions will map input features of arbitrary dimension to a value of the required range.  Users can also create their own encoding function as  long as it takes an array like input $\\mathbf{x}$ and output a number that is within the required range. \n",
    "\n",
    "Some of the available encoding functions are\n",
    "\n",
    "| Encoding Function   |    Formula  ($n=1$)   |  <div style=\"width:500px\">     Formula($n>1$)    </div> | Domain  |  <div style=\"width:500px\">  Range  </div> |\n",
    "| :-----------------: |:-------------:| :-------------:| :-------:| :------:|\n",
    "| self_product      | $x_0$    | $\\prod_{i=0}^n x_i$ | [-1, +1] | [-1, +1] |\n",
    "|cosine_product | $x_0$ |$\\prod_{i=0}^n (\\cos(\\pi(x_i+1)/2))$ | [-1, +1] | [1, +1] |\t\n",
    "|distance_measure |$x_0$ |$\\prod_{i<j} (x_i-x_j)/2^{\\text{pairs}}$  | [-1, +1] | [-1, +1]  |\n",
    "|one_norm_distance |$x_0$ | $\\sum_{i<j} |x_i-x_j|/\\text{pairs}$ | [-1, +1] | [0, +2] |\t\t\t\t\t\t\t\n",
    "|two_norm_distance |$x_0$ | $[\\sum_{i<j} (x_i-x_j)^2/{\\text{pairs}}]^{1/2}$ | [-1, +1] | [0, +2]  |\t\n",
    "|arithmetic_mean | $x_0$ |\t$\\sum_{i=0}^n x_i/n$ | [-1, +1] | [-1, +1]  |\t\t\t\t\t\t\t\t\n",
    "|second_moment | $x_0$ |\t$[\\sum_{i=0}^n (x_i+1)^2/n]^{1/2}$ | [-1, +1] | [-1, +1]  |\t\t\t\t\t\t\t\t\n",
    "|cube_sum | \t$x_0$ |$\\sum_{i=0}^n x_i^3/n$ | [-1, +1] | [-1, +1]  |\t\t\t\t\t\t\t\t\n",
    "|exponential_square_sum | $x_0$ |\t$2\\exp[(\\sum_{i=0}^n x_i^2/n)-1]$ | [-1, +1] | [$2\\exp(-1)$, +2] |\t\t\t\t\t\t\t\t\n",
    "|exponential_cube_sum | $x_0$ |\t$2\\exp[(\\sum_{i=0}^n x_i^3/n)-1]$ | [-1, +1] | [$2\\exp(-2)$, +2] |\n",
    "|polynomial | $x_0^d$ |\t$[\\sum_{i=0}^n x_i/n]^d$ | [-1, +1] | [-1, +1] |"
   ]
  },
  {
   "cell_type": "code",
   "execution_count": null,
   "id": "crazy-realtor",
   "metadata": {
    "id": "crazy-realtor"
   },
   "outputs": [],
   "source": [
    "from quple.data_encoding.encoding_maps import (self_product, cosine_product, modified_cosine_product, \n",
    "distance_measure, one_norm_distance, two_norm_distance, arithmetic_mean, second_moment, cube_sum, \n",
    "exponential_cube_sum, exponential_square_sum, polynomial)"
   ]
  },
  {
   "cell_type": "code",
   "execution_count": null,
   "id": "joint-rotation",
   "metadata": {
    "id": "joint-rotation"
   },
   "outputs": [],
   "source": [
    "# Prepare the parameter symbols\n",
    "import sympy as sp\n",
    "x = sp.symarray('x', 5)"
   ]
  },
  {
   "cell_type": "code",
   "execution_count": null,
   "id": "joined-following",
   "metadata": {
    "id": "joined-following",
    "outputId": "4097c07f-ba71-45a7-e170-c14e9cd24c59"
   },
   "outputs": [
    {
     "data": {
      "text/latex": [
       "$\\displaystyle \\cos{\\left(x_{0} \\right)} \\cos{\\left(x_{1} \\right)} \\cos{\\left(x_{2} \\right)} \\cos{\\left(x_{3} \\right)} \\cos{\\left(x_{4} \\right)}$"
      ],
      "text/plain": [
       "cos(x_0)*cos(x_1)*cos(x_2)*cos(x_3)*cos(x_4)"
      ]
     },
     "execution_count": 4,
     "metadata": {
      "tags": []
     },
     "output_type": "execute_result"
    }
   ],
   "source": [
    "# this version of cosine product is without rescaling the range of angles\n",
    "cosine_product(x)"
   ]
  },
  {
   "cell_type": "code",
   "execution_count": null,
   "id": "adjusted-firewall",
   "metadata": {
    "id": "adjusted-firewall",
    "outputId": "425af623-3e79-4775-bf04-e1666e77b7fd"
   },
   "outputs": [
    {
     "data": {
      "text/latex": [
       "$\\displaystyle \\cos{\\left(\\pi \\left(\\frac{x_{0}}{2} + \\frac{1}{2}\\right) \\right)} \\cos{\\left(\\pi \\left(\\frac{x_{1}}{2} + \\frac{1}{2}\\right) \\right)} \\cos{\\left(\\pi \\left(\\frac{x_{2}}{2} + \\frac{1}{2}\\right) \\right)} \\cos{\\left(\\pi \\left(\\frac{x_{3}}{2} + \\frac{1}{2}\\right) \\right)} \\cos{\\left(\\pi \\left(\\frac{x_{4}}{2} + \\frac{1}{2}\\right) \\right)}$"
      ],
      "text/plain": [
       "cos(pi*(x_0/2 + 1/2))*cos(pi*(x_1/2 + 1/2))*cos(pi*(x_2/2 + 1/2))*cos(pi*(x_3/2 + 1/2))*cos(pi*(x_4/2 + 1/2))"
      ]
     },
     "execution_count": 5,
     "metadata": {
      "tags": []
     },
     "output_type": "execute_result"
    }
   ],
   "source": [
    "# this version of cosine product will rescale the range of angles\n",
    "modified_cosine_product(x)"
   ]
  },
  {
   "cell_type": "code",
   "execution_count": null,
   "id": "optical-brief",
   "metadata": {
    "id": "optical-brief",
    "outputId": "5140d5fa-749c-4a49-91f1-d10deb1b7fde"
   },
   "outputs": [
    {
     "data": {
      "text/latex": [
       "$\\displaystyle \\frac{\\left(- x_{0} + x_{4}\\right) \\left(x_{0} - x_{1}\\right) \\left(x_{1} - x_{2}\\right) \\left(x_{2} - x_{3}\\right) \\left(x_{3} - x_{4}\\right)}{32}$"
      ],
      "text/plain": [
       "(-x_0 + x_4)*(x_0 - x_1)*(x_1 - x_2)*(x_2 - x_3)*(x_3 - x_4)/32"
      ]
     },
     "execution_count": 6,
     "metadata": {
      "tags": []
     },
     "output_type": "execute_result"
    }
   ],
   "source": [
    "distance_measure(x)"
   ]
  },
  {
   "cell_type": "code",
   "execution_count": null,
   "id": "graphic-amplifier",
   "metadata": {
    "id": "graphic-amplifier",
    "outputId": "826cea03-e13e-4f5d-f71d-59bb20fa3bf0"
   },
   "outputs": [
    {
     "data": {
      "text/latex": [
       "$\\displaystyle \\frac{\\left|{x_{0} - x_{1}}\\right|}{5} + \\frac{\\left|{x_{0} - x_{4}}\\right|}{5} + \\frac{\\left|{x_{1} - x_{2}}\\right|}{5} + \\frac{\\left|{x_{2} - x_{3}}\\right|}{5} + \\frac{\\left|{x_{3} - x_{4}}\\right|}{5}$"
      ],
      "text/plain": [
       "Abs(x_0 - x_1)/5 + Abs(x_0 - x_4)/5 + Abs(x_1 - x_2)/5 + Abs(x_2 - x_3)/5 + Abs(x_3 - x_4)/5"
      ]
     },
     "execution_count": 7,
     "metadata": {
      "tags": []
     },
     "output_type": "execute_result"
    }
   ],
   "source": [
    "one_norm_distance(x)"
   ]
  },
  {
   "cell_type": "code",
   "execution_count": null,
   "id": "approved-monthly",
   "metadata": {
    "id": "approved-monthly",
    "outputId": "9103c733-7bd4-4b19-b973-0597c8e6407f"
   },
   "outputs": [
    {
     "data": {
      "text/latex": [
       "$\\displaystyle \\left(\\frac{\\left(- x_{0} + x_{4}\\right)^{2}}{5} + \\frac{\\left(x_{0} - x_{1}\\right)^{2}}{5} + \\frac{\\left(x_{1} - x_{2}\\right)^{2}}{5} + \\frac{\\left(x_{2} - x_{3}\\right)^{2}}{5} + \\frac{\\left(x_{3} - x_{4}\\right)^{2}}{5}\\right)^{0.5}$"
      ],
      "text/plain": [
       "((-x_0 + x_4)**2/5 + (x_0 - x_1)**2/5 + (x_1 - x_2)**2/5 + (x_2 - x_3)**2/5 + (x_3 - x_4)**2/5)**0.5"
      ]
     },
     "execution_count": 8,
     "metadata": {
      "tags": []
     },
     "output_type": "execute_result"
    }
   ],
   "source": [
    "two_norm_distance(x)"
   ]
  },
  {
   "cell_type": "code",
   "execution_count": null,
   "id": "painted-carol",
   "metadata": {
    "id": "painted-carol",
    "outputId": "4af71b3a-b65c-4ef5-9594-b5da9c62dfc0"
   },
   "outputs": [
    {
     "data": {
      "text/latex": [
       "$\\displaystyle \\frac{x_{0}}{5} + \\frac{x_{1}}{5} + \\frac{x_{2}}{5} + \\frac{x_{3}}{5} + \\frac{x_{4}}{5}$"
      ],
      "text/plain": [
       "x_0/5 + x_1/5 + x_2/5 + x_3/5 + x_4/5"
      ]
     },
     "execution_count": 9,
     "metadata": {
      "tags": []
     },
     "output_type": "execute_result"
    }
   ],
   "source": [
    "arithmetic_mean(x)"
   ]
  },
  {
   "cell_type": "code",
   "execution_count": null,
   "id": "sublime-section",
   "metadata": {
    "id": "sublime-section",
    "outputId": "eb33fec3-a866-481a-c8ef-f82daeb65b11"
   },
   "outputs": [
    {
     "data": {
      "text/latex": [
       "$\\displaystyle \\left(\\frac{\\left(x_{0} + 1\\right)^{2}}{5} + \\frac{\\left(x_{1} + 1\\right)^{2}}{5} + \\frac{\\left(x_{2} + 1\\right)^{2}}{5} + \\frac{\\left(x_{3} + 1\\right)^{2}}{5} + \\frac{\\left(x_{4} + 1\\right)^{2}}{5}\\right)^{0.5}$"
      ],
      "text/plain": [
       "((x_0 + 1)**2/5 + (x_1 + 1)**2/5 + (x_2 + 1)**2/5 + (x_3 + 1)**2/5 + (x_4 + 1)**2/5)**0.5"
      ]
     },
     "execution_count": 10,
     "metadata": {
      "tags": []
     },
     "output_type": "execute_result"
    }
   ],
   "source": [
    "second_moment(x)"
   ]
  },
  {
   "cell_type": "code",
   "execution_count": null,
   "id": "liked-stroke",
   "metadata": {
    "id": "liked-stroke",
    "outputId": "20a8395c-1e04-4d8e-ddca-258b0679b6f2"
   },
   "outputs": [
    {
     "data": {
      "text/latex": [
       "$\\displaystyle \\frac{x_{0}^{3}}{5} + \\frac{x_{1}^{3}}{5} + \\frac{x_{2}^{3}}{5} + \\frac{x_{3}^{3}}{5} + \\frac{x_{4}^{3}}{5}$"
      ],
      "text/plain": [
       "x_0**3/5 + x_1**3/5 + x_2**3/5 + x_3**3/5 + x_4**3/5"
      ]
     },
     "execution_count": 11,
     "metadata": {
      "tags": []
     },
     "output_type": "execute_result"
    }
   ],
   "source": [
    "cube_sum(x)"
   ]
  },
  {
   "cell_type": "code",
   "execution_count": null,
   "id": "gorgeous-debate",
   "metadata": {
    "id": "gorgeous-debate",
    "outputId": "edd7ea57-dc1d-473d-f15b-078fd05c55e7"
   },
   "outputs": [
    {
     "data": {
      "text/latex": [
       "$\\displaystyle 2 e^{\\frac{x_{0}^{2}}{5} + \\frac{x_{1}^{2}}{5} + \\frac{x_{2}^{2}}{5} + \\frac{x_{3}^{2}}{5} + \\frac{x_{4}^{2}}{5} - 1}$"
      ],
      "text/plain": [
       "2*exp(x_0**2/5 + x_1**2/5 + x_2**2/5 + x_3**2/5 + x_4**2/5 - 1)"
      ]
     },
     "execution_count": 12,
     "metadata": {
      "tags": []
     },
     "output_type": "execute_result"
    }
   ],
   "source": [
    "exponential_square_sum(x)"
   ]
  },
  {
   "cell_type": "code",
   "execution_count": null,
   "id": "romantic-video",
   "metadata": {
    "id": "romantic-video",
    "outputId": "a98a1aba-0fc6-40bd-c3be-66ca2fc90a33"
   },
   "outputs": [
    {
     "data": {
      "text/latex": [
       "$\\displaystyle 2 e^{\\frac{x_{0}^{3}}{5} + \\frac{x_{1}^{3}}{5} + \\frac{x_{2}^{3}}{5} + \\frac{x_{3}^{3}}{5} + \\frac{x_{4}^{3}}{5} - 1}$"
      ],
      "text/plain": [
       "2*exp(x_0**3/5 + x_1**3/5 + x_2**3/5 + x_3**3/5 + x_4**3/5 - 1)"
      ]
     },
     "execution_count": 13,
     "metadata": {
      "tags": []
     },
     "output_type": "execute_result"
    }
   ],
   "source": [
    "exponential_cube_sum(x)"
   ]
  },
  {
   "cell_type": "code",
   "execution_count": null,
   "id": "married-simple",
   "metadata": {
    "id": "married-simple",
    "outputId": "8c08e935-3a95-4675-a2ae-e50f410356e6"
   },
   "outputs": [
    {
     "data": {
      "text/latex": [
       "$\\displaystyle \\frac{\\left(\\frac{x_{0}}{5} + \\frac{x_{1}}{5} + \\frac{x_{2}}{5} + \\frac{x_{3}}{5} + \\frac{x_{4}}{5}\\right)^{2}}{\\pi}$"
      ],
      "text/plain": [
       "(x_0/5 + x_1/5 + x_2/5 + x_3/5 + x_4/5)**2/pi"
      ]
     },
     "execution_count": 14,
     "metadata": {
      "tags": []
     },
     "output_type": "execute_result"
    }
   ],
   "source": [
    "# for the \"polynomial\" encoding function, one can specify a degree parameter, d, to raise \n",
    "# the weighted sum of input values by the degree\n",
    "polynomial(degree=2)(x)"
   ]
  },
  {
   "cell_type": "code",
   "execution_count": null,
   "id": "alternative-scheduling",
   "metadata": {
    "id": "alternative-scheduling",
    "outputId": "53a35816-ddb6-41c9-9dc5-5b43c079dc21"
   },
   "outputs": [
    {
     "data": {
      "text/latex": [
       "$\\displaystyle \\left(\\frac{x_{0}}{5} + \\frac{x_{1}}{5} + \\frac{x_{2}}{5} + \\frac{x_{3}}{5} + \\frac{x_{4}}{5}\\right)^{5}$"
      ],
      "text/plain": [
       "(x_0/5 + x_1/5 + x_2/5 + x_3/5 + x_4/5)**5"
      ]
     },
     "execution_count": 15,
     "metadata": {
      "tags": []
     },
     "output_type": "execute_result"
    }
   ],
   "source": [
    "polynomial(degree=5, scale_factor=1)(x)"
   ]
  },
  {
   "cell_type": "code",
   "execution_count": null,
   "id": "sacred-channel",
   "metadata": {
    "id": "sacred-channel",
    "outputId": "56f4038a-fd7d-4d38-b604-36235e42306c"
   },
   "outputs": [
    {
     "data": {
      "text/html": [
       "<pre style=\"overflow: auto; white-space: pre;\">(0, 0): ───H───Rz(pi*&lt;x_0**3/pi&gt;)───@────────────────────────────────────@────────────────────────────────────────────\n",
       "                                    │                                    │\n",
       "(0, 1): ───H───Rz(pi*&lt;x_1**3/pi&gt;)───X───Rz(pi*&lt;(x_0/2 + x_1/2)**3/pi&gt;)───X───@────────────────────────────────────@───\n",
       "                                                                             │                                    │\n",
       "(0, 2): ───H───Rz(pi*&lt;x_2**3/pi&gt;)────────────────────────────────────────────X───Rz(pi*&lt;(x_1/2 + x_2/2)**3/pi&gt;)───X───</pre>"
      ],
      "text/plain": [
       "(0, 0): ───H───Rz(pi*<x_0**3/pi>)───@────────────────────────────────────@────────────────────────────────────────────\n",
       "                                    │                                    │\n",
       "(0, 1): ───H───Rz(pi*<x_1**3/pi>)───X───Rz(pi*<(x_0/2 + x_1/2)**3/pi>)───X───@────────────────────────────────────@───\n",
       "                                                                             │                                    │\n",
       "(0, 2): ───H───Rz(pi*<x_2**3/pi>)────────────────────────────────────────────X───Rz(pi*<(x_1/2 + x_2/2)**3/pi>)───X───"
      ]
     },
     "execution_count": 16,
     "metadata": {
      "tags": []
     },
     "output_type": "execute_result"
    }
   ],
   "source": [
    "# now try out the encoding function on an EncodingCircuit instance\n",
    "from quple.data_encoding import GeneralPauliEncoding\n",
    "# Construct an encoding circuit with GeneralPauliEncoding using the Paulis 'Z' and 'ZZ' for encoding data of feature dimension 3 using the cube sum encoding function. \n",
    "encoding_circuit = GeneralPauliEncoding(feature_dimension=3, paulis=['Z', 'ZZ'],\n",
    "                                        encoding_map=polynomial(degree=3), entangle_strategy='linear', copies=1)\n",
    "encoding_circuit"
   ]
  },
  {
   "cell_type": "code",
   "execution_count": null,
   "id": "mighty-bouquet",
   "metadata": {
    "id": "mighty-bouquet",
    "outputId": "9e166570-110b-4903-8f28-20fc6cbe898e"
   },
   "outputs": [
    {
     "data": {
      "text/html": [
       "<pre style=\"overflow: auto; white-space: pre;\">(0, 0): ───H───────────────Rz(pi*x_0)────────────────@──────────────────────────────────────────────────────@────────────────────────────────────────@──────────────────────────────────────────────────────────────────────────────────@─────────────────────────────────────────────────────────\n",
       "                                                     │                                                      │                                        │                                                                                  │\n",
       "(0, 1): ───────H────────────────────────Rz(pi*x_1)───X─────────────────────────Rz(pi*&lt;cos(x_0)*cos(x_1)&gt;)───X───@────────────────────────────────@───X────────────────────────────────────@─────────────────────────────────────────@───X───@─────────────────────────────────────────────────@───\n",
       "                                                                                                                │                                │                                        │                                         │       │                                                 │\n",
       "(0, 2): ───────────H─────────────────────────────────Rz(pi*x_2)─────────────────────────────────────────────────X───Rz(pi*&lt;cos(x_1)*cos(x_2)&gt;)───X───@────────────────────────────────@───X───Rz(pi*&lt;cos(x_0)*cos(x_1)*cos(x_2)&gt;)───X───────X───@─────────────────────────────────────────@───X───\n",
       "                                                                                                                                                     │                                │                                                         │                                         │\n",
       "(0, 3): ───────────────H──────────────────────────────────────────Rz(pi*x_3)─────────────────────────────────────────────────────────────────────────X───Rz(pi*&lt;cos(x_2)*cos(x_3)&gt;)───X─────────────────────────────────────────────────────────X───Rz(pi*&lt;cos(x_1)*cos(x_2)*cos(x_3)&gt;)───X───────</pre>"
      ],
      "text/plain": [
       "(0, 0): ───H───────────────Rz(pi*x_0)────────────────@──────────────────────────────────────────────────────@────────────────────────────────────────@──────────────────────────────────────────────────────────────────────────────────@─────────────────────────────────────────────────────────\n",
       "                                                     │                                                      │                                        │                                                                                  │\n",
       "(0, 1): ───────H────────────────────────Rz(pi*x_1)───X─────────────────────────Rz(pi*<cos(x_0)*cos(x_1)>)───X───@────────────────────────────────@───X────────────────────────────────────@─────────────────────────────────────────@───X───@─────────────────────────────────────────────────@───\n",
       "                                                                                                                │                                │                                        │                                         │       │                                                 │\n",
       "(0, 2): ───────────H─────────────────────────────────Rz(pi*x_2)─────────────────────────────────────────────────X───Rz(pi*<cos(x_1)*cos(x_2)>)───X───@────────────────────────────────@───X───Rz(pi*<cos(x_0)*cos(x_1)*cos(x_2)>)───X───────X───@─────────────────────────────────────────@───X───\n",
       "                                                                                                                                                     │                                │                                                         │                                         │\n",
       "(0, 3): ───────────────H──────────────────────────────────────────Rz(pi*x_3)─────────────────────────────────────────────────────────────────────────X───Rz(pi*<cos(x_2)*cos(x_3)>)───X─────────────────────────────────────────────────────────X───Rz(pi*<cos(x_1)*cos(x_2)*cos(x_3)>)───X───────"
      ]
     },
     "execution_count": 17,
     "metadata": {
      "tags": []
     },
     "output_type": "execute_result"
    }
   ],
   "source": [
    "import cirq\n",
    "encoding_circuit = GeneralPauliEncoding(feature_dimension=4, paulis=['Z', 'ZZ', 'ZZZ'],\n",
    "                                        encoding_map='cosine_product', entangle_strategy='linear', copies=1,\n",
    "                                        insert_strategy=cirq.circuits.InsertStrategy.NEW)\n",
    "encoding_circuit"
   ]
  },
  {
   "cell_type": "markdown",
   "id": "continuing-falls",
   "metadata": {
    "id": "continuing-falls"
   },
   "source": [
    "## Create customized encoding function"
   ]
  },
  {
   "cell_type": "code",
   "execution_count": null,
   "id": "dedicated-puzzle",
   "metadata": {
    "id": "dedicated-puzzle"
   },
   "outputs": [],
   "source": [
    "def naive_encoding(x) -> float:\n",
    "    \"\"\"\n",
    "    Function: (x_0 + x_1 - x_2 + x_3 ...)/n\n",
    "    Domain: (-1, +1)\n",
    "    Range: (-1, +1)\n",
    "\n",
    "    Args:\n",
    "        x: data\n",
    "\n",
    "    Returns:\n",
    "        float: the mapped value\n",
    "    \"\"\"\n",
    "    coeff = 0\n",
    "    for i, x_ in enumerate(x):\n",
    "        if i % 2 == 0:\n",
    "            coeff += x_\n",
    "        else:\n",
    "            coeff -= x_\n",
    "    coeff /= len(x)\n",
    "    return coeff"
   ]
  },
  {
   "cell_type": "code",
   "execution_count": null,
   "id": "asian-defense",
   "metadata": {
    "id": "asian-defense",
    "outputId": "e0d77923-dd53-4421-9711-85263227f568"
   },
   "outputs": [
    {
     "data": {
      "text/latex": [
       "$\\displaystyle \\frac{x_{0}}{5} - \\frac{x_{1}}{5} + \\frac{x_{2}}{5} - \\frac{x_{3}}{5} + \\frac{x_{4}}{5}$"
      ],
      "text/plain": [
       "x_0/5 - x_1/5 + x_2/5 - x_3/5 + x_4/5"
      ]
     },
     "execution_count": 19,
     "metadata": {
      "tags": []
     },
     "output_type": "execute_result"
    }
   ],
   "source": [
    "naive_encoding(x)"
   ]
  },
  {
   "cell_type": "code",
   "execution_count": null,
   "id": "referenced-administration",
   "metadata": {
    "id": "referenced-administration",
    "outputId": "7df878f3-0c1e-4b3d-eb4e-14bcb69f994d"
   },
   "outputs": [
    {
     "data": {
      "text/html": [
       "<pre style=\"overflow: auto; white-space: pre;\">(0, 0): ───H───Rz(pi*x_0)───@────────────────────────────@────────────────────────────────────@──────────────────────────────────────────────────────────────────────────────────────────────────@─────────────────────────────────────────────────────────────────────────────────────────────────────\n",
       "                            │                            │                                    │                                                                                                  │\n",
       "(0, 1): ───H───Rz(pi*x_1)───X───Rz(pi*&lt;x_0/2 - x_1/2&gt;)───X───@────────────────────────────@───X────────────────────────────────@─────────────────────────────────────────────────────────────@───X───@────────────────────────────────────────────@────────────────────────────────────────────────────\n",
       "                                                             │                            │                                    │                                                             │       │                                            │\n",
       "(0, 2): ───H───Rz(pi*x_2)────────────────────────────────────X───Rz(pi*&lt;x_1/2 - x_2/2&gt;)───X───@────────────────────────────@───X────────────────────────────Rz(pi*&lt;x_0/3 - x_1/3 + x_2/3&gt;)───X───────X───@────────────────────────────────────@───X───@────────────────────────────────────────────@───\n",
       "                                                                                              │                            │                                                                             │                                    │       │                                            │\n",
       "(0, 3): ───H───Rz(pi*x_3)─────────────────────────────────────────────────────────────────────X───Rz(pi*&lt;x_2/2 - x_3/2&gt;)───X───@────────────────────────────@────────────────────────────────────────────X───Rz(pi*&lt;x_1/3 - x_2/3 + x_3/3&gt;)───X───────X───@────────────────────────────────────@───X───\n",
       "                                                                                                                               │                            │                                                                                             │                                    │\n",
       "(0, 4): ───H───Rz(pi*x_4)──────────────────────────────────────────────────────────────────────────────────────────────────────X───Rz(pi*&lt;x_3/2 - x_4/2&gt;)───X─────────────────────────────────────────────────────────────────────────────────────────────X───Rz(pi*&lt;x_2/3 - x_3/3 + x_4/3&gt;)───X───────</pre>"
      ],
      "text/plain": [
       "(0, 0): ───H───Rz(pi*x_0)───@────────────────────────────@────────────────────────────────────@──────────────────────────────────────────────────────────────────────────────────────────────────@─────────────────────────────────────────────────────────────────────────────────────────────────────\n",
       "                            │                            │                                    │                                                                                                  │\n",
       "(0, 1): ───H───Rz(pi*x_1)───X───Rz(pi*<x_0/2 - x_1/2>)───X───@────────────────────────────@───X────────────────────────────────@─────────────────────────────────────────────────────────────@───X───@────────────────────────────────────────────@────────────────────────────────────────────────────\n",
       "                                                             │                            │                                    │                                                             │       │                                            │\n",
       "(0, 2): ───H───Rz(pi*x_2)────────────────────────────────────X───Rz(pi*<x_1/2 - x_2/2>)───X───@────────────────────────────@───X────────────────────────────Rz(pi*<x_0/3 - x_1/3 + x_2/3>)───X───────X───@────────────────────────────────────@───X───@────────────────────────────────────────────@───\n",
       "                                                                                              │                            │                                                                             │                                    │       │                                            │\n",
       "(0, 3): ───H───Rz(pi*x_3)─────────────────────────────────────────────────────────────────────X───Rz(pi*<x_2/2 - x_3/2>)───X───@────────────────────────────@────────────────────────────────────────────X───Rz(pi*<x_1/3 - x_2/3 + x_3/3>)───X───────X───@────────────────────────────────────@───X───\n",
       "                                                                                                                               │                            │                                                                                             │                                    │\n",
       "(0, 4): ───H───Rz(pi*x_4)──────────────────────────────────────────────────────────────────────────────────────────────────────X───Rz(pi*<x_3/2 - x_4/2>)───X─────────────────────────────────────────────────────────────────────────────────────────────X───Rz(pi*<x_2/3 - x_3/3 + x_4/3>)───X───────"
      ]
     },
     "execution_count": 20,
     "metadata": {
      "tags": []
     },
     "output_type": "execute_result"
    }
   ],
   "source": [
    "encoding_circuit = GeneralPauliEncoding(feature_dimension=5, paulis=['Z','ZZ', 'ZZZ'],\n",
    "                                        encoding_map=naive_encoding, entangle_strategy='linear', copies=1)\n",
    "encoding_circuit"
   ]
  },
  {
   "cell_type": "code",
   "execution_count": null,
   "id": "finite-banking",
   "metadata": {
    "id": "finite-banking"
   },
   "outputs": [],
   "source": [
    ""
   ]
  }
 ],
 "metadata": {
  "colab": {
   "name": "T04-Encoding_Map.ipynb",
   "provenance": []
  },
  "kernelspec": {
   "display_name": "Python 3",
   "language": "python",
   "name": "python3"
  },
  "language_info": {
   "codemirror_mode": {
    "name": "ipython",
    "version": 3
   },
   "file_extension": ".py",
   "mimetype": "text/x-python",
   "name": "python",
   "nbconvert_exporter": "python",
   "pygments_lexer": "ipython3",
   "version": "3.7.10"
  }
 },
 "nbformat": 4,
 "nbformat_minor": 5
}
