{
 "cells": [
  {
   "cell_type": "code",
   "execution_count": 1,
   "id": "90fc8d50",
   "metadata": {},
   "outputs": [],
   "source": [
    "import sys\n",
    "import os\n",
    "def set_scripts_path(scripts_path, undo=False):\n",
    "    if (scripts_path in sys.path) and (undo==True):\n",
    "        print('INFO: Removed {} from $PYTHONPATH'.format(scripts_path))\n",
    "        sys.path.remove(scripts_path)\n",
    "        os.environ[\"PYTHONPATH\"].replace(scripts_path+\":\",\"\")\n",
    "        \n",
    "    if (scripts_path not in sys.path) and (undo==False):\n",
    "        print('INFO: Adding {} to $PYTHONPATH'.format(scripts_path))\n",
    "        sys.path.append(scripts_path)\n",
    "        os.environ[\"PYTHONPATH\"] = scripts_path + \":\" + os.environ.get(\"PYTHONPATH\", \"\")"
   ]
  },
  {
   "cell_type": "code",
   "execution_count": 2,
   "id": "6ed0228c",
   "metadata": {},
   "outputs": [
    {
     "name": "stdout",
     "output_type": "stream",
     "text": [
      "INFO: Adding /afs/cern.ch/work/c/chlcheng/Repository/quple to $PYTHONPATH\n"
     ]
    }
   ],
   "source": [
    "set_scripts_path(\"/afs/cern.ch/work/c/chlcheng/Repository/quple\")"
   ]
  },
  {
   "cell_type": "code",
   "execution_count": 3,
   "id": "defde34d",
   "metadata": {},
   "outputs": [],
   "source": [
    "import numpy as np\n",
    "import cirq\n",
    "import tensorflow as tf\n",
    "from tensorflow.python.keras.engine.base_layer import Layer\n",
    "from tensorflow.python.keras.utils import conv_utils\n",
    "from tensorflow.python.framework import tensor_shape\n",
    "from tensorflow.python.keras import constraints, initializers, regularizers\n",
    "\n",
    "from quple.interface.tfq.layers import PQC\n",
    "from quple.interface.tfq.tf_utils import get_output_shape"
   ]
  },
  {
   "cell_type": "code",
   "execution_count": 4,
   "id": "b30a3b5c",
   "metadata": {},
   "outputs": [],
   "source": [
    "n_qubit = feature_dimension = 9"
   ]
  },
  {
   "cell_type": "code",
   "execution_count": 5,
   "id": "12d691a4",
   "metadata": {},
   "outputs": [
    {
     "data": {
      "text/html": [
       "<pre style=\"overflow: auto; white-space: pre;\">(0, 0): ───H───Rz(pi*&lt;x_0/pi&gt;)───H───Rz(pi*&lt;x_0/pi&gt;)───H───Rz(pi*&lt;x_0/pi&gt;)───\n",
       "\n",
       "(0, 1): ───H───Rz(pi*&lt;x_1/pi&gt;)───H───Rz(pi*&lt;x_1/pi&gt;)───H───Rz(pi*&lt;x_1/pi&gt;)───\n",
       "\n",
       "(0, 2): ───H───Rz(pi*&lt;x_2/pi&gt;)───H───Rz(pi*&lt;x_2/pi&gt;)───H───Rz(pi*&lt;x_2/pi&gt;)───\n",
       "\n",
       "(0, 3): ───H───Rz(pi*&lt;x_3/pi&gt;)───H───Rz(pi*&lt;x_3/pi&gt;)───H───Rz(pi*&lt;x_3/pi&gt;)───\n",
       "\n",
       "(0, 4): ───H───Rz(pi*&lt;x_4/pi&gt;)───H───Rz(pi*&lt;x_4/pi&gt;)───H───Rz(pi*&lt;x_4/pi&gt;)───\n",
       "\n",
       "(0, 5): ───H───Rz(pi*&lt;x_5/pi&gt;)───H───Rz(pi*&lt;x_5/pi&gt;)───H───Rz(pi*&lt;x_5/pi&gt;)───\n",
       "\n",
       "(0, 6): ───H───Rz(pi*&lt;x_6/pi&gt;)───H───Rz(pi*&lt;x_6/pi&gt;)───H───Rz(pi*&lt;x_6/pi&gt;)───\n",
       "\n",
       "(0, 7): ───H───Rz(pi*&lt;x_7/pi&gt;)───H───Rz(pi*&lt;x_7/pi&gt;)───H───Rz(pi*&lt;x_7/pi&gt;)───\n",
       "\n",
       "(0, 8): ───H───Rz(pi*&lt;x_8/pi&gt;)───H───Rz(pi*&lt;x_8/pi&gt;)───H───Rz(pi*&lt;x_8/pi&gt;)───</pre>"
      ],
      "text/plain": [
       "(0, 0): ───H───Rz(pi*<x_0/pi>)───H───Rz(pi*<x_0/pi>)───H───Rz(pi*<x_0/pi>)───\n",
       "\n",
       "(0, 1): ───H───Rz(pi*<x_1/pi>)───H───Rz(pi*<x_1/pi>)───H───Rz(pi*<x_1/pi>)───\n",
       "\n",
       "(0, 2): ───H───Rz(pi*<x_2/pi>)───H───Rz(pi*<x_2/pi>)───H───Rz(pi*<x_2/pi>)───\n",
       "\n",
       "(0, 3): ───H───Rz(pi*<x_3/pi>)───H───Rz(pi*<x_3/pi>)───H───Rz(pi*<x_3/pi>)───\n",
       "\n",
       "(0, 4): ───H───Rz(pi*<x_4/pi>)───H───Rz(pi*<x_4/pi>)───H───Rz(pi*<x_4/pi>)───\n",
       "\n",
       "(0, 5): ───H───Rz(pi*<x_5/pi>)───H───Rz(pi*<x_5/pi>)───H───Rz(pi*<x_5/pi>)───\n",
       "\n",
       "(0, 6): ───H───Rz(pi*<x_6/pi>)───H───Rz(pi*<x_6/pi>)───H───Rz(pi*<x_6/pi>)───\n",
       "\n",
       "(0, 7): ───H───Rz(pi*<x_7/pi>)───H───Rz(pi*<x_7/pi>)───H───Rz(pi*<x_7/pi>)───\n",
       "\n",
       "(0, 8): ───H───Rz(pi*<x_8/pi>)───H───Rz(pi*<x_8/pi>)───H───Rz(pi*<x_8/pi>)───"
      ]
     },
     "execution_count": 5,
     "metadata": {},
     "output_type": "execute_result"
    }
   ],
   "source": [
    "from quple.data_encoding import FirstOrderPauliZEncoding\n",
    "# create a data circuit for encoding the 3x3 data window\n",
    "data_circuit = FirstOrderPauliZEncoding(feature_dimension=n_qubit, copies=3, parameter_scale=1)\n",
    "data_circuit"
   ]
  },
  {
   "cell_type": "code",
   "execution_count": 6,
   "id": "787d9704",
   "metadata": {},
   "outputs": [],
   "source": [
    "from quple import ParameterisedCircuit"
   ]
  },
  {
   "cell_type": "code",
   "execution_count": 7,
   "id": "e2fa2de5",
   "metadata": {},
   "outputs": [
    {
     "data": {
      "text/html": [
       "<pre style=\"overflow: auto; white-space: pre;\">(0, 0): ───Rx(θ_0)───Rz(θ_9)────ZZ──────────Rx(θ_26)────Rz(θ_35)──────────────ZZ──────────Rx(θ_52)────Rz(θ_61)──────────────\n",
       "                                │                                             │\n",
       "(0, 1): ───Rx(θ_1)───Rz(θ_10)───ZZ^(θ_18)───ZZ──────────Rx(θ_27)───Rz(θ_36)───ZZ^(θ_44)───ZZ──────────Rx(θ_53)───Rz(θ_62)───\n",
       "                                            │                                             │\n",
       "(0, 2): ───Rx(θ_2)───Rz(θ_11)───ZZ──────────ZZ^(θ_22)───Rx(θ_28)───Rz(θ_37)───ZZ──────────ZZ^(θ_48)───Rx(θ_54)───Rz(θ_63)───\n",
       "                                │                                             │\n",
       "(0, 3): ───Rx(θ_3)───Rz(θ_12)───ZZ^(θ_19)───ZZ──────────Rx(θ_29)───Rz(θ_38)───ZZ^(θ_45)───ZZ──────────Rx(θ_55)───Rz(θ_64)───\n",
       "                                            │                                             │\n",
       "(0, 4): ───Rx(θ_4)───Rz(θ_13)───ZZ──────────ZZ^(θ_23)───Rx(θ_30)───Rz(θ_39)───ZZ──────────ZZ^(θ_49)───Rx(θ_56)───Rz(θ_65)───\n",
       "                                │                                             │\n",
       "(0, 5): ───Rx(θ_5)───Rz(θ_14)───ZZ^(θ_20)───ZZ──────────Rx(θ_31)───Rz(θ_40)───ZZ^(θ_46)───ZZ──────────Rx(θ_57)───Rz(θ_66)───\n",
       "                                            │                                             │\n",
       "(0, 6): ───Rx(θ_6)───Rz(θ_15)───ZZ──────────ZZ^(θ_24)───Rx(θ_32)───Rz(θ_41)───ZZ──────────ZZ^(θ_50)───Rx(θ_58)───Rz(θ_67)───\n",
       "                                │                                             │\n",
       "(0, 7): ───Rx(θ_7)───Rz(θ_16)───ZZ^(θ_21)───ZZ──────────Rx(θ_33)───Rz(θ_42)───ZZ^(θ_47)───ZZ──────────Rx(θ_59)───Rz(θ_68)───\n",
       "                                            │                                             │\n",
       "(0, 8): ───Rx(θ_8)───Rz(θ_17)───────────────ZZ^(θ_25)───Rx(θ_34)───Rz(θ_43)───────────────ZZ^(θ_51)───Rx(θ_60)───Rz(θ_69)───</pre>"
      ],
      "text/plain": [
       "(0, 0): ───Rx(θ_0)───Rz(θ_9)────ZZ──────────Rx(θ_26)────Rz(θ_35)──────────────ZZ──────────Rx(θ_52)────Rz(θ_61)──────────────\n",
       "                                │                                             │\n",
       "(0, 1): ───Rx(θ_1)───Rz(θ_10)───ZZ^(θ_18)───ZZ──────────Rx(θ_27)───Rz(θ_36)───ZZ^(θ_44)───ZZ──────────Rx(θ_53)───Rz(θ_62)───\n",
       "                                            │                                             │\n",
       "(0, 2): ───Rx(θ_2)───Rz(θ_11)───ZZ──────────ZZ^(θ_22)───Rx(θ_28)───Rz(θ_37)───ZZ──────────ZZ^(θ_48)───Rx(θ_54)───Rz(θ_63)───\n",
       "                                │                                             │\n",
       "(0, 3): ───Rx(θ_3)───Rz(θ_12)───ZZ^(θ_19)───ZZ──────────Rx(θ_29)───Rz(θ_38)───ZZ^(θ_45)───ZZ──────────Rx(θ_55)───Rz(θ_64)───\n",
       "                                            │                                             │\n",
       "(0, 4): ───Rx(θ_4)───Rz(θ_13)───ZZ──────────ZZ^(θ_23)───Rx(θ_30)───Rz(θ_39)───ZZ──────────ZZ^(θ_49)───Rx(θ_56)───Rz(θ_65)───\n",
       "                                │                                             │\n",
       "(0, 5): ───Rx(θ_5)───Rz(θ_14)───ZZ^(θ_20)───ZZ──────────Rx(θ_31)───Rz(θ_40)───ZZ^(θ_46)───ZZ──────────Rx(θ_57)───Rz(θ_66)───\n",
       "                                            │                                             │\n",
       "(0, 6): ───Rx(θ_6)───Rz(θ_15)───ZZ──────────ZZ^(θ_24)───Rx(θ_32)───Rz(θ_41)───ZZ──────────ZZ^(θ_50)───Rx(θ_58)───Rz(θ_67)───\n",
       "                                │                                             │\n",
       "(0, 7): ───Rx(θ_7)───Rz(θ_16)───ZZ^(θ_21)───ZZ──────────Rx(θ_33)───Rz(θ_42)───ZZ^(θ_47)───ZZ──────────Rx(θ_59)───Rz(θ_68)───\n",
       "                                            │                                             │\n",
       "(0, 8): ───Rx(θ_8)───Rz(θ_17)───────────────ZZ^(θ_25)───Rx(θ_34)───Rz(θ_43)───────────────ZZ^(θ_51)───Rx(θ_60)───Rz(θ_69)───"
      ]
     },
     "execution_count": 7,
     "metadata": {},
     "output_type": "execute_result"
    }
   ],
   "source": [
    "kernel_circuit = ParameterisedCircuit(n_qubit=n_qubit, copies=2, \n",
    "                                      rotation_blocks=[\"RX\", \"RZ\"],\n",
    "                                      entanglement_blocks=[\"ZZ\"],\n",
    "                                      entangle_strategy=\"alternate_linear\",\n",
    "                                      final_rotation_layer=True)\n",
    "kernel_circuit"
   ]
  },
  {
   "cell_type": "code",
   "execution_count": 56,
   "id": "9c6fe6fb",
   "metadata": {},
   "outputs": [],
   "source": []
  },
  {
   "cell_type": "code",
   "execution_count": 96,
   "id": "76b621b6",
   "metadata": {},
   "outputs": [],
   "source": [
    "class QConv2DEx(PQC):\n",
    "    def __init__(self, kernel_circuit,\n",
    "                 data_circuit,\n",
    "                 operators,\n",
    "                 kernel_size,\n",
    "                 filters=1,\n",
    "                 strides=1,\n",
    "                 padding='same',\n",
    "                 trainable=True,\n",
    "                 kernel_initializer=tf.keras.initializers.RandomUniform(0, 2 * np.pi),\n",
    "                 kernel_regularizer=None,\n",
    "                 kernel_constraint=None,\n",
    "                 parameter_sharing=True,\n",
    "                 name=None, **kwargs):\n",
    "        super(QConv2DEx, self).__init__(kernel_circuit, \n",
    "                                      data_circuit, \n",
    "                                      operators,\n",
    "                                      trainable=trainable, \n",
    "                                      name=name,\n",
    "                                      **kwargs)\n",
    "        self.kernel_initializer = initializers.get(kernel_initializer)\n",
    "        self.kernel_regularizer = regularizers.get(kernel_regularizer)\n",
    "        self.kernel_constraint = constraints.get(kernel_constraint)\n",
    "        self.filters = filters\n",
    "        self.rank = 2\n",
    "        self.kernel_size = conv_utils.normalize_tuple(kernel_size, self.rank, 'kernel_size')\n",
    "        self.strides = conv_utils.normalize_tuple(strides, self.rank, 'strides')\n",
    "        self.padding = conv_utils.normalize_padding(padding)\n",
    "        self.parameter_sharing = parameter_sharing\n",
    "        self._validate_init()\n",
    "        self._input_resolver = self._get_input_resolver()\n",
    "        \n",
    "    def _validate_init(self):\n",
    "        if not all(self.kernel_size):\n",
    "            raise ValueError('The argument `kernel_size` cannot contain 0(s). '\n",
    "                           'Received: %s' % (self.kernel_size,))\n",
    "\n",
    "        if not all(self.strides):\n",
    "            raise ValueError('The argument `strides` cannot contains 0(s). '\n",
    "                           'Received: %s' % (self.strides,))\n",
    "            \n",
    "        kernel_size = self.kernel_size[0]*self.kernel_size[1]\n",
    "        if self._n_qubit != kernel_size:\n",
    "            raise ValueError(f\"The kernel size (={kernel_size}) must match the number of \"\n",
    "                             f\"data qubits (={self._n_qubit})\")\n",
    "            \n",
    "    def build(self, input_shape):\n",
    "        \"\"\"Keras build function.\"\"\"\n",
    "        assert len(input_shape) in [3, 4]\n",
    "        if len(input_shape) == 3:\n",
    "            self.input_rows = input_shape[1]\n",
    "            self.input_cols = input_shape[2]\n",
    "            self.input_channels = 1\n",
    "        else:\n",
    "            self.input_rows = input_shape[1]\n",
    "            self.input_cols = input_shape[2]\n",
    "            self.input_channels = input_shape[3]\n",
    "        output_shape = get_output_shape(input_shape[1:3], self.kernel_size, self.strides, self.padding)\n",
    "        self.output_rows = output_shape[0]\n",
    "        self.output_cols = output_shape[1]\n",
    "        \n",
    "        if self.parameter_sharing:\n",
    "            kernel_shape = tf.TensorShape([self.filters, self.input_channels, self._symbols.shape[0]])\n",
    "        else:\n",
    "            kernel_shape = tf.TensorShape([self.filters, self.input_channels, \n",
    "                                           self.output_rows,\n",
    "                                           self.output_cols,\n",
    "                                           self._symbols.shape[0]])\n",
    "\n",
    "        self.kernel = self.add_weight(\n",
    "            name='kernel',\n",
    "            shape=kernel_shape,\n",
    "            initializer=self.kernel_initializer,\n",
    "            regularizer=self.kernel_regularizer,\n",
    "            constraint=self.kernel_constraint,\n",
    "            trainable=True,\n",
    "            dtype=self.dtype)\n",
    "        \n",
    "        super().build(input_shape)\n",
    "            \n",
    "    def init_weights(self):\n",
    "        pass\n",
    "        \n",
    "    def _get_input_resolver(self):\n",
    "        kernel_size = (1, 1) + self.kernel_size + (1,)\n",
    "        strides = (1, 1) + self.strides + (1,)\n",
    "        padding = self.padding.upper()\n",
    "        batchsize = lambda x: tf.gather(tf.shape(x), 0)\n",
    "        # planes = number of channels\n",
    "        planes = lambda x: tf.gather(tf.shape(x), 3)\n",
    "        rows = lambda x: tf.gather(tf.shape(x), 1)\n",
    "        cols = lambda x: tf.gather(tf.shape(x), 2)\n",
    "        depth = 1\n",
    "        # change to (batchsize, depth, rows, cols)\n",
    "        transposed_input = lambda x: tf.transpose(x, [0,3,1,2])\n",
    "        reshaped_input = lambda x: tf.reshape(transposed_input(x), \n",
    "                                              shape=(batchsize(x), planes(x), rows(x), cols(x), depth))\n",
    "        input_patches = lambda x: tf.extract_volume_patches(reshaped_input(x),\n",
    "            ksizes=kernel_size, strides=strides, padding=padding)\n",
    "        resolved_input = lambda x: self._data_circuit_resolver(input_patches(x))\n",
    "        return resolved_input\n",
    "        \n",
    "    def call(self, inputs):\n",
    "        \"\"\"Keras call function.\"\"\"\n",
    "        batchsize = tf.gather(tf.shape(inputs), 0)\n",
    "        depth = self.input_channels\n",
    "        rows = self.output_rows\n",
    "        cols = self.output_cols\n",
    "        resolved_inputs__ = self._input_resolver(inputs)\n",
    "        resolved_inputs_ = tf.reshape(resolved_inputs__, [batchsize, depth, \n",
    "                                                          self.output_rows, \n",
    "                                                          self.output_cols,\n",
    "                                                          self._num_formulas])\n",
    "        # change to (depth, batchsize, rows, cols, symbols)\n",
    "        resolved_inputs = tf.transpose(resolved_inputs_, [1, 0, 2, 3, 4])\n",
    "        # total number of circuit = filters*depth*batchsize*rows*cols\n",
    "        circuit_size = tf.reduce_prod([self.filters, batchsize, depth, rows, cols])\n",
    "        # tile inputs to (filters, depth, batchsize, rows, cols, symbols)\n",
    "        tiled_up_inputs_ = tf.tile([resolved_inputs], [self.filters, 1, 1, 1, 1, 1])\n",
    "        # reshape inputs to (circuit_size, symbols)\n",
    "        tiled_up_inputs = tf.reshape(tiled_up_inputs_, (circuit_size, tf.shape(tiled_up_inputs_)[-1]))\n",
    "        if self.parameter_sharing:\n",
    "            # tile size for weights = batchsize*rows*cols\n",
    "            tile_size = tf.reduce_prod([batchsize, rows, cols])\n",
    "            tiled_up_weights__ = tf.tile([self.kernel], [tile_size, 1, 1, 1])\n",
    "            # change to (filters, depth, batchsize*rows*cols, weight_symbols)\n",
    "            tiled_up_weights_ = tf.transpose(tiled_up_weights__, [1, 2, 0, 3])\n",
    "        else:\n",
    "            # tile size for weights = batchsize\n",
    "            # weight now has shape (batchsize, filters, depth, rows, cols, weight_symbols)\n",
    "            tiled_up_weights__ = tf.tile([self.kernel], [batchsize, 1, 1, 1, 1, 1])\n",
    "            # change to (filters, depth, batchsize, rows, cols, weight_symbols)\n",
    "            tiled_up_weights_ = tf.transpose(tiled_up_weights__, [1, 2, 0, 3, 4, 5])\n",
    "        # reshape to (circuit_size, weight_symbols)\n",
    "        tiled_up_weights = tf.reshape(tiled_up_weights_, (circuit_size, tf.shape(tiled_up_weights_)[-1]))\n",
    "        tiled_up_parameters = tf.concat([tiled_up_inputs, tiled_up_weights], 1)\n",
    "        \n",
    "        tiled_up_data_circuit = tf.tile(self._data_circuit, [circuit_size])\n",
    "        tiled_up_model = tf.tile(self._model_circuit, [circuit_size])\n",
    "        model_appended = self._append_layer(tiled_up_data_circuit, append=tiled_up_model)\n",
    "        tiled_up_operators = tf.tile(self._operators, [circuit_size, 1])\n",
    "        # this is disabled to make autograph compilation easier.\n",
    "        # pylint: disable=no-else-return\n",
    "        if self._analytic:\n",
    "            result = self._executor(model_appended,\n",
    "                                   symbol_names=self._all_symbols,\n",
    "                                   symbol_values=tiled_up_parameters,\n",
    "                                   operators=tiled_up_operators)\n",
    "        else:\n",
    "            tiled_up_repetitions = tf.tile(self._repetitions,\n",
    "                                           [circuit_batch_dim, 1])\n",
    "            result =  self._executor(model_appended,\n",
    "                                    symbol_names=self._all_symbols,\n",
    "                                    symbol_values=tiled_up_parameters,\n",
    "                                    operators=tiled_up_operators,\n",
    "                                    repetitions=tiled_up_repetitions)\n",
    "        reshaped_output = tf.reshape(result, \n",
    "                          (self.filters, self.input_channels, batchsize, self.output_rows, self.output_cols))\n",
    "        summed_output = tf.reduce_sum(reshaped_output, axis=1)\n",
    "        final_output = tf.transpose(summed_output, [1, 2, 3, 0])\n",
    "        return tf.reshape(final_output, (batchsize, self.output_rows, self.output_cols, self.filters))\n",
    "        # pylint: enable=no-else-return"
   ]
  },
  {
   "cell_type": "code",
   "execution_count": 97,
   "id": "d7784e1c",
   "metadata": {},
   "outputs": [],
   "source": [
    "#let's measure the last qubit\n",
    "readout = [cirq.Z(kernel_circuit.qubits[-1])]\n",
    "test = QConv2DEx(kernel_circuit, data_circuit, readout, kernel_size=(3, 3), filters=2, strides=(1, 1), padding=\"same\",\n",
    "               parameter_sharing=False)"
   ]
  },
  {
   "cell_type": "code",
   "execution_count": 100,
   "id": "ead70a50",
   "metadata": {},
   "outputs": [
    {
     "ename": "ValueError",
     "evalue": "in user code:\n\n    <ipython-input-96-e37c6efdd4d8>:113 call  *\n        resolved_inputs__ = self._input_resolver(inputs)\n    <ipython-input-96-e37c6efdd4d8>:100 None  *\n        lambda x: self._data_circuit_resolver(input_patches(x))\n    <ipython-input-96-e37c6efdd4d8>:99 None  *\n        lambda x: tf.extract_volume_patches(reshaped_input(x),\n    <ipython-input-96-e37c6efdd4d8>:96 None  *\n        shape=(batchsize(x), planes(x), rows(x), cols(x), depth))\n    <ipython-input-96-e37c6efdd4d8>:95 None  *\n        lambda x: tf.transpose(x, [0,3,1,2])\n    /afs/cern.ch/work/c/chlcheng/public/local/conda/miniconda/envs/ml-base/lib/python3.7/site-packages/tensorflow/python/util/dispatch.py:201 wrapper  **\n        return target(*args, **kwargs)\n    /afs/cern.ch/work/c/chlcheng/public/local/conda/miniconda/envs/ml-base/lib/python3.7/site-packages/tensorflow/python/ops/array_ops.py:2135 transpose_v2\n        return transpose(a=a, perm=perm, name=name, conjugate=conjugate)\n    /afs/cern.ch/work/c/chlcheng/public/local/conda/miniconda/envs/ml-base/lib/python3.7/site-packages/tensorflow/python/util/dispatch.py:201 wrapper\n        return target(*args, **kwargs)\n    /afs/cern.ch/work/c/chlcheng/public/local/conda/miniconda/envs/ml-base/lib/python3.7/site-packages/tensorflow/python/ops/array_ops.py:2216 transpose\n        return transpose_fn(a, perm, name=name)\n    /afs/cern.ch/work/c/chlcheng/public/local/conda/miniconda/envs/ml-base/lib/python3.7/site-packages/tensorflow/python/ops/gen_array_ops.py:11595 transpose\n        \"Transpose\", x=x, perm=perm, name=name)\n    /afs/cern.ch/work/c/chlcheng/public/local/conda/miniconda/envs/ml-base/lib/python3.7/site-packages/tensorflow/python/framework/op_def_library.py:750 _apply_op_helper\n        attrs=attr_protos, op_def=op_def)\n    /afs/cern.ch/work/c/chlcheng/public/local/conda/miniconda/envs/ml-base/lib/python3.7/site-packages/tensorflow/python/framework/func_graph.py:592 _create_op_internal\n        compute_device)\n    /afs/cern.ch/work/c/chlcheng/public/local/conda/miniconda/envs/ml-base/lib/python3.7/site-packages/tensorflow/python/framework/ops.py:3536 _create_op_internal\n        op_def=op_def)\n    /afs/cern.ch/work/c/chlcheng/public/local/conda/miniconda/envs/ml-base/lib/python3.7/site-packages/tensorflow/python/framework/ops.py:2016 __init__\n        control_input_ops, op_def)\n    /afs/cern.ch/work/c/chlcheng/public/local/conda/miniconda/envs/ml-base/lib/python3.7/site-packages/tensorflow/python/framework/ops.py:1856 _create_c_op\n        raise ValueError(str(e))\n\n    ValueError: Dimension must be 3 but is 4 for '{{node q_conv2d_ex_23/transpose}} = Transpose[T=DT_FLOAT, Tperm=DT_INT32](Placeholder, q_conv2d_ex_23/transpose/perm)' with input shapes: [?,8,8], [4].\n",
     "output_type": "error",
     "traceback": [
      "\u001b[0;31m---------------------------------------------------------------------------\u001b[0m",
      "\u001b[0;31mValueError\u001b[0m                                Traceback (most recent call last)",
      "\u001b[0;32m<ipython-input-100-590c9558735d>\u001b[0m in \u001b[0;36m<module>\u001b[0;34m\u001b[0m\n\u001b[1;32m      1\u001b[0m \u001b[0mquantum_discriminator\u001b[0m \u001b[0;34m=\u001b[0m \u001b[0mtf\u001b[0m\u001b[0;34m.\u001b[0m\u001b[0mkeras\u001b[0m\u001b[0;34m.\u001b[0m\u001b[0mSequential\u001b[0m\u001b[0;34m(\u001b[0m\u001b[0;34m)\u001b[0m\u001b[0;34m\u001b[0m\u001b[0;34m\u001b[0m\u001b[0m\n\u001b[1;32m      2\u001b[0m \u001b[0mquantum_discriminator\u001b[0m\u001b[0;34m.\u001b[0m\u001b[0madd\u001b[0m\u001b[0;34m(\u001b[0m\u001b[0mtf\u001b[0m\u001b[0;34m.\u001b[0m\u001b[0mkeras\u001b[0m\u001b[0;34m.\u001b[0m\u001b[0mlayers\u001b[0m\u001b[0;34m.\u001b[0m\u001b[0mInput\u001b[0m\u001b[0;34m(\u001b[0m\u001b[0mshape\u001b[0m\u001b[0;34m=\u001b[0m\u001b[0;34m(\u001b[0m\u001b[0;36m8\u001b[0m\u001b[0;34m,\u001b[0m \u001b[0;36m8\u001b[0m\u001b[0;34m)\u001b[0m\u001b[0;34m,\u001b[0m \u001b[0mdtype\u001b[0m\u001b[0;34m=\u001b[0m\u001b[0mtf\u001b[0m\u001b[0;34m.\u001b[0m\u001b[0mfloat32\u001b[0m\u001b[0;34m)\u001b[0m\u001b[0;34m)\u001b[0m\u001b[0;34m\u001b[0m\u001b[0;34m\u001b[0m\u001b[0m\n\u001b[0;32m----> 3\u001b[0;31m \u001b[0mquantum_discriminator\u001b[0m\u001b[0;34m.\u001b[0m\u001b[0madd\u001b[0m\u001b[0;34m(\u001b[0m\u001b[0mQConv2DEx\u001b[0m\u001b[0;34m(\u001b[0m\u001b[0mkernel_circuit\u001b[0m\u001b[0;34m,\u001b[0m \u001b[0mdata_circuit\u001b[0m\u001b[0;34m,\u001b[0m \u001b[0mreadout\u001b[0m\u001b[0;34m,\u001b[0m \u001b[0mkernel_size\u001b[0m\u001b[0;34m=\u001b[0m\u001b[0;34m(\u001b[0m\u001b[0;36m3\u001b[0m\u001b[0;34m,\u001b[0m \u001b[0;36m3\u001b[0m\u001b[0;34m)\u001b[0m\u001b[0;34m,\u001b[0m \u001b[0mstrides\u001b[0m\u001b[0;34m=\u001b[0m\u001b[0;34m(\u001b[0m\u001b[0;36m2\u001b[0m\u001b[0;34m,\u001b[0m \u001b[0;36m2\u001b[0m\u001b[0;34m)\u001b[0m\u001b[0;34m,\u001b[0m \u001b[0mpadding\u001b[0m\u001b[0;34m=\u001b[0m\u001b[0;34m\"same\"\u001b[0m\u001b[0;34m)\u001b[0m\u001b[0;34m)\u001b[0m\u001b[0;34m\u001b[0m\u001b[0;34m\u001b[0m\u001b[0m\n\u001b[0m",
      "\u001b[0;32m/afs/cern.ch/work/c/chlcheng/public/local/conda/miniconda/envs/ml-base/lib/python3.7/site-packages/tensorflow/python/training/tracking/base.py\u001b[0m in \u001b[0;36m_method_wrapper\u001b[0;34m(self, *args, **kwargs)\u001b[0m\n\u001b[1;32m    515\u001b[0m     \u001b[0mself\u001b[0m\u001b[0;34m.\u001b[0m\u001b[0m_self_setattr_tracking\u001b[0m \u001b[0;34m=\u001b[0m \u001b[0;32mFalse\u001b[0m  \u001b[0;31m# pylint: disable=protected-access\u001b[0m\u001b[0;34m\u001b[0m\u001b[0;34m\u001b[0m\u001b[0m\n\u001b[1;32m    516\u001b[0m     \u001b[0;32mtry\u001b[0m\u001b[0;34m:\u001b[0m\u001b[0;34m\u001b[0m\u001b[0;34m\u001b[0m\u001b[0m\n\u001b[0;32m--> 517\u001b[0;31m       \u001b[0mresult\u001b[0m \u001b[0;34m=\u001b[0m \u001b[0mmethod\u001b[0m\u001b[0;34m(\u001b[0m\u001b[0mself\u001b[0m\u001b[0;34m,\u001b[0m \u001b[0;34m*\u001b[0m\u001b[0margs\u001b[0m\u001b[0;34m,\u001b[0m \u001b[0;34m**\u001b[0m\u001b[0mkwargs\u001b[0m\u001b[0;34m)\u001b[0m\u001b[0;34m\u001b[0m\u001b[0;34m\u001b[0m\u001b[0m\n\u001b[0m\u001b[1;32m    518\u001b[0m     \u001b[0;32mfinally\u001b[0m\u001b[0;34m:\u001b[0m\u001b[0;34m\u001b[0m\u001b[0;34m\u001b[0m\u001b[0m\n\u001b[1;32m    519\u001b[0m       \u001b[0mself\u001b[0m\u001b[0;34m.\u001b[0m\u001b[0m_self_setattr_tracking\u001b[0m \u001b[0;34m=\u001b[0m \u001b[0mprevious_value\u001b[0m  \u001b[0;31m# pylint: disable=protected-access\u001b[0m\u001b[0;34m\u001b[0m\u001b[0;34m\u001b[0m\u001b[0m\n",
      "\u001b[0;32m/afs/cern.ch/work/c/chlcheng/public/local/conda/miniconda/envs/ml-base/lib/python3.7/site-packages/tensorflow/python/keras/engine/sequential.py\u001b[0m in \u001b[0;36madd\u001b[0;34m(self, layer)\u001b[0m\n\u001b[1;32m    221\u001b[0m       \u001b[0;31m# If the model is being built continuously on top of an input layer:\u001b[0m\u001b[0;34m\u001b[0m\u001b[0;34m\u001b[0m\u001b[0;34m\u001b[0m\u001b[0m\n\u001b[1;32m    222\u001b[0m       \u001b[0;31m# refresh its output.\u001b[0m\u001b[0;34m\u001b[0m\u001b[0;34m\u001b[0m\u001b[0;34m\u001b[0m\u001b[0m\n\u001b[0;32m--> 223\u001b[0;31m       \u001b[0moutput_tensor\u001b[0m \u001b[0;34m=\u001b[0m \u001b[0mlayer\u001b[0m\u001b[0;34m(\u001b[0m\u001b[0mself\u001b[0m\u001b[0;34m.\u001b[0m\u001b[0moutputs\u001b[0m\u001b[0;34m[\u001b[0m\u001b[0;36m0\u001b[0m\u001b[0;34m]\u001b[0m\u001b[0;34m)\u001b[0m\u001b[0;34m\u001b[0m\u001b[0;34m\u001b[0m\u001b[0m\n\u001b[0m\u001b[1;32m    224\u001b[0m       \u001b[0;32mif\u001b[0m \u001b[0mlen\u001b[0m\u001b[0;34m(\u001b[0m\u001b[0mnest\u001b[0m\u001b[0;34m.\u001b[0m\u001b[0mflatten\u001b[0m\u001b[0;34m(\u001b[0m\u001b[0moutput_tensor\u001b[0m\u001b[0;34m)\u001b[0m\u001b[0;34m)\u001b[0m \u001b[0;34m!=\u001b[0m \u001b[0;36m1\u001b[0m\u001b[0;34m:\u001b[0m\u001b[0;34m\u001b[0m\u001b[0;34m\u001b[0m\u001b[0m\n\u001b[1;32m    225\u001b[0m         \u001b[0;32mraise\u001b[0m \u001b[0mValueError\u001b[0m\u001b[0;34m(\u001b[0m\u001b[0mSINGLE_LAYER_OUTPUT_ERROR_MSG\u001b[0m\u001b[0;34m)\u001b[0m\u001b[0;34m\u001b[0m\u001b[0;34m\u001b[0m\u001b[0m\n",
      "\u001b[0;32m/afs/cern.ch/work/c/chlcheng/public/local/conda/miniconda/envs/ml-base/lib/python3.7/site-packages/tensorflow/python/keras/engine/base_layer.py\u001b[0m in \u001b[0;36m__call__\u001b[0;34m(self, *args, **kwargs)\u001b[0m\n\u001b[1;32m    950\u001b[0m     \u001b[0;32mif\u001b[0m \u001b[0m_in_functional_construction_mode\u001b[0m\u001b[0;34m(\u001b[0m\u001b[0mself\u001b[0m\u001b[0;34m,\u001b[0m \u001b[0minputs\u001b[0m\u001b[0;34m,\u001b[0m \u001b[0margs\u001b[0m\u001b[0;34m,\u001b[0m \u001b[0mkwargs\u001b[0m\u001b[0;34m,\u001b[0m \u001b[0minput_list\u001b[0m\u001b[0;34m)\u001b[0m\u001b[0;34m:\u001b[0m\u001b[0;34m\u001b[0m\u001b[0;34m\u001b[0m\u001b[0m\n\u001b[1;32m    951\u001b[0m       return self._functional_construction_call(inputs, args, kwargs,\n\u001b[0;32m--> 952\u001b[0;31m                                                 input_list)\n\u001b[0m\u001b[1;32m    953\u001b[0m \u001b[0;34m\u001b[0m\u001b[0m\n\u001b[1;32m    954\u001b[0m     \u001b[0;31m# Maintains info about the `Layer.call` stack.\u001b[0m\u001b[0;34m\u001b[0m\u001b[0;34m\u001b[0m\u001b[0;34m\u001b[0m\u001b[0m\n",
      "\u001b[0;32m/afs/cern.ch/work/c/chlcheng/public/local/conda/miniconda/envs/ml-base/lib/python3.7/site-packages/tensorflow/python/keras/engine/base_layer.py\u001b[0m in \u001b[0;36m_functional_construction_call\u001b[0;34m(self, inputs, args, kwargs, input_list)\u001b[0m\n\u001b[1;32m   1089\u001b[0m         \u001b[0;31m# Check input assumptions set after layer building, e.g. input shape.\u001b[0m\u001b[0;34m\u001b[0m\u001b[0;34m\u001b[0m\u001b[0;34m\u001b[0m\u001b[0m\n\u001b[1;32m   1090\u001b[0m         outputs = self._keras_tensor_symbolic_call(\n\u001b[0;32m-> 1091\u001b[0;31m             inputs, input_masks, args, kwargs)\n\u001b[0m\u001b[1;32m   1092\u001b[0m \u001b[0;34m\u001b[0m\u001b[0m\n\u001b[1;32m   1093\u001b[0m         \u001b[0;32mif\u001b[0m \u001b[0moutputs\u001b[0m \u001b[0;32mis\u001b[0m \u001b[0;32mNone\u001b[0m\u001b[0;34m:\u001b[0m\u001b[0;34m\u001b[0m\u001b[0;34m\u001b[0m\u001b[0m\n",
      "\u001b[0;32m/afs/cern.ch/work/c/chlcheng/public/local/conda/miniconda/envs/ml-base/lib/python3.7/site-packages/tensorflow/python/keras/engine/base_layer.py\u001b[0m in \u001b[0;36m_keras_tensor_symbolic_call\u001b[0;34m(self, inputs, input_masks, args, kwargs)\u001b[0m\n\u001b[1;32m    820\u001b[0m       \u001b[0;32mreturn\u001b[0m \u001b[0mnest\u001b[0m\u001b[0;34m.\u001b[0m\u001b[0mmap_structure\u001b[0m\u001b[0;34m(\u001b[0m\u001b[0mkeras_tensor\u001b[0m\u001b[0;34m.\u001b[0m\u001b[0mKerasTensor\u001b[0m\u001b[0;34m,\u001b[0m \u001b[0moutput_signature\u001b[0m\u001b[0;34m)\u001b[0m\u001b[0;34m\u001b[0m\u001b[0;34m\u001b[0m\u001b[0m\n\u001b[1;32m    821\u001b[0m     \u001b[0;32melse\u001b[0m\u001b[0;34m:\u001b[0m\u001b[0;34m\u001b[0m\u001b[0;34m\u001b[0m\u001b[0m\n\u001b[0;32m--> 822\u001b[0;31m       \u001b[0;32mreturn\u001b[0m \u001b[0mself\u001b[0m\u001b[0;34m.\u001b[0m\u001b[0m_infer_output_signature\u001b[0m\u001b[0;34m(\u001b[0m\u001b[0minputs\u001b[0m\u001b[0;34m,\u001b[0m \u001b[0margs\u001b[0m\u001b[0;34m,\u001b[0m \u001b[0mkwargs\u001b[0m\u001b[0;34m,\u001b[0m \u001b[0minput_masks\u001b[0m\u001b[0;34m)\u001b[0m\u001b[0;34m\u001b[0m\u001b[0;34m\u001b[0m\u001b[0m\n\u001b[0m\u001b[1;32m    823\u001b[0m \u001b[0;34m\u001b[0m\u001b[0m\n\u001b[1;32m    824\u001b[0m   \u001b[0;32mdef\u001b[0m \u001b[0m_infer_output_signature\u001b[0m\u001b[0;34m(\u001b[0m\u001b[0mself\u001b[0m\u001b[0;34m,\u001b[0m \u001b[0minputs\u001b[0m\u001b[0;34m,\u001b[0m \u001b[0margs\u001b[0m\u001b[0;34m,\u001b[0m \u001b[0mkwargs\u001b[0m\u001b[0;34m,\u001b[0m \u001b[0minput_masks\u001b[0m\u001b[0;34m)\u001b[0m\u001b[0;34m:\u001b[0m\u001b[0;34m\u001b[0m\u001b[0;34m\u001b[0m\u001b[0m\n",
      "\u001b[0;32m/afs/cern.ch/work/c/chlcheng/public/local/conda/miniconda/envs/ml-base/lib/python3.7/site-packages/tensorflow/python/keras/engine/base_layer.py\u001b[0m in \u001b[0;36m_infer_output_signature\u001b[0;34m(self, inputs, args, kwargs, input_masks)\u001b[0m\n\u001b[1;32m    861\u001b[0m           \u001b[0;31m# TODO(kaftan): do we maybe_build here, or have we already done it?\u001b[0m\u001b[0;34m\u001b[0m\u001b[0;34m\u001b[0m\u001b[0;34m\u001b[0m\u001b[0m\n\u001b[1;32m    862\u001b[0m           \u001b[0mself\u001b[0m\u001b[0;34m.\u001b[0m\u001b[0m_maybe_build\u001b[0m\u001b[0;34m(\u001b[0m\u001b[0minputs\u001b[0m\u001b[0;34m)\u001b[0m\u001b[0;34m\u001b[0m\u001b[0;34m\u001b[0m\u001b[0m\n\u001b[0;32m--> 863\u001b[0;31m           \u001b[0moutputs\u001b[0m \u001b[0;34m=\u001b[0m \u001b[0mcall_fn\u001b[0m\u001b[0;34m(\u001b[0m\u001b[0minputs\u001b[0m\u001b[0;34m,\u001b[0m \u001b[0;34m*\u001b[0m\u001b[0margs\u001b[0m\u001b[0;34m,\u001b[0m \u001b[0;34m**\u001b[0m\u001b[0mkwargs\u001b[0m\u001b[0;34m)\u001b[0m\u001b[0;34m\u001b[0m\u001b[0;34m\u001b[0m\u001b[0m\n\u001b[0m\u001b[1;32m    864\u001b[0m \u001b[0;34m\u001b[0m\u001b[0m\n\u001b[1;32m    865\u001b[0m         \u001b[0mself\u001b[0m\u001b[0;34m.\u001b[0m\u001b[0m_handle_activity_regularization\u001b[0m\u001b[0;34m(\u001b[0m\u001b[0minputs\u001b[0m\u001b[0;34m,\u001b[0m \u001b[0moutputs\u001b[0m\u001b[0;34m)\u001b[0m\u001b[0;34m\u001b[0m\u001b[0;34m\u001b[0m\u001b[0m\n",
      "\u001b[0;32m/afs/cern.ch/work/c/chlcheng/public/local/conda/miniconda/envs/ml-base/lib/python3.7/site-packages/tensorflow/python/autograph/impl/api.py\u001b[0m in \u001b[0;36mwrapper\u001b[0;34m(*args, **kwargs)\u001b[0m\n\u001b[1;32m    668\u001b[0m       \u001b[0;32mexcept\u001b[0m \u001b[0mException\u001b[0m \u001b[0;32mas\u001b[0m \u001b[0me\u001b[0m\u001b[0;34m:\u001b[0m  \u001b[0;31m# pylint:disable=broad-except\u001b[0m\u001b[0;34m\u001b[0m\u001b[0;34m\u001b[0m\u001b[0m\n\u001b[1;32m    669\u001b[0m         \u001b[0;32mif\u001b[0m \u001b[0mhasattr\u001b[0m\u001b[0;34m(\u001b[0m\u001b[0me\u001b[0m\u001b[0;34m,\u001b[0m \u001b[0;34m'ag_error_metadata'\u001b[0m\u001b[0;34m)\u001b[0m\u001b[0;34m:\u001b[0m\u001b[0;34m\u001b[0m\u001b[0;34m\u001b[0m\u001b[0m\n\u001b[0;32m--> 670\u001b[0;31m           \u001b[0;32mraise\u001b[0m \u001b[0me\u001b[0m\u001b[0;34m.\u001b[0m\u001b[0mag_error_metadata\u001b[0m\u001b[0;34m.\u001b[0m\u001b[0mto_exception\u001b[0m\u001b[0;34m(\u001b[0m\u001b[0me\u001b[0m\u001b[0;34m)\u001b[0m\u001b[0;34m\u001b[0m\u001b[0;34m\u001b[0m\u001b[0m\n\u001b[0m\u001b[1;32m    671\u001b[0m         \u001b[0;32melse\u001b[0m\u001b[0;34m:\u001b[0m\u001b[0;34m\u001b[0m\u001b[0;34m\u001b[0m\u001b[0m\n\u001b[1;32m    672\u001b[0m           \u001b[0;32mraise\u001b[0m\u001b[0;34m\u001b[0m\u001b[0;34m\u001b[0m\u001b[0m\n",
      "\u001b[0;31mValueError\u001b[0m: in user code:\n\n    <ipython-input-96-e37c6efdd4d8>:113 call  *\n        resolved_inputs__ = self._input_resolver(inputs)\n    <ipython-input-96-e37c6efdd4d8>:100 None  *\n        lambda x: self._data_circuit_resolver(input_patches(x))\n    <ipython-input-96-e37c6efdd4d8>:99 None  *\n        lambda x: tf.extract_volume_patches(reshaped_input(x),\n    <ipython-input-96-e37c6efdd4d8>:96 None  *\n        shape=(batchsize(x), planes(x), rows(x), cols(x), depth))\n    <ipython-input-96-e37c6efdd4d8>:95 None  *\n        lambda x: tf.transpose(x, [0,3,1,2])\n    /afs/cern.ch/work/c/chlcheng/public/local/conda/miniconda/envs/ml-base/lib/python3.7/site-packages/tensorflow/python/util/dispatch.py:201 wrapper  **\n        return target(*args, **kwargs)\n    /afs/cern.ch/work/c/chlcheng/public/local/conda/miniconda/envs/ml-base/lib/python3.7/site-packages/tensorflow/python/ops/array_ops.py:2135 transpose_v2\n        return transpose(a=a, perm=perm, name=name, conjugate=conjugate)\n    /afs/cern.ch/work/c/chlcheng/public/local/conda/miniconda/envs/ml-base/lib/python3.7/site-packages/tensorflow/python/util/dispatch.py:201 wrapper\n        return target(*args, **kwargs)\n    /afs/cern.ch/work/c/chlcheng/public/local/conda/miniconda/envs/ml-base/lib/python3.7/site-packages/tensorflow/python/ops/array_ops.py:2216 transpose\n        return transpose_fn(a, perm, name=name)\n    /afs/cern.ch/work/c/chlcheng/public/local/conda/miniconda/envs/ml-base/lib/python3.7/site-packages/tensorflow/python/ops/gen_array_ops.py:11595 transpose\n        \"Transpose\", x=x, perm=perm, name=name)\n    /afs/cern.ch/work/c/chlcheng/public/local/conda/miniconda/envs/ml-base/lib/python3.7/site-packages/tensorflow/python/framework/op_def_library.py:750 _apply_op_helper\n        attrs=attr_protos, op_def=op_def)\n    /afs/cern.ch/work/c/chlcheng/public/local/conda/miniconda/envs/ml-base/lib/python3.7/site-packages/tensorflow/python/framework/func_graph.py:592 _create_op_internal\n        compute_device)\n    /afs/cern.ch/work/c/chlcheng/public/local/conda/miniconda/envs/ml-base/lib/python3.7/site-packages/tensorflow/python/framework/ops.py:3536 _create_op_internal\n        op_def=op_def)\n    /afs/cern.ch/work/c/chlcheng/public/local/conda/miniconda/envs/ml-base/lib/python3.7/site-packages/tensorflow/python/framework/ops.py:2016 __init__\n        control_input_ops, op_def)\n    /afs/cern.ch/work/c/chlcheng/public/local/conda/miniconda/envs/ml-base/lib/python3.7/site-packages/tensorflow/python/framework/ops.py:1856 _create_c_op\n        raise ValueError(str(e))\n\n    ValueError: Dimension must be 3 but is 4 for '{{node q_conv2d_ex_23/transpose}} = Transpose[T=DT_FLOAT, Tperm=DT_INT32](Placeholder, q_conv2d_ex_23/transpose/perm)' with input shapes: [?,8,8], [4].\n"
     ]
    }
   ],
   "source": [
    "quantum_discriminator = tf.keras.Sequential()\n",
    "quantum_discriminator.add(tf.keras.layers.Input(shape=(8, 8), dtype=tf.float32))\n",
    "quantum_discriminator.add(QConv2DEx(kernel_circuit, data_circuit, readout, kernel_size=(3, 3), strides=(2, 2), padding=\"same\"))"
   ]
  },
  {
   "cell_type": "code",
   "execution_count": 99,
   "id": "4cd50d12",
   "metadata": {},
   "outputs": [
    {
     "name": "stdout",
     "output_type": "stream",
     "text": [
      "Model: \"sequential_21\"\n",
      "_________________________________________________________________\n",
      "Layer (type)                 Output Shape              Param #   \n",
      "=================================================================\n",
      "q_conv2d_ex_22 (QConv2DEx)   (None, 4, 4, 1)           70        \n",
      "=================================================================\n",
      "Total params: 70\n",
      "Trainable params: 70\n",
      "Non-trainable params: 0\n",
      "_________________________________________________________________\n"
     ]
    }
   ],
   "source": [
    "quantum_discriminator.summary()"
   ]
  },
  {
   "cell_type": "code",
   "execution_count": null,
   "id": "ed1ce5e2",
   "metadata": {},
   "outputs": [],
   "source": []
  },
  {
   "cell_type": "code",
   "execution_count": 118,
   "id": "bdb22e51",
   "metadata": {},
   "outputs": [],
   "source": [
    "x = tf.random.normal((100, 8, 8, 2))"
   ]
  },
  {
   "cell_type": "code",
   "execution_count": 119,
   "id": "99e7c27f",
   "metadata": {},
   "outputs": [
    {
     "name": "stdout",
     "output_type": "stream",
     "text": [
      "> \u001b[0;32m<ipython-input-115-c93ed63707c7>\u001b[0m(140)\u001b[0;36mcall\u001b[0;34m()\u001b[0m\n",
      "\u001b[0;32m    138 \u001b[0;31m        \u001b[0;32mfrom\u001b[0m \u001b[0mpdb\u001b[0m \u001b[0;32mimport\u001b[0m \u001b[0mset_trace\u001b[0m\u001b[0;34m\u001b[0m\u001b[0;34m\u001b[0m\u001b[0m\n",
      "\u001b[0m\u001b[0;32m    139 \u001b[0;31m        \u001b[0mset_trace\u001b[0m\u001b[0;34m(\u001b[0m\u001b[0;34m)\u001b[0m\u001b[0;34m\u001b[0m\u001b[0;34m\u001b[0m\u001b[0m\n",
      "\u001b[0m\u001b[0;32m--> 140 \u001b[0;31m        \u001b[0mtiled_up_parameters\u001b[0m \u001b[0;34m=\u001b[0m \u001b[0mtf\u001b[0m\u001b[0;34m.\u001b[0m\u001b[0mconcat\u001b[0m\u001b[0;34m(\u001b[0m\u001b[0;34m[\u001b[0m\u001b[0mtiled_up_inputs\u001b[0m\u001b[0;34m,\u001b[0m \u001b[0mtiled_up_weights\u001b[0m\u001b[0;34m]\u001b[0m\u001b[0;34m,\u001b[0m \u001b[0;36m1\u001b[0m\u001b[0;34m)\u001b[0m\u001b[0;34m\u001b[0m\u001b[0;34m\u001b[0m\u001b[0m\n",
      "\u001b[0m\u001b[0;32m    141 \u001b[0;31m        \u001b[0mtiled_up_data_circuit\u001b[0m \u001b[0;34m=\u001b[0m \u001b[0mtf\u001b[0m\u001b[0;34m.\u001b[0m\u001b[0mtile\u001b[0m\u001b[0;34m(\u001b[0m\u001b[0mself\u001b[0m\u001b[0;34m.\u001b[0m\u001b[0m_data_circuit\u001b[0m\u001b[0;34m,\u001b[0m \u001b[0;34m[\u001b[0m\u001b[0mcircuit_size\u001b[0m\u001b[0;34m]\u001b[0m\u001b[0;34m)\u001b[0m\u001b[0;34m\u001b[0m\u001b[0;34m\u001b[0m\u001b[0m\n",
      "\u001b[0m\u001b[0;32m    142 \u001b[0;31m        \u001b[0mtiled_up_model\u001b[0m \u001b[0;34m=\u001b[0m \u001b[0mtf\u001b[0m\u001b[0;34m.\u001b[0m\u001b[0mtile\u001b[0m\u001b[0;34m(\u001b[0m\u001b[0mself\u001b[0m\u001b[0;34m.\u001b[0m\u001b[0m_model_circuit\u001b[0m\u001b[0;34m,\u001b[0m \u001b[0;34m[\u001b[0m\u001b[0mcircuit_size\u001b[0m\u001b[0;34m]\u001b[0m\u001b[0;34m)\u001b[0m\u001b[0;34m\u001b[0m\u001b[0;34m\u001b[0m\u001b[0m\n",
      "\u001b[0m\n",
      "ipdb> inputs[0,:,:,0]\n",
      "<tf.Tensor: shape=(8, 8), dtype=float32, numpy=\n",
      "array([[-0.77708006, -0.945327  , -0.94160396,  0.03044066, -1.4904144 ,\n",
      "         1.0022624 ,  0.23595925, -1.842535  ],\n",
      "       [-1.0484617 , -0.29157633, -1.3081642 ,  0.405258  , -1.5107528 ,\n",
      "        -0.69412893, -0.5926442 ,  0.26103324],\n",
      "       [ 0.0082136 , -1.4239479 ,  0.69008124,  0.08259916,  0.10254392,\n",
      "        -0.46653917,  1.3323748 ,  0.16490124],\n",
      "       [ 0.6106282 , -1.1500486 ,  0.03594787,  0.02456926,  0.1056964 ,\n",
      "        -0.04316906,  0.74224496,  1.9112325 ],\n",
      "       [-0.5059102 ,  0.21980336, -0.1863582 , -0.62336606,  0.412182  ,\n",
      "        -0.68651015,  0.15482792, -1.3640136 ],\n",
      "       [-1.3558731 ,  1.0560613 , -0.83422154,  0.09912393,  0.12171385,\n",
      "         1.0539122 , -0.5036021 ,  0.881807  ],\n",
      "       [ 1.3909911 , -1.1224368 ,  0.10425574,  0.33586267, -1.0540985 ,\n",
      "         1.0018715 , -0.03737715, -0.54436237],\n",
      "       [-0.95030427, -0.1115179 ,  0.2712232 ,  0.12853327,  0.52880853,\n",
      "        -0.19764324, -0.20904672, -0.59231704]], dtype=float32)>\n",
      "ipdb> resolved_inputs_[0,0,0,0,:]*np.pi\n",
      "<tf.Tensor: shape=(9,), dtype=float32, numpy=\n",
      "array([ 0.        ,  0.        ,  0.        ,  0.        , -0.77708006,\n",
      "       -0.94532704,  0.        , -1.0484617 , -0.29157633], dtype=float32)>\n",
      "ipdb> resolved_inputs.shape\n",
      "TensorShape([2, 100, 8, 8, 9])\n",
      "ipdb> resolved_inputs_[0,1,0,0,:]*np.pi\n",
      "<tf.Tensor: shape=(9,), dtype=float32, numpy=\n",
      "array([ 0.        ,  0.        ,  0.        ,  0.        ,  1.4455197 ,\n",
      "        0.10262072,  0.        ,  1.1416047 , -0.1263316 ], dtype=float32)>\n",
      "ipdb> inputs[1,:,:,0]\n",
      "<tf.Tensor: shape=(8, 8), dtype=float32, numpy=\n",
      "array([[-0.6269209 ,  0.6900776 , -0.3901079 , -1.0863123 ,  0.19332613,\n",
      "        -2.1079304 ,  2.4711442 , -1.1987243 ],\n",
      "       [ 0.18072528,  0.28146526, -0.47544876,  0.28016922,  0.672053  ,\n",
      "        -0.02052663,  0.8056307 , -0.9441488 ],\n",
      "       [-0.06846173,  0.55092806, -0.27825642, -0.32588306, -1.0039835 ,\n",
      "         0.1977548 ,  0.7355871 ,  0.62149405],\n",
      "       [-0.82322055, -1.2364324 , -0.03813186, -0.04769765, -0.7390427 ,\n",
      "        -0.12507413, -0.17866011, -0.17312641],\n",
      "       [-0.0906579 ,  1.0741605 , -1.2712966 ,  0.30367088,  1.1975322 ,\n",
      "        -1.3337694 , -0.69813335, -0.4192155 ],\n",
      "       [-0.47380984, -1.3154328 ,  1.10973   , -0.6536318 ,  0.93223256,\n",
      "         1.2988441 ,  0.99914867, -0.11494467],\n",
      "       [ 1.5131348 , -0.05621238,  1.6086435 ,  0.0521362 , -0.8101956 ,\n",
      "        -1.1265627 , -0.14584666, -0.38076016],\n",
      "       [ 0.8115024 , -1.0992907 ,  0.5041306 ,  0.07422098,  1.1143289 ,\n",
      "         1.2451708 , -1.7381729 , -1.3955591 ]], dtype=float32)>\n",
      "ipdb> inputs.shape\n",
      "TensorShape([100, 8, 8, 2])\n",
      "ipdb> inputs[0,:,:,1]\n",
      "<tf.Tensor: shape=(8, 8), dtype=float32, numpy=\n",
      "array([[ 1.4455198 ,  0.10262073,  0.369728  , -0.18621948,  0.63071704,\n",
      "         0.41875774, -0.49634936, -0.4776697 ],\n",
      "       [ 1.1416047 , -0.1263316 ,  0.27001095, -0.00575617,  0.455782  ,\n",
      "         0.25717902, -1.1559366 ,  0.5395292 ],\n",
      "       [-1.6345135 , -1.0187612 , -0.13429506,  0.11213805, -0.03860714,\n",
      "        -2.1045048 ,  2.4763048 ,  0.09108053],\n",
      "       [-0.83128566,  1.2391725 , -0.8115459 ,  1.9063302 ,  0.8371681 ,\n",
      "        -0.01895393, -0.5340138 , -0.5440671 ],\n",
      "       [ 0.28222263,  1.2715578 , -0.07796116, -1.4390423 ,  0.48475504,\n",
      "        -0.45067292, -2.34578   , -0.44951934],\n",
      "       [ 1.1699814 ,  0.3701617 , -0.45258027, -2.122722  , -0.18375154,\n",
      "         1.2787917 ,  0.3672011 ,  0.957945  ],\n",
      "       [ 0.1683489 , -0.23383854, -0.02379528,  0.4215129 ,  0.6588991 ,\n",
      "        -0.8119236 , -0.21950325, -0.9024616 ],\n",
      "       [-1.287752  , -0.39676332,  0.1377623 ,  0.4708011 , -1.4433012 ,\n",
      "         0.04679549,  0.00955531, -0.10577604]], dtype=float32)>\n",
      "ipdb> inputs[0,:,:,2]\n",
      "*** tensorflow.python.framework.errors_impl.InvalidArgumentError: slice index 2 of dimension 3 out of bounds. [Op:StridedSlice] name: q_conv2d_14/strided_slice/\n",
      "ipdb> resolved_inputs_[0,2,0,0,:]*np.pi\n",
      "*** tensorflow.python.framework.errors_impl.InvalidArgumentError: slice index 2 of dimension 1 out of bounds. [Op:StridedSlice] name: q_conv2d_14/strided_slice/\n",
      "ipdb> resolved_inputs_.shape\n",
      "TensorShape([100, 2, 8, 8, 9])\n",
      "ipdb> resolved_inputs_[1,0,0,0,:]\n",
      "<tf.Tensor: shape=(9,), dtype=float32, numpy=\n",
      "array([ 0.        ,  0.        ,  0.        ,  0.        , -0.1995551 ,\n",
      "        0.21965851,  0.        ,  0.05752664,  0.08959317], dtype=float32)>\n",
      "ipdb> resolved_inputs_[1,0,0,0,:]*np.pi\n",
      "<tf.Tensor: shape=(9,), dtype=float32, numpy=\n",
      "array([ 0.        ,  0.        ,  0.        ,  0.        , -0.6269209 ,\n",
      "        0.6900776 ,  0.        ,  0.18072528,  0.28146526], dtype=float32)>\n",
      "ipdb> resolved_inputs_[1,1,0,0,:]*np.pi\n",
      "<tf.Tensor: shape=(9,), dtype=float32, numpy=\n",
      "array([ 0.       ,  0.       ,  0.       ,  0.       ,  0.7134709,\n",
      "       -0.7142658,  0.       , -1.0642276, -0.1445789], dtype=float32)>\n",
      "ipdb> inputs[1,:,:,1]\n",
      "<tf.Tensor: shape=(8, 8), dtype=float32, numpy=\n",
      "array([[ 7.1347088e-01, -7.1426582e-01,  6.9229317e-01,  1.8212639e+00,\n",
      "        -4.1054569e-02, -6.2123853e-01,  9.7053868e-01,  1.4994659e+00],\n",
      "       [-1.0642276e+00, -1.4457890e-01,  1.0087489e+00, -9.4092613e-01,\n",
      "         6.3452721e-01, -1.8021043e-01,  1.7330804e+00, -3.6535642e-01],\n",
      "       [-1.0708901e+00,  5.6883371e-01, -1.4203507e+00,  1.3383247e-01,\n",
      "         2.7945113e+00,  4.8871100e-01,  3.0592123e-01,  1.4658874e+00],\n",
      "       [-2.8001814e+00, -4.4913650e-02,  2.2420137e+00, -7.8684133e-01,\n",
      "        -1.1474819e+00, -2.2786541e+00,  4.6760403e-02,  5.7790953e-01],\n",
      "       [-8.9941669e-01, -6.1794871e-01, -1.0148437e+00, -1.0559603e+00,\n",
      "        -3.0376968e-01, -6.6310918e-01, -2.1458900e+00, -2.6712620e-03],\n",
      "       [-1.5690215e+00,  9.9622732e-01, -9.1413391e-01,  1.2605112e+00,\n",
      "        -4.7277614e-01,  2.4534748e-01, -4.4142172e-01, -9.1727448e-01],\n",
      "       [-5.3776622e-01,  9.1878094e-02, -3.0540287e-01,  3.0811748e-01,\n",
      "        -5.4409802e-02,  4.0325785e-01, -6.3191277e-01, -7.1468741e-01],\n",
      "       [-6.2271631e-01, -5.8956659e-01,  3.4933105e-01,  8.9705634e-01,\n",
      "        -8.7732750e-01,  1.2499365e+00, -1.0877639e+00,  5.4979730e-01]],\n",
      "      dtype=float32)>\n",
      "ipdb> tiled_up_weights_.shape\n",
      "TensorShape([2, 2, 100, 8, 8, 70])\n",
      "ipdb> tiled_up_weights_[0,0,0,0,0,:]\n",
      "<tf.Tensor: shape=(70,), dtype=float32, numpy=\n",
      "array([5.185548  , 6.113634  , 6.016196  , 3.3406732 , 1.7252139 ,\n",
      "       0.34031004, 2.0673156 , 5.5676284 , 3.942978  , 5.0441723 ,\n",
      "       1.3809985 , 4.5315585 , 0.75442344, 1.2195829 , 4.3432503 ,\n",
      "       4.6748037 , 5.3782673 , 0.38596022, 5.7725415 , 0.7829624 ,\n",
      "       0.62621695, 0.12889409, 5.67204   , 5.2686534 , 4.4418364 ,\n",
      "       3.8500986 , 0.6484747 , 1.8922358 , 0.66613865, 4.2100606 ,\n",
      "       5.0106077 , 2.268348  , 0.11847904, 3.8393292 , 4.3312097 ,\n",
      "       4.3985085 , 2.1471357 , 4.7950068 , 2.9040542 , 1.9747014 ,\n",
      "       3.9140525 , 5.0528274 , 5.1554923 , 5.304993  , 2.4936454 ,\n",
      "       4.9341817 , 5.3627176 , 1.5293804 , 1.9054633 , 5.5376425 ,\n",
      "       2.0113897 , 3.805614  , 4.5584645 , 4.056428  , 4.6299624 ,\n",
      "       2.3682911 , 3.995997  , 0.8082109 , 0.95636064, 5.699064  ,\n",
      "       5.6603084 , 1.6122798 , 4.008034  , 3.9399354 , 5.2080245 ,\n",
      "       2.369539  , 0.86821216, 6.2133355 , 1.4608951 , 1.2520677 ],\n",
      "      dtype=float32)>\n"
     ]
    },
    {
     "name": "stdout",
     "output_type": "stream",
     "text": [
      "ipdb> self.kernel[0,0,:]\n",
      "<tf.Tensor: shape=(8, 8, 70), dtype=float32, numpy=\n",
      "array([[[5.1855478e+00, 6.1136341e+00, 6.0161958e+00, ...,\n",
      "         6.2133355e+00, 1.4608951e+00, 1.2520677e+00],\n",
      "        [3.1387105e+00, 2.1364202e+00, 2.6708853e+00, ...,\n",
      "         2.6980522e+00, 7.8766698e-01, 3.1465633e+00],\n",
      "        [1.0758688e-01, 1.3193545e+00, 6.2031279e+00, ...,\n",
      "         2.3892650e-01, 2.6077974e+00, 4.7155643e+00],\n",
      "        ...,\n",
      "        [6.7250156e-01, 4.9161081e+00, 4.3906059e+00, ...,\n",
      "         2.5630424e+00, 3.3633983e+00, 5.9487844e+00],\n",
      "        [2.8717199e-01, 4.7233787e+00, 3.4158204e+00, ...,\n",
      "         5.4853244e+00, 2.8513694e-01, 3.2969182e+00],\n",
      "        [4.2910333e+00, 4.1167798e+00, 6.0058126e+00, ...,\n",
      "         6.1613971e-01, 5.8584681e+00, 4.8211384e+00]],\n",
      "\n",
      "       [[3.1766331e+00, 3.0505874e+00, 4.8012471e+00, ...,\n",
      "         3.8724837e+00, 2.8785810e-01, 3.4446671e+00],\n",
      "        [4.3273315e-01, 5.6039886e+00, 1.3587062e+00, ...,\n",
      "         1.0644097e+00, 1.8854706e-01, 4.9292064e+00],\n",
      "        [2.7355754e+00, 2.9288540e+00, 3.1775079e+00, ...,\n",
      "         4.7389746e-01, 5.8426528e+00, 1.3878481e-02],\n",
      "        ...,\n",
      "        [5.3740530e+00, 4.3846507e+00, 9.2398226e-01, ...,\n",
      "         4.2209773e+00, 1.5256315e+00, 1.5533878e+00],\n",
      "        [4.1710415e+00, 4.3211246e+00, 4.6621556e+00, ...,\n",
      "         6.1243063e-01, 4.3869596e+00, 6.2213486e-01],\n",
      "        [5.3993869e+00, 3.5885263e-02, 5.6115522e+00, ...,\n",
      "         5.3968396e+00, 2.2381463e+00, 2.5920689e+00]],\n",
      "\n",
      "       [[4.2742772e+00, 5.1714711e+00, 2.0507939e+00, ...,\n",
      "         5.7675543e+00, 4.2568693e+00, 4.1259308e+00],\n",
      "        [1.8848977e+00, 3.8194925e-01, 4.3525629e+00, ...,\n",
      "         6.0613904e+00, 2.6194310e+00, 1.6782867e+00],\n",
      "        [2.1349800e+00, 6.0393171e+00, 4.7584620e+00, ...,\n",
      "         1.7151725e+00, 8.6001647e-01, 3.2584720e+00],\n",
      "        ...,\n",
      "        [4.5595455e+00, 4.8720970e+00, 2.7543960e+00, ...,\n",
      "         3.5009518e+00, 5.8228116e+00, 1.3498402e+00],\n",
      "        [5.3239660e+00, 5.5349169e+00, 3.3274696e+00, ...,\n",
      "         3.3907874e+00, 5.8575740e+00, 1.4148195e+00],\n",
      "        [7.5305426e-01, 1.7905736e+00, 2.6326361e+00, ...,\n",
      "         4.2237339e+00, 5.5913520e+00, 4.8078322e+00]],\n",
      "\n",
      "       ...,\n",
      "\n",
      "       [[5.4577436e+00, 2.0176470e+00, 3.5757751e+00, ...,\n",
      "         5.7369151e+00, 3.8437605e-01, 1.4354451e+00],\n",
      "        [6.1474133e+00, 3.2536004e+00, 3.8833997e+00, ...,\n",
      "         4.6728263e+00, 3.7131767e+00, 5.8314385e+00],\n",
      "        [1.9616551e+00, 2.4528511e+00, 2.9476168e+00, ...,\n",
      "         3.8077450e+00, 5.1108775e+00, 1.2127122e+00],\n",
      "        ...,\n",
      "        [5.9592266e+00, 2.3049126e+00, 2.5092204e+00, ...,\n",
      "         3.9802556e+00, 4.2233720e+00, 3.8047435e+00],\n",
      "        [4.3219543e+00, 4.1608480e-01, 2.4330673e+00, ...,\n",
      "         5.4745851e+00, 2.1180074e+00, 3.7923631e-01],\n",
      "        [1.7066945e+00, 2.7921350e+00, 5.5887423e+00, ...,\n",
      "         4.5185647e+00, 1.7626593e+00, 1.7325969e-01]],\n",
      "\n",
      "       [[4.3444009e+00, 5.0771589e+00, 2.9484744e+00, ...,\n",
      "         6.2487655e+00, 8.6467308e-01, 2.7326354e-01],\n",
      "        [6.5329385e-01, 1.8627343e+00, 6.1252484e+00, ...,\n",
      "         1.6144055e+00, 2.1335568e+00, 5.3663969e+00],\n",
      "        [9.8632199e-01, 1.5124168e-01, 6.0374780e+00, ...,\n",
      "         6.1793795e+00, 3.8903253e+00, 3.7943203e+00],\n",
      "        ...,\n",
      "        [3.6428568e+00, 3.6302211e+00, 9.8755187e-01, ...,\n",
      "         2.5128028e+00, 1.0831327e+00, 2.5751104e-03],\n",
      "        [6.1060019e+00, 2.1137199e+00, 1.6926594e-01, ...,\n",
      "         7.0173258e-01, 5.0991449e+00, 7.9683715e-01],\n",
      "        [4.6001353e+00, 3.6464927e-01, 1.0006304e+00, ...,\n",
      "         5.1146855e+00, 8.1257838e-01, 2.5491772e+00]],\n",
      "\n",
      "       [[2.2905862e+00, 1.6827343e+00, 6.0206094e+00, ...,\n",
      "         7.7084935e-01, 1.5150421e+00, 3.9693747e+00],\n",
      "        [4.9307790e+00, 2.3121684e+00, 1.6478302e+00, ...,\n",
      "         2.4355114e+00, 6.1378798e+00, 5.3129501e+00],\n",
      "        [1.0700146e+00, 2.3120799e+00, 2.1502635e+00, ...,\n",
      "         2.2204792e+00, 3.7689273e+00, 6.0616285e-01],\n",
      "        ...,\n",
      "        [3.6499822e+00, 4.9297118e+00, 1.9462053e+00, ...,\n",
      "         1.5262240e+00, 5.0768094e+00, 3.9156239e+00],\n",
      "        [1.4547801e+00, 7.8566335e-02, 3.0533881e+00, ...,\n",
      "         3.8235483e+00, 6.0824122e+00, 1.1834153e+00],\n",
      "        [9.7437817e-01, 2.6787319e+00, 6.0440868e-01, ...,\n",
      "         3.4455748e+00, 5.9442062e+00, 5.4759371e-01]]], dtype=float32)>\n",
      "ipdb> self.kernel[0,0,0,0,:]\n",
      "<tf.Tensor: shape=(70,), dtype=float32, numpy=\n",
      "array([5.185548  , 6.113634  , 6.016196  , 3.3406732 , 1.7252139 ,\n",
      "       0.34031004, 2.0673156 , 5.5676284 , 3.942978  , 5.0441723 ,\n",
      "       1.3809985 , 4.5315585 , 0.75442344, 1.2195829 , 4.3432503 ,\n",
      "       4.6748037 , 5.3782673 , 0.38596022, 5.7725415 , 0.7829624 ,\n",
      "       0.62621695, 0.12889409, 5.67204   , 5.2686534 , 4.4418364 ,\n",
      "       3.8500986 , 0.6484747 , 1.8922358 , 0.66613865, 4.2100606 ,\n",
      "       5.0106077 , 2.268348  , 0.11847904, 3.8393292 , 4.3312097 ,\n",
      "       4.3985085 , 2.1471357 , 4.7950068 , 2.9040542 , 1.9747014 ,\n",
      "       3.9140525 , 5.0528274 , 5.1554923 , 5.304993  , 2.4936454 ,\n",
      "       4.9341817 , 5.3627176 , 1.5293804 , 1.9054633 , 5.5376425 ,\n",
      "       2.0113897 , 3.805614  , 4.5584645 , 4.056428  , 4.6299624 ,\n",
      "       2.3682911 , 3.995997  , 0.8082109 , 0.95636064, 5.699064  ,\n",
      "       5.6603084 , 1.6122798 , 4.008034  , 3.9399354 , 5.2080245 ,\n",
      "       2.369539  , 0.86821216, 6.2133355 , 1.4608951 , 1.2520677 ],\n",
      "      dtype=float32)>\n",
      "ipdb> tiled_up_weights_[0,0,0,0,0,:] - self.kernel[0,0,0,0,:]\n",
      "<tf.Tensor: shape=(70,), dtype=float32, numpy=\n",
      "array([0., 0., 0., 0., 0., 0., 0., 0., 0., 0., 0., 0., 0., 0., 0., 0., 0.,\n",
      "       0., 0., 0., 0., 0., 0., 0., 0., 0., 0., 0., 0., 0., 0., 0., 0., 0.,\n",
      "       0., 0., 0., 0., 0., 0., 0., 0., 0., 0., 0., 0., 0., 0., 0., 0., 0.,\n",
      "       0., 0., 0., 0., 0., 0., 0., 0., 0., 0., 0., 0., 0., 0., 0., 0., 0.,\n",
      "       0., 0.], dtype=float32)>\n",
      "ipdb> np.count_nonzero(tiled_up_weights_[0,0,0,0,0,:] - self.kernel[0,0,0,0,:])\n",
      "0\n",
      "ipdb> np.count_nonzero(tiled_up_weights_[0,0,0,0,1,:] - self.kernel[0,0,0,1,:])\n",
      "0\n",
      "ipdb> np.count_nonzero(tiled_up_weights_[0,0,0,0,1,:] - self.kernel[0,0,0,0,:])\n",
      "70\n",
      "ipdb> np.count_nonzero(tiled_up_weights_[0,1,0,0,1,:] - self.kernel[0,1,0,1,:])\n",
      "0\n",
      "ipdb> np.count_nonzero(tiled_up_weights_[1,1,0,0,1,:] - self.kernel[1,1,0,1,:])\n",
      "0\n",
      "ipdb> np.count_nonzero(tiled_up_weights_[0,0,1,0,1,:] - tiled_up_weights_[0,0,3,0,1,:])\n",
      "0\n",
      "ipdb> exit\n"
     ]
    },
    {
     "ename": "BdbQuit",
     "evalue": "",
     "output_type": "error",
     "traceback": [
      "\u001b[0;31m---------------------------------------------------------------------------\u001b[0m",
      "\u001b[0;31mBdbQuit\u001b[0m                                   Traceback (most recent call last)",
      "\u001b[0;32m<ipython-input-119-a564ac9a6da7>\u001b[0m in \u001b[0;36m<module>\u001b[0;34m\u001b[0m\n\u001b[0;32m----> 1\u001b[0;31m \u001b[0mtest\u001b[0m\u001b[0;34m(\u001b[0m\u001b[0mx\u001b[0m\u001b[0;34m)\u001b[0m\u001b[0;34m\u001b[0m\u001b[0;34m\u001b[0m\u001b[0m\n\u001b[0m",
      "\u001b[0;32m/afs/cern.ch/work/c/chlcheng/public/local/conda/miniconda/envs/ml-base/lib/python3.7/site-packages/tensorflow/python/keras/engine/base_layer.py\u001b[0m in \u001b[0;36m__call__\u001b[0;34m(self, *args, **kwargs)\u001b[0m\n\u001b[1;32m   1010\u001b[0m         with autocast_variable.enable_auto_cast_variables(\n\u001b[1;32m   1011\u001b[0m             self._compute_dtype_object):\n\u001b[0;32m-> 1012\u001b[0;31m           \u001b[0moutputs\u001b[0m \u001b[0;34m=\u001b[0m \u001b[0mcall_fn\u001b[0m\u001b[0;34m(\u001b[0m\u001b[0minputs\u001b[0m\u001b[0;34m,\u001b[0m \u001b[0;34m*\u001b[0m\u001b[0margs\u001b[0m\u001b[0;34m,\u001b[0m \u001b[0;34m**\u001b[0m\u001b[0mkwargs\u001b[0m\u001b[0;34m)\u001b[0m\u001b[0;34m\u001b[0m\u001b[0;34m\u001b[0m\u001b[0m\n\u001b[0m\u001b[1;32m   1013\u001b[0m \u001b[0;34m\u001b[0m\u001b[0m\n\u001b[1;32m   1014\u001b[0m         \u001b[0;32mif\u001b[0m \u001b[0mself\u001b[0m\u001b[0;34m.\u001b[0m\u001b[0m_activity_regularizer\u001b[0m\u001b[0;34m:\u001b[0m\u001b[0;34m\u001b[0m\u001b[0;34m\u001b[0m\u001b[0m\n",
      "\u001b[0;32m<ipython-input-115-c93ed63707c7>\u001b[0m in \u001b[0;36mcall\u001b[0;34m(self, inputs)\u001b[0m\n\u001b[1;32m    138\u001b[0m         \u001b[0;32mfrom\u001b[0m \u001b[0mpdb\u001b[0m \u001b[0;32mimport\u001b[0m \u001b[0mset_trace\u001b[0m\u001b[0;34m\u001b[0m\u001b[0;34m\u001b[0m\u001b[0m\n\u001b[1;32m    139\u001b[0m         \u001b[0mset_trace\u001b[0m\u001b[0;34m(\u001b[0m\u001b[0;34m)\u001b[0m\u001b[0;34m\u001b[0m\u001b[0;34m\u001b[0m\u001b[0m\n\u001b[0;32m--> 140\u001b[0;31m         \u001b[0mtiled_up_parameters\u001b[0m \u001b[0;34m=\u001b[0m \u001b[0mtf\u001b[0m\u001b[0;34m.\u001b[0m\u001b[0mconcat\u001b[0m\u001b[0;34m(\u001b[0m\u001b[0;34m[\u001b[0m\u001b[0mtiled_up_inputs\u001b[0m\u001b[0;34m,\u001b[0m \u001b[0mtiled_up_weights\u001b[0m\u001b[0;34m]\u001b[0m\u001b[0;34m,\u001b[0m \u001b[0;36m1\u001b[0m\u001b[0;34m)\u001b[0m\u001b[0;34m\u001b[0m\u001b[0;34m\u001b[0m\u001b[0m\n\u001b[0m\u001b[1;32m    141\u001b[0m         \u001b[0mtiled_up_data_circuit\u001b[0m \u001b[0;34m=\u001b[0m \u001b[0mtf\u001b[0m\u001b[0;34m.\u001b[0m\u001b[0mtile\u001b[0m\u001b[0;34m(\u001b[0m\u001b[0mself\u001b[0m\u001b[0;34m.\u001b[0m\u001b[0m_data_circuit\u001b[0m\u001b[0;34m,\u001b[0m \u001b[0;34m[\u001b[0m\u001b[0mcircuit_size\u001b[0m\u001b[0;34m]\u001b[0m\u001b[0;34m)\u001b[0m\u001b[0;34m\u001b[0m\u001b[0;34m\u001b[0m\u001b[0m\n\u001b[1;32m    142\u001b[0m         \u001b[0mtiled_up_model\u001b[0m \u001b[0;34m=\u001b[0m \u001b[0mtf\u001b[0m\u001b[0;34m.\u001b[0m\u001b[0mtile\u001b[0m\u001b[0;34m(\u001b[0m\u001b[0mself\u001b[0m\u001b[0;34m.\u001b[0m\u001b[0m_model_circuit\u001b[0m\u001b[0;34m,\u001b[0m \u001b[0;34m[\u001b[0m\u001b[0mcircuit_size\u001b[0m\u001b[0;34m]\u001b[0m\u001b[0;34m)\u001b[0m\u001b[0;34m\u001b[0m\u001b[0;34m\u001b[0m\u001b[0m\n",
      "\u001b[0;32m<ipython-input-115-c93ed63707c7>\u001b[0m in \u001b[0;36mcall\u001b[0;34m(self, inputs)\u001b[0m\n\u001b[1;32m    138\u001b[0m         \u001b[0;32mfrom\u001b[0m \u001b[0mpdb\u001b[0m \u001b[0;32mimport\u001b[0m \u001b[0mset_trace\u001b[0m\u001b[0;34m\u001b[0m\u001b[0;34m\u001b[0m\u001b[0m\n\u001b[1;32m    139\u001b[0m         \u001b[0mset_trace\u001b[0m\u001b[0;34m(\u001b[0m\u001b[0;34m)\u001b[0m\u001b[0;34m\u001b[0m\u001b[0;34m\u001b[0m\u001b[0m\n\u001b[0;32m--> 140\u001b[0;31m         \u001b[0mtiled_up_parameters\u001b[0m \u001b[0;34m=\u001b[0m \u001b[0mtf\u001b[0m\u001b[0;34m.\u001b[0m\u001b[0mconcat\u001b[0m\u001b[0;34m(\u001b[0m\u001b[0;34m[\u001b[0m\u001b[0mtiled_up_inputs\u001b[0m\u001b[0;34m,\u001b[0m \u001b[0mtiled_up_weights\u001b[0m\u001b[0;34m]\u001b[0m\u001b[0;34m,\u001b[0m \u001b[0;36m1\u001b[0m\u001b[0;34m)\u001b[0m\u001b[0;34m\u001b[0m\u001b[0;34m\u001b[0m\u001b[0m\n\u001b[0m\u001b[1;32m    141\u001b[0m         \u001b[0mtiled_up_data_circuit\u001b[0m \u001b[0;34m=\u001b[0m \u001b[0mtf\u001b[0m\u001b[0;34m.\u001b[0m\u001b[0mtile\u001b[0m\u001b[0;34m(\u001b[0m\u001b[0mself\u001b[0m\u001b[0;34m.\u001b[0m\u001b[0m_data_circuit\u001b[0m\u001b[0;34m,\u001b[0m \u001b[0;34m[\u001b[0m\u001b[0mcircuit_size\u001b[0m\u001b[0;34m]\u001b[0m\u001b[0;34m)\u001b[0m\u001b[0;34m\u001b[0m\u001b[0;34m\u001b[0m\u001b[0m\n\u001b[1;32m    142\u001b[0m         \u001b[0mtiled_up_model\u001b[0m \u001b[0;34m=\u001b[0m \u001b[0mtf\u001b[0m\u001b[0;34m.\u001b[0m\u001b[0mtile\u001b[0m\u001b[0;34m(\u001b[0m\u001b[0mself\u001b[0m\u001b[0;34m.\u001b[0m\u001b[0m_model_circuit\u001b[0m\u001b[0;34m,\u001b[0m \u001b[0;34m[\u001b[0m\u001b[0mcircuit_size\u001b[0m\u001b[0;34m]\u001b[0m\u001b[0;34m)\u001b[0m\u001b[0;34m\u001b[0m\u001b[0;34m\u001b[0m\u001b[0m\n",
      "\u001b[0;32m/afs/cern.ch/work/c/chlcheng/public/local/conda/miniconda/envs/ml-base/lib/python3.7/bdb.py\u001b[0m in \u001b[0;36mtrace_dispatch\u001b[0;34m(self, frame, event, arg)\u001b[0m\n\u001b[1;32m     86\u001b[0m             \u001b[0;32mreturn\u001b[0m \u001b[0;31m# None\u001b[0m\u001b[0;34m\u001b[0m\u001b[0;34m\u001b[0m\u001b[0m\n\u001b[1;32m     87\u001b[0m         \u001b[0;32mif\u001b[0m \u001b[0mevent\u001b[0m \u001b[0;34m==\u001b[0m \u001b[0;34m'line'\u001b[0m\u001b[0;34m:\u001b[0m\u001b[0;34m\u001b[0m\u001b[0;34m\u001b[0m\u001b[0m\n\u001b[0;32m---> 88\u001b[0;31m             \u001b[0;32mreturn\u001b[0m \u001b[0mself\u001b[0m\u001b[0;34m.\u001b[0m\u001b[0mdispatch_line\u001b[0m\u001b[0;34m(\u001b[0m\u001b[0mframe\u001b[0m\u001b[0;34m)\u001b[0m\u001b[0;34m\u001b[0m\u001b[0;34m\u001b[0m\u001b[0m\n\u001b[0m\u001b[1;32m     89\u001b[0m         \u001b[0;32mif\u001b[0m \u001b[0mevent\u001b[0m \u001b[0;34m==\u001b[0m \u001b[0;34m'call'\u001b[0m\u001b[0;34m:\u001b[0m\u001b[0;34m\u001b[0m\u001b[0;34m\u001b[0m\u001b[0m\n\u001b[1;32m     90\u001b[0m             \u001b[0;32mreturn\u001b[0m \u001b[0mself\u001b[0m\u001b[0;34m.\u001b[0m\u001b[0mdispatch_call\u001b[0m\u001b[0;34m(\u001b[0m\u001b[0mframe\u001b[0m\u001b[0;34m,\u001b[0m \u001b[0marg\u001b[0m\u001b[0;34m)\u001b[0m\u001b[0;34m\u001b[0m\u001b[0;34m\u001b[0m\u001b[0m\n",
      "\u001b[0;32m/afs/cern.ch/work/c/chlcheng/public/local/conda/miniconda/envs/ml-base/lib/python3.7/bdb.py\u001b[0m in \u001b[0;36mdispatch_line\u001b[0;34m(self, frame)\u001b[0m\n\u001b[1;32m    111\u001b[0m         \u001b[0;32mif\u001b[0m \u001b[0mself\u001b[0m\u001b[0;34m.\u001b[0m\u001b[0mstop_here\u001b[0m\u001b[0;34m(\u001b[0m\u001b[0mframe\u001b[0m\u001b[0;34m)\u001b[0m \u001b[0;32mor\u001b[0m \u001b[0mself\u001b[0m\u001b[0;34m.\u001b[0m\u001b[0mbreak_here\u001b[0m\u001b[0;34m(\u001b[0m\u001b[0mframe\u001b[0m\u001b[0;34m)\u001b[0m\u001b[0;34m:\u001b[0m\u001b[0;34m\u001b[0m\u001b[0;34m\u001b[0m\u001b[0m\n\u001b[1;32m    112\u001b[0m             \u001b[0mself\u001b[0m\u001b[0;34m.\u001b[0m\u001b[0muser_line\u001b[0m\u001b[0;34m(\u001b[0m\u001b[0mframe\u001b[0m\u001b[0;34m)\u001b[0m\u001b[0;34m\u001b[0m\u001b[0;34m\u001b[0m\u001b[0m\n\u001b[0;32m--> 113\u001b[0;31m             \u001b[0;32mif\u001b[0m \u001b[0mself\u001b[0m\u001b[0;34m.\u001b[0m\u001b[0mquitting\u001b[0m\u001b[0;34m:\u001b[0m \u001b[0;32mraise\u001b[0m \u001b[0mBdbQuit\u001b[0m\u001b[0;34m\u001b[0m\u001b[0;34m\u001b[0m\u001b[0m\n\u001b[0m\u001b[1;32m    114\u001b[0m         \u001b[0;32mreturn\u001b[0m \u001b[0mself\u001b[0m\u001b[0;34m.\u001b[0m\u001b[0mtrace_dispatch\u001b[0m\u001b[0;34m\u001b[0m\u001b[0;34m\u001b[0m\u001b[0m\n\u001b[1;32m    115\u001b[0m \u001b[0;34m\u001b[0m\u001b[0m\n",
      "\u001b[0;31mBdbQuit\u001b[0m: "
     ]
    }
   ],
   "source": [
    "test(x)"
   ]
  },
  {
   "cell_type": "code",
   "execution_count": 104,
   "id": "f9d9a699",
   "metadata": {},
   "outputs": [
    {
     "data": {
      "text/plain": [
       "TensorShape([2, 2, 8, 8, 70])"
      ]
     },
     "execution_count": 104,
     "metadata": {},
     "output_type": "execute_result"
    }
   ],
   "source": [
    "test.kernel.shape"
   ]
  },
  {
   "cell_type": "code",
   "execution_count": null,
   "id": "425b3344",
   "metadata": {},
   "outputs": [],
   "source": []
  },
  {
   "cell_type": "code",
   "execution_count": null,
   "id": "bb7fb8d8",
   "metadata": {},
   "outputs": [],
   "source": []
  },
  {
   "cell_type": "code",
   "execution_count": null,
   "id": "b9969e03",
   "metadata": {},
   "outputs": [],
   "source": []
  },
  {
   "cell_type": "code",
   "execution_count": null,
   "id": "55e3a513",
   "metadata": {},
   "outputs": [],
   "source": []
  },
  {
   "cell_type": "code",
   "execution_count": 98,
   "id": "aa9db6af",
   "metadata": {},
   "outputs": [],
   "source": [
    "import time"
   ]
  },
  {
   "cell_type": "code",
   "execution_count": 6,
   "id": "23401dbd",
   "metadata": {},
   "outputs": [],
   "source": [
    "import tensorflow as tf\n",
    "from tensorflow.python.keras.engine.base_layer import Layer\n",
    "from tensorflow.python.keras.utils import conv_utils\n",
    "from tensorflow.python.framework import tensor_shape\n",
    "from tensorflow.python.keras import constraints, initializers, regularizers\n",
    "\n",
    "class QConv2DTranspose(QConv2D):\n",
    "    def __init__(self, kernel_circuit,\n",
    "                 data_circuit,\n",
    "                 operators,\n",
    "                 kernel_size,\n",
    "                 strides=1,\n",
    "                 padding='same',\n",
    "                 trainable=True,\n",
    "                 kernel_initializer=tf.keras.initializers.RandomUniform(0, 2 * np.pi),\n",
    "                 kernel_regularizer=None,\n",
    "                 kernel_constraint=None,\n",
    "                 name=None, **kwargs):\n",
    "        super(QConv2DTranspose, self).__init__(\n",
    "            kernel_circuit=kernel_circuit,\n",
    "            data_circuit=data_circuit,\n",
    "            operators=operators,\n",
    "            kernel_size=kernel_size,\n",
    "            strides=strides,\n",
    "            padding=padding,\n",
    "            trainable=trainable,\n",
    "            kernel_initializer=initializers.get(kernel_initializer),\n",
    "            kernel_regularizer=regularizers.get(kernel_regularizer),\n",
    "            kernel_constraint=constraints.get(kernel_constraint),\n",
    "            name=name,\n",
    "            **kwargs)\n",
    "        \n",
    "    def init_weights(self):\n",
    "        # Weight creation is not placed in a build function because the number\n",
    "        # of weights is independent of the input shape.\n",
    "        n_weight_per_filter = width*height*input_channels\n",
    "        total_n_weight = n_weight_per_filter*n_filter\n",
    "        self.kernel = self.add_weight('kernel',\n",
    "                                      shape=self._symbols.shape,\n",
    "                                      initializer=self.kernel_initializer,\n",
    "                                      regularizer=self.kernel_regularizer,\n",
    "                                      constraint=self.kernel_constraint,\n",
    "                                      dtype=tf.float32,\n",
    "                                      trainable=True)        "
   ]
  },
  {
   "cell_type": "code",
   "execution_count": null,
   "id": "26f02326",
   "metadata": {},
   "outputs": [],
   "source": []
  },
  {
   "cell_type": "code",
   "execution_count": null,
   "id": "acfa044d",
   "metadata": {},
   "outputs": [],
   "source": []
  },
  {
   "cell_type": "code",
   "execution_count": null,
   "id": "3719d988",
   "metadata": {},
   "outputs": [],
   "source": [
    "inputs = tf.transpose(resolved_input, [1, 0, 2, 3, 4])\n",
    "circuit_size = tf.reduce_prod(tf.strided_slice(tf.shape(inputs), begin=[0], end=[-1]))\n",
    "circuit_size = circuit_size*filters\n",
    "tiled_up_inputs_ = tf.tile([inputs], [filters, 1, 1, 1, 1, 1])\n",
    "tiled_up_inputs = tf.reshape(tiled_up_inputs_, (circuit_size, tf.shape(tiled_up_inputs_)[-1]))\n",
    "tile_size = tf.reduce_prod(tf.strided_slice(tf.shape(inputs), begin=[1], end=[-1]))\n",
    "tiled_up_weights__ = tf.tile([weights], [tile_size, 1, 1, 1])\n",
    "tiled_up_weights_ = tf.transpose(tiled_up_weights__, [1, 2, 0, 3])\n",
    "tiled_up_weights = tf.reshape(tiled_up_weights_, (circuit_size, tf.shape(tiled_up_weights_)[-1]))\n",
    "reshaped_output = tf.reshape(output, (filters, channels, batchsize, rows, cols))\n",
    "sums = tf.reduce_sum(reshaped_output, axis=1)\n",
    "final_output = tf.transpose(sums, [1, 2, 3, 0])"
   ]
  },
  {
   "cell_type": "code",
   "execution_count": null,
   "id": "9d90dda8",
   "metadata": {},
   "outputs": [],
   "source": []
  },
  {
   "cell_type": "code",
   "execution_count": null,
   "id": "daf63a17",
   "metadata": {},
   "outputs": [],
   "source": []
  },
  {
   "cell_type": "code",
   "execution_count": null,
   "id": "6f7c6922",
   "metadata": {},
   "outputs": [],
   "source": []
  },
  {
   "cell_type": "code",
   "execution_count": null,
   "id": "f5bab4a6",
   "metadata": {},
   "outputs": [],
   "source": []
  },
  {
   "cell_type": "code",
   "execution_count": null,
   "id": "9623660d",
   "metadata": {},
   "outputs": [],
   "source": []
  },
  {
   "cell_type": "code",
   "execution_count": null,
   "id": "11fbd5e7",
   "metadata": {},
   "outputs": [],
   "source": []
  },
  {
   "cell_type": "code",
   "execution_count": null,
   "id": "aea98090",
   "metadata": {},
   "outputs": [],
   "source": []
  },
  {
   "cell_type": "code",
   "execution_count": 11,
   "id": "a8a8117b",
   "metadata": {},
   "outputs": [],
   "source": [
    "x = tf.random.normal((100, 3, 8,8,1))"
   ]
  },
  {
   "cell_type": "code",
   "execution_count": 12,
   "id": "bfb22f14",
   "metadata": {},
   "outputs": [],
   "source": [
    "z = tf.extract_volume_patches(x, ksizes=(1, 1, 3, 3, 1), strides=(1, 1, 1, 1, 1), padding=\"SAME\")"
   ]
  },
  {
   "cell_type": "code",
   "execution_count": 13,
   "id": "5f6d5a24",
   "metadata": {},
   "outputs": [
    {
     "data": {
      "text/plain": [
       "TensorShape([100, 3, 8, 8, 9])"
      ]
     },
     "execution_count": 13,
     "metadata": {},
     "output_type": "execute_result"
    }
   ],
   "source": [
    "z.shape"
   ]
  },
  {
   "cell_type": "code",
   "execution_count": 15,
   "id": "dad2c66a",
   "metadata": {},
   "outputs": [],
   "source": [
    "raw_input_symbols_list = data_circuit.raw_symbols"
   ]
  },
  {
   "cell_type": "code",
   "execution_count": 16,
   "id": "92bb76db",
   "metadata": {},
   "outputs": [],
   "source": [
    "data_circuit_formulas = list(data_circuit.expr_map)"
   ]
  },
  {
   "cell_type": "code",
   "execution_count": 17,
   "id": "218511d1",
   "metadata": {},
   "outputs": [],
   "source": [
    "from quple.interface.tfq.tf_resolvers import resolve_formulas"
   ]
  },
  {
   "cell_type": "code",
   "execution_count": 18,
   "id": "073b3b97",
   "metadata": {},
   "outputs": [],
   "source": [
    "data_circuit_resolver = resolve_formulas(data_circuit_formulas, raw_input_symbols_list)"
   ]
  },
  {
   "cell_type": "code",
   "execution_count": 19,
   "id": "031bb483",
   "metadata": {},
   "outputs": [],
   "source": [
    "resolved_x = data_circuit_resolver(z)"
   ]
  },
  {
   "cell_type": "code",
   "execution_count": 28,
   "id": "276f9f8d",
   "metadata": {},
   "outputs": [],
   "source": [
    "# right thing to do!!!\n",
    "inputs = tf.transpose(z, [1, 0, 2, 3, 4])"
   ]
  },
  {
   "cell_type": "code",
   "execution_count": 29,
   "id": "26bc2fcf",
   "metadata": {},
   "outputs": [
    {
     "data": {
      "text/plain": [
       "TensorShape([3, 100, 8, 8, 9])"
      ]
     },
     "execution_count": 29,
     "metadata": {},
     "output_type": "execute_result"
    }
   ],
   "source": [
    "inputs.shape"
   ]
  },
  {
   "cell_type": "code",
   "execution_count": 30,
   "id": "c894a11f",
   "metadata": {},
   "outputs": [
    {
     "data": {
      "text/plain": [
       "<tf.Tensor: shape=(), dtype=int32, numpy=153600>"
      ]
     },
     "execution_count": 30,
     "metadata": {},
     "output_type": "execute_result"
    }
   ],
   "source": [
    "filters = 8\n",
    "circuit_size = tf.reduce_prod(tf.strided_slice(tf.shape(inputs), begin=[0], end=[-1]))\n",
    "circuit_size = circuit_size*filters\n",
    "circuit_size"
   ]
  },
  {
   "cell_type": "code",
   "execution_count": 31,
   "id": "228940bb",
   "metadata": {},
   "outputs": [],
   "source": [
    "tiled_up_inputs_ = tf.tile([inputs], [filters, 1, 1, 1, 1, 1])\n",
    "tiled_up_inputs = tf.reshape(tiled_up_inputs_, (circuit_size, tf.shape(tiled_up_inputs_)[-1]))"
   ]
  },
  {
   "cell_type": "code",
   "execution_count": 36,
   "id": "ab67073f",
   "metadata": {},
   "outputs": [
    {
     "data": {
      "text/plain": [
       "TensorShape([8, 3, 100, 8, 8, 9])"
      ]
     },
     "execution_count": 36,
     "metadata": {},
     "output_type": "execute_result"
    }
   ],
   "source": [
    "tiled_up_inputs_.shape"
   ]
  },
  {
   "cell_type": "code",
   "execution_count": 32,
   "id": "b32485aa",
   "metadata": {},
   "outputs": [
    {
     "data": {
      "text/plain": [
       "TensorShape([153600, 9])"
      ]
     },
     "execution_count": 32,
     "metadata": {},
     "output_type": "execute_result"
    }
   ],
   "source": [
    "tiled_up_inputs.shape"
   ]
  },
  {
   "cell_type": "code",
   "execution_count": 33,
   "id": "c3d1f354",
   "metadata": {},
   "outputs": [],
   "source": [
    "channels = 3\n",
    "filters = 8\n",
    "symbols = 30\n",
    "weights = tf.random.normal((filters, channels, symbols))\n",
    "tile_size = tf.reduce_prod(tf.strided_slice(tf.shape(inputs), begin=[1], end=[-1]))\n",
    "tiled_up_weights__ = tf.tile([weights], [tile_size, 1, 1, 1])\n",
    "tiled_up_weights_ = tf.transpose(tiled_up_weights__, [1, 2, 0, 3])\n",
    "tiled_up_weights = tf.reshape(tiled_up_weights_, (circuit_size, tf.shape(tiled_up_weights_)[-1]))"
   ]
  },
  {
   "cell_type": "code",
   "execution_count": 35,
   "id": "c148c658",
   "metadata": {},
   "outputs": [
    {
     "data": {
      "text/plain": [
       "TensorShape([6400, 8, 3, 30])"
      ]
     },
     "execution_count": 35,
     "metadata": {},
     "output_type": "execute_result"
    }
   ],
   "source": [
    "tiled_up_weights__.shape"
   ]
  },
  {
   "cell_type": "code",
   "execution_count": 38,
   "id": "2f4ba0f8",
   "metadata": {},
   "outputs": [
    {
     "data": {
      "text/plain": [
       "TensorShape([8, 3, 6400, 30])"
      ]
     },
     "execution_count": 38,
     "metadata": {},
     "output_type": "execute_result"
    }
   ],
   "source": [
    "tiled_up_weights_.shape"
   ]
  },
  {
   "cell_type": "code",
   "execution_count": 116,
   "id": "1e523353",
   "metadata": {},
   "outputs": [
    {
     "data": {
      "text/plain": [
       "TensorShape([8, 3, 100, 8, 8, 9])"
      ]
     },
     "execution_count": 116,
     "metadata": {},
     "output_type": "execute_result"
    }
   ],
   "source": [
    "tiled_up_inputs_.shape"
   ]
  },
  {
   "cell_type": "code",
   "execution_count": 115,
   "id": "dab48a9f",
   "metadata": {},
   "outputs": [
    {
     "data": {
      "text/plain": [
       "TensorShape([6400, 8, 3, 30])"
      ]
     },
     "execution_count": 115,
     "metadata": {},
     "output_type": "execute_result"
    }
   ],
   "source": [
    "tiled_up_weights_.shape"
   ]
  },
  {
   "cell_type": "code",
   "execution_count": 133,
   "id": "cb9ab3cc",
   "metadata": {},
   "outputs": [],
   "source": [
    "channels = 3\n",
    "filters = 8\n",
    "rows = 8\n",
    "cols = 8\n",
    "symbols = 30\n",
    "batchsize = 100\n",
    "output = tf.random.normal((batchsize*filters*channels*8*8,))\n",
    "reshaped_output = tf.reshape(output, (filters, channels, batchsize, rows, cols))\n",
    "sums = tf.reduce_sum(reshaped_output, axis=1)\n",
    "final_output = tf.transpose(sums, [1, 2, 3, 0])"
   ]
  },
  {
   "cell_type": "code",
   "execution_count": 134,
   "id": "029c6f1f",
   "metadata": {},
   "outputs": [
    {
     "data": {
      "text/plain": [
       "TensorShape([100, 8, 8, 8])"
      ]
     },
     "execution_count": 134,
     "metadata": {},
     "output_type": "execute_result"
    }
   ],
   "source": [
    "final_output.shape"
   ]
  },
  {
   "cell_type": "code",
   "execution_count": 130,
   "id": "30116039",
   "metadata": {},
   "outputs": [
    {
     "data": {
      "text/plain": [
       "TensorShape([8, 100, 8, 8])"
      ]
     },
     "execution_count": 130,
     "metadata": {},
     "output_type": "execute_result"
    }
   ],
   "source": [
    "sums.shape"
   ]
  },
  {
   "cell_type": "code",
   "execution_count": 131,
   "id": "9d81a93f",
   "metadata": {},
   "outputs": [],
   "source": [
    "sums2 = reshaped_output[:, 0, :, :, :] + reshaped_output[:, 1, :, :, :] + reshaped_output[:, 2, :, :, :]"
   ]
  },
  {
   "cell_type": "code",
   "execution_count": 132,
   "id": "fcf6a35e",
   "metadata": {},
   "outputs": [
    {
     "data": {
      "text/plain": [
       "0"
      ]
     },
     "execution_count": 132,
     "metadata": {},
     "output_type": "execute_result"
    }
   ],
   "source": [
    "np.count_nonzero(sums - sums2)"
   ]
  },
  {
   "cell_type": "code",
   "execution_count": null,
   "id": "067e26a6",
   "metadata": {},
   "outputs": [],
   "source": []
  }
 ],
 "metadata": {
  "kernelspec": {
   "display_name": "Python 3",
   "language": "python",
   "name": "python3"
  },
  "language_info": {
   "codemirror_mode": {
    "name": "ipython",
    "version": 3
   },
   "file_extension": ".py",
   "mimetype": "text/x-python",
   "name": "python",
   "nbconvert_exporter": "python",
   "pygments_lexer": "ipython3",
   "version": "3.7.10"
  }
 },
 "nbformat": 4,
 "nbformat_minor": 5
}
