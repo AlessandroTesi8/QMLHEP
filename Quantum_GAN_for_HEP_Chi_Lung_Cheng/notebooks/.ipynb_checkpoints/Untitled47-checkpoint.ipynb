{
 "cells": [
  {
   "cell_type": "code",
   "execution_count": 1,
   "metadata": {
    "id": "-vIlkF2sUlrc"
   },
   "outputs": [],
   "source": [
    "import tensorflow as tf"
   ]
  },
  {
   "cell_type": "code",
   "execution_count": 4,
   "metadata": {
    "id": "-CPy7LtXUx-f"
   },
   "outputs": [],
   "source": [
    "inputs = tf.random.normal(shape=(100, 8,8))"
   ]
  },
  {
   "cell_type": "code",
   "execution_count": 5,
   "metadata": {
    "id": "s1wzW_WMU2tF"
   },
   "outputs": [],
   "source": [
    "batch_size = tf.shape(inputs)[0]"
   ]
  },
  {
   "cell_type": "code",
   "execution_count": 6,
   "metadata": {
    "id": "LM-M1lY1U44O"
   },
   "outputs": [],
   "source": [
    "inputs_flattened = tf.keras.layers.Flatten()(inputs)"
   ]
  },
  {
   "cell_type": "code",
   "execution_count": 7,
   "metadata": {
    "id": "tmozzVT3U9CG"
   },
   "outputs": [],
   "source": [
    "padding = 3 - inputs_flattened.shape[1]%3"
   ]
  },
  {
   "cell_type": "code",
   "execution_count": 8,
   "metadata": {
    "colab": {
     "base_uri": "https://localhost:8080/"
    },
    "id": "3fe1rnMNU-7u",
    "outputId": "f83e2610-90bd-4196-beae-c2f0f664b1bf"
   },
   "outputs": [
    {
     "data": {
      "text/plain": [
       "2"
      ]
     },
     "execution_count": 8,
     "metadata": {
      "tags": []
     },
     "output_type": "execute_result"
    }
   ],
   "source": [
    "padding"
   ]
  },
  {
   "cell_type": "code",
   "execution_count": 10,
   "metadata": {
    "colab": {
     "base_uri": "https://localhost:8080/"
    },
    "id": "cQi4YY2oU_vl",
    "outputId": "e299bada-e5c6-430a-aa14-bd8a9a7a13a1"
   },
   "outputs": [
    {
     "data": {
      "text/plain": [
       "64"
      ]
     },
     "execution_count": 10,
     "metadata": {
      "tags": []
     },
     "output_type": "execute_result"
    }
   ],
   "source": [
    "inputs_flattened.shape[1]"
   ]
  },
  {
   "cell_type": "code",
   "execution_count": 11,
   "metadata": {
    "id": "NPPn1hV9VE41"
   },
   "outputs": [],
   "source": [
    "if padding%3 != 0:\n",
    "  inputs_flattened = tf.pad(inputs_flattened, tf.constant([[0, 0,], [0, padding]]))"
   ]
  },
  {
   "cell_type": "code",
   "execution_count": 13,
   "metadata": {
    "colab": {
     "base_uri": "https://localhost:8080/"
    },
    "id": "bgcZVIUJVP29",
    "outputId": "416b85e1-86e0-4ef6-8ae0-f31ada2c8689"
   },
   "outputs": [
    {
     "data": {
      "text/plain": [
       "<tf.Tensor: shape=(66,), dtype=float32, numpy=\n",
       "array([-0.40325993, -0.1830648 , -2.3186595 ,  0.22233748,  0.60926175,\n",
       "        0.8772699 , -0.02041614,  0.6060319 , -0.14512265,  0.11560942,\n",
       "        1.6525089 , -0.13566042,  0.4155785 , -1.2184131 , -0.2914956 ,\n",
       "       -0.41605225, -0.4040322 ,  0.7729773 , -0.45155084,  0.12763374,\n",
       "       -0.6990567 ,  0.7526264 , -0.9961212 ,  1.1395983 , -0.44212022,\n",
       "        2.0539858 ,  0.78207165,  0.8356619 , -0.84400094,  1.1092134 ,\n",
       "        0.29960844,  0.11890655,  0.3939817 ,  0.8936662 , -0.6158387 ,\n",
       "        2.324979  , -0.38270357,  1.0765148 , -0.85952103, -0.73087806,\n",
       "       -2.1552875 , -0.62431514, -0.07574819,  1.4611986 , -0.8215213 ,\n",
       "        0.7692628 , -1.1937053 , -1.5856755 ,  0.5373629 , -0.36328962,\n",
       "        0.45609942,  0.220822  ,  0.9936338 , -0.8234896 ,  0.29118988,\n",
       "       -1.1896902 , -1.2836219 , -1.2014107 , -1.4512084 ,  0.66969126,\n",
       "        1.6901467 ,  0.10206898, -0.07154618, -1.4551104 ,  0.        ,\n",
       "        0.        ], dtype=float32)>"
      ]
     },
     "execution_count": 13,
     "metadata": {
      "tags": []
     },
     "output_type": "execute_result"
    }
   ],
   "source": [
    "inputs_flattened[0]"
   ]
  },
  {
   "cell_type": "code",
   "execution_count": 15,
   "metadata": {
    "id": "iwEzqGEWVQj8"
   },
   "outputs": [],
   "source": [
    "n_layers = 1\n",
    "n_qubits = 3\n",
    "# Repeat the inputs for every layer and qubit\n",
    "inputs_flattened = tf.tile(inputs_flattened, tf.constant([1,n_layers*n_qubits]))"
   ]
  },
  {
   "cell_type": "code",
   "execution_count": 16,
   "metadata": {
    "colab": {
     "base_uri": "https://localhost:8080/"
    },
    "id": "iBgYx4TVVZhs",
    "outputId": "0452fa2d-f587-4ecf-d1ac-0f0c713ef115"
   },
   "outputs": [
    {
     "data": {
      "text/plain": [
       "TensorShape([100, 198])"
      ]
     },
     "execution_count": 16,
     "metadata": {
      "tags": []
     },
     "output_type": "execute_result"
    }
   ],
   "source": [
    "inputs_flattened.shape"
   ]
  },
  {
   "cell_type": "code",
   "execution_count": 17,
   "metadata": {
    "id": "XYcx8F84VvAp"
   },
   "outputs": [],
   "source": [
    "filter_size = 2\n",
    "stride = 1"
   ]
  },
  {
   "cell_type": "code",
   "execution_count": 18,
   "metadata": {
    "id": "hNsxCIQVVhMc"
   },
   "outputs": [],
   "source": [
    "iterations = int(1+(inputs.shape[1]-filter_size)/stride)"
   ]
  },
  {
   "cell_type": "code",
   "execution_count": 19,
   "metadata": {
    "colab": {
     "base_uri": "https://localhost:8080/"
    },
    "id": "v50lpuo6VzVn",
    "outputId": "ed5dfafc-9efd-49fb-f54d-6d56cd35ad14"
   },
   "outputs": [
    {
     "data": {
      "text/plain": [
       "7"
      ]
     },
     "execution_count": 19,
     "metadata": {
      "tags": []
     },
     "output_type": "execute_result"
    }
   ],
   "source": [
    "iterations"
   ]
  },
  {
   "cell_type": "code",
   "execution_count": null,
   "metadata": {
    "id": "DzTElBr9Vxvs"
   },
   "outputs": [],
   "source": [
    "\n",
    "pqc = ReUploadingPQC(n_qubits, n_layers, filter_size, use_entanglement=True, name=name+conv_id)\n",
    "conv = []\n",
    "for i in range(iter):\n",
    "    for j in range(iter):\n",
    "        temp = pqc(inputs[:, stride*i:stride*i+filter_size, stride*j:stride*j+filter_size])\n",
    "        conv += [temp]\n",
    "output_concat = tf.keras.layers.Concatenate(axis=1)(conv)\n",
    "output_reshape = tf.keras.layers.Reshape((iter, iter))(output_concat)"
   ]
  },
  {
   "cell_type": "code",
   "execution_count": 20,
   "metadata": {
    "colab": {
     "base_uri": "https://localhost:8080/"
    },
    "id": "cLKfGeTYVxx2",
    "outputId": "182c103f-3dbf-4d68-be5e-29c66493f1b9"
   },
   "outputs": [
    {
     "name": "stdout",
     "output_type": "stream",
     "text": [
      "0 2\n",
      "0 2\n",
      "\n",
      "0 2\n",
      "1 3\n",
      "\n",
      "0 2\n",
      "2 4\n",
      "\n",
      "0 2\n",
      "3 5\n",
      "\n",
      "0 2\n",
      "4 6\n",
      "\n",
      "0 2\n",
      "5 7\n",
      "\n",
      "0 2\n",
      "6 8\n",
      "\n",
      "1 3\n",
      "0 2\n",
      "\n",
      "1 3\n",
      "1 3\n",
      "\n",
      "1 3\n",
      "2 4\n",
      "\n",
      "1 3\n",
      "3 5\n",
      "\n",
      "1 3\n",
      "4 6\n",
      "\n",
      "1 3\n",
      "5 7\n",
      "\n",
      "1 3\n",
      "6 8\n",
      "\n",
      "2 4\n",
      "0 2\n",
      "\n",
      "2 4\n",
      "1 3\n",
      "\n",
      "2 4\n",
      "2 4\n",
      "\n",
      "2 4\n",
      "3 5\n",
      "\n",
      "2 4\n",
      "4 6\n",
      "\n",
      "2 4\n",
      "5 7\n",
      "\n",
      "2 4\n",
      "6 8\n",
      "\n",
      "3 5\n",
      "0 2\n",
      "\n",
      "3 5\n",
      "1 3\n",
      "\n",
      "3 5\n",
      "2 4\n",
      "\n",
      "3 5\n",
      "3 5\n",
      "\n",
      "3 5\n",
      "4 6\n",
      "\n",
      "3 5\n",
      "5 7\n",
      "\n",
      "3 5\n",
      "6 8\n",
      "\n",
      "4 6\n",
      "0 2\n",
      "\n",
      "4 6\n",
      "1 3\n",
      "\n",
      "4 6\n",
      "2 4\n",
      "\n",
      "4 6\n",
      "3 5\n",
      "\n",
      "4 6\n",
      "4 6\n",
      "\n",
      "4 6\n",
      "5 7\n",
      "\n",
      "4 6\n",
      "6 8\n",
      "\n",
      "5 7\n",
      "0 2\n",
      "\n",
      "5 7\n",
      "1 3\n",
      "\n",
      "5 7\n",
      "2 4\n",
      "\n",
      "5 7\n",
      "3 5\n",
      "\n",
      "5 7\n",
      "4 6\n",
      "\n",
      "5 7\n",
      "5 7\n",
      "\n",
      "5 7\n",
      "6 8\n",
      "\n",
      "6 8\n",
      "0 2\n",
      "\n",
      "6 8\n",
      "1 3\n",
      "\n",
      "6 8\n",
      "2 4\n",
      "\n",
      "6 8\n",
      "3 5\n",
      "\n",
      "6 8\n",
      "4 6\n",
      "\n",
      "6 8\n",
      "5 7\n",
      "\n",
      "6 8\n",
      "6 8\n",
      "\n"
     ]
    }
   ],
   "source": [
    "for i in range(iterations):\n",
    "  for j in range(iterations):\n",
    "    print(stride*i, stride*i+filter_size)\n",
    "    print(stride*j, stride*j+filter_size)\n",
    "    print()"
   ]
  },
  {
   "cell_type": "code",
   "execution_count": 33,
   "metadata": {
    "id": "RfGL-tlLbq9O"
   },
   "outputs": [],
   "source": [
    "from tensorflow.python.keras.engine.base_layer import Layer\n",
    "from tensorflow.python.keras.utils import conv_utils\n",
    "from tensorflow.python.framework import tensor_shape\n",
    "from tensorflow.python.keras import constraints, initializers, regularizers\n",
    "\n",
    "import numpy as np\n",
    "\n",
    "class QConv2D(Layer):\n",
    "  def __init__(self,\n",
    "               kernel_size,\n",
    "               strides=1,\n",
    "               padding='valid',\n",
    "               trainable=True,\n",
    "               kernel_initializer=tf.keras.initializers.RandomUniform(0, 2 * np.pi),\n",
    "               kernel_regularizer=None,\n",
    "               kernel_constraint=None,               \n",
    "               name=None,\n",
    "               **kwargs):\n",
    "    super(QConv2D, self).__init__(\n",
    "        trainable=trainable,\n",
    "        name=name,\n",
    "        **kwargs)\n",
    "    # manually calculate the output shape\n",
    "    self.filters = filters\n",
    "    self.kernel_size = conv_utils.normalize_tuple(kernel_size, rank, 'kernel_size')\n",
    "    self.strides = conv_utils.normalize_tuple(strides, rank, 'strides')\n",
    "    self.padding = conv_utils.normalize_padding(padding)\n",
    "\n",
    "    self.kernel_initializer = initializers.get(kernel_initializer)\n",
    "    self.kernel_regularizer = regularizers.get(kernel_regularizer)\n",
    "    self.kernel_constraint = constraints.get(kernel_constraint)\n",
    "\n",
    "\n",
    "    self._validate_init()\n",
    "\n",
    "  def _validate_init(self):\n",
    "    if not all(self.kernel_size):\n",
    "      raise ValueError('The argument `kernel_size` cannot contain 0(s). '\n",
    "                       'Received: %s' % (self.kernel_size,))\n",
    "\n",
    "    if not all(self.strides):\n",
    "      raise ValueError('The argument `strides` cannot contains 0(s). '\n",
    "                       'Received: %s' % (self.strides,)) \n",
    "      \n",
    "    def build(self, input_shape):\n",
    "        \"\"\"Keras build function.\"\"\"\n",
    "        input_shape = tensor_shape.TensorShape(input_shape)\n",
    "        self.kernel = self.add_weight(\n",
    "          name='kernel',\n",
    "          shape=???,\n",
    "          initializer=self.kernel_initializer,\n",
    "          regularizer=self.kernel_regularizer,\n",
    "          constraint=self.kernel_constraint,\n",
    "          trainable=True,\n",
    "          dtype=self.dtype)\n",
    "        self._convolution_op = ???\n",
    "        self.built = True"
   ]
  },
  {
   "cell_type": "code",
   "execution_count": 35,
   "metadata": {
    "id": "gKo7xTJLcR5O"
   },
   "outputs": [],
   "source": [
    "qconv = QConv(2, 2, 2)"
   ]
  },
  {
   "cell_type": "code",
   "execution_count": 37,
   "metadata": {
    "id": "tU4tcp6KcR9K"
   },
   "outputs": [],
   "source": [
    "qconv.kernel_regularizer"
   ]
  },
  {
   "cell_type": "code",
   "execution_count": 38,
   "metadata": {
    "id": "BOKKxnIpcVNL"
   },
   "outputs": [],
   "source": [
    "from tensorflow.python.framework import tensor_shape"
   ]
  },
  {
   "cell_type": "code",
   "execution_count": 39,
   "metadata": {
    "id": "VkZJS4kLJP1I"
   },
   "outputs": [],
   "source": [
    "input_shape = (8, 8)"
   ]
  },
  {
   "cell_type": "code",
   "execution_count": 40,
   "metadata": {
    "colab": {
     "base_uri": "https://localhost:8080/"
    },
    "id": "MamHkpQLJMat",
    "outputId": "bc242aeb-0b03-4aa7-fb2b-ec95bc09b137"
   },
   "outputs": [
    {
     "data": {
      "text/plain": [
       "[8, 8]"
      ]
     },
     "execution_count": 40,
     "metadata": {
      "tags": []
     },
     "output_type": "execute_result"
    }
   ],
   "source": [
    "tensor_shape.TensorShape(input_shape).as_list()"
   ]
  },
  {
   "cell_type": "code",
   "execution_count": 44,
   "metadata": {
    "colab": {
     "base_uri": "https://localhost:8080/"
    },
    "id": "XlITvn8JKGDT",
    "outputId": "c9fa4bef-bd30-42ac-f45e-923ff5782a86"
   },
   "outputs": [
    {
     "data": {
      "text/plain": [
       "(3, 3, 1, 10)"
      ]
     },
     "execution_count": 44,
     "metadata": {
      "tags": []
     },
     "output_type": "execute_result"
    }
   ],
   "source": [
    "kernel_shape"
   ]
  },
  {
   "cell_type": "code",
   "execution_count": null,
   "metadata": {},
   "outputs": [],
   "source": [
    "input_shape = (8, 8)\n",
    "kernel_size = (3, 3)\n",
    "strides = (1, 1)"
   ]
  },
  {
   "cell_type": "code",
   "execution_count": null,
   "metadata": {
    "id": "CwwwooeBKIv6"
   },
   "outputs": [],
   "source": [
    "def get_slice_indices(input_shape, kernel_size, strides):\n",
    "    for i in "
   ]
  },
  {
   "cell_type": "code",
   "execution_count": 4,
   "metadata": {},
   "outputs": [],
   "source": [
    "import tensorflow as tf\n",
    "import numpy as np"
   ]
  },
  {
   "cell_type": "code",
   "execution_count": 6,
   "metadata": {},
   "outputs": [],
   "source": [
    "x_in = np.array([[\n",
    "  [[2], [1], [2], [0], [1]],\n",
    "  [[1], [3], [2], [2], [3]],\n",
    "  [[1], [1], [3], [3], [0]],\n",
    "  [[2], [2], [0], [1], [1]],\n",
    "  [[0], [0], [3], [1], [2]], ]])\n",
    "kernel_in = np.array([\n",
    " [ [[2, 0.1]], [[3, 0.2]] ],\n",
    " [ [[0, 0.3]],[[1, 0.4]] ], ])\n",
    "x = tf.constant(x_in, dtype=tf.float32)\n",
    "kernel = tf.constant(kernel_in, dtype=tf.float32)\n",
    "output = tf.nn.conv2d(x, kernel, strides=[1, 1, 1, 1], padding='VALID')"
   ]
  },
  {
   "cell_type": "code",
   "execution_count": 7,
   "metadata": {},
   "outputs": [
    {
     "data": {
      "text/plain": [
       "TensorShape([1, 4, 4, 2])"
      ]
     },
     "execution_count": 7,
     "metadata": {},
     "output_type": "execute_result"
    }
   ],
   "source": [
    "output.shape"
   ]
  },
  {
   "cell_type": "code",
   "execution_count": 8,
   "metadata": {},
   "outputs": [
    {
     "data": {
      "text/plain": [
       "(1, 5, 5, 1)"
      ]
     },
     "execution_count": 8,
     "metadata": {},
     "output_type": "execute_result"
    }
   ],
   "source": [
    "x_in.shape"
   ]
  },
  {
   "cell_type": "code",
   "execution_count": 10,
   "metadata": {},
   "outputs": [
    {
     "data": {
      "text/plain": [
       "TensorShape([2, 2, 1, 2])"
      ]
     },
     "execution_count": 10,
     "metadata": {},
     "output_type": "execute_result"
    }
   ],
   "source": [
    "kernel.shape"
   ]
  },
  {
   "cell_type": "code",
   "execution_count": 12,
   "metadata": {},
   "outputs": [
    {
     "data": {
      "text/plain": [
       "<tf.Tensor: shape=(4, 2), dtype=float32, numpy=\n",
       "array([[2. , 0.1],\n",
       "       [3. , 0.2],\n",
       "       [0. , 0.3],\n",
       "       [1. , 0.4]], dtype=float32)>"
      ]
     },
     "execution_count": 12,
     "metadata": {},
     "output_type": "execute_result"
    }
   ],
   "source": [
    "tf.reshape(kernel, (4, 2))"
   ]
  },
  {
   "cell_type": "code",
   "execution_count": 16,
   "metadata": {},
   "outputs": [
    {
     "data": {
      "text/plain": [
       "2"
      ]
     },
     "execution_count": 16,
     "metadata": {},
     "output_type": "execute_result"
    }
   ],
   "source": []
  },
  {
   "cell_type": "code",
   "execution_count": 38,
   "metadata": {},
   "outputs": [],
   "source": [
    "from math import ceil\n",
    "def get_paddings(input_shape, filter_shape, strides):\n",
    "    \"\"\"\n",
    "    Arguments:\n",
    "        input_shape: (height, width)\n",
    "        filter_shape: (height, width)\n",
    "        strides: (height, width)\n",
    "    \"\"\"\n",
    "    out_height = ceil(float(input_shape[0]) / float(strides[0]))\n",
    "    out_width  = ceil(float(input_shape[1]) / float(strides[1]))\n",
    "    if (input_shape[0] % strides[0] == 0):\n",
    "        pad_along_height = max(filter_shape[0] - strides[0], 0)\n",
    "    else:\n",
    "        pad_along_height = max(filter_shape[0] - (input_shape[0] % strides[0]), 0)\n",
    "    if (input_shape[1] % strides[1] == 0):\n",
    "        pad_along_width = max(filter_shape[1] - strides[1], 0)\n",
    "    else:\n",
    "        pad_along_width = max(filter_shape[1] - (input_shape[1] % strides[1]), 0)\n",
    "    pad_top = pad_along_height // 2\n",
    "    pad_bottom = pad_along_height - pad_top\n",
    "    pad_left = pad_along_width // 2\n",
    "    pad_right = pad_along_width - pad_left\n",
    "    return tf.constant([[pad_top, pad_bottom,], [pad_left, pad_right]])\n",
    "\n",
    "def get_padded_shape(input_shape, filter_shape, strides, padding=\"same\"):\n",
    "    if padding.lower() == \"same\":\n",
    "        paddings = get_paddings(input_shape, filter_shape, strides)\n",
    "        return tf.TensorShape([input_shape[0]+paddings[0][0]+paddings[0][1],\n",
    "                               input_shape[1]+paddings[1][0]+paddings[1][1]])\n",
    "    elif padding.lower() == \"valid\":\n",
    "        out_height = ceil(float(input_shape[0] - filter_shape[0] + 1) / float(strides[0]))\n",
    "        out_width  = ceil(float(input_shape[1] - filter_shape[1] + 1) / float(strides[1]))\n",
    "        return tf.TensorShape([out_height, out_width])\n",
    "    else:\n",
    "        raise ValueError(\"invalid padding: {}\".format(padding))"
   ]
  },
  {
   "cell_type": "code",
   "execution_count": 72,
   "metadata": {},
   "outputs": [],
   "source": [
    "x = tf.random.normal((10000, 8, 8))"
   ]
  },
  {
   "cell_type": "code",
   "execution_count": 74,
   "metadata": {},
   "outputs": [],
   "source": [
    "y = tf.extract_volume_patches(tf.reshape(x, shape=(x.shape[0], 1, x.shape[1], x.shape[2], 1)), ksizes=(1, 1, 4, 4, 1), strides=(1, 1, 1, 1, 1), padding=\"SAME\")"
   ]
  },
  {
   "cell_type": "code",
   "execution_count": 79,
   "metadata": {},
   "outputs": [],
   "source": [
    "z = tf.reshape(y, (x.shape[0], x.shape[1]*x.shape[2], filter_shape[0]* filter_shape[1]))"
   ]
  },
  {
   "cell_type": "code",
   "execution_count": 84,
   "metadata": {},
   "outputs": [
    {
     "data": {
      "text/plain": [
       "TensorShape([10000, 64, 16])"
      ]
     },
     "execution_count": 84,
     "metadata": {},
     "output_type": "execute_result"
    }
   ],
   "source": [
    "z.shape"
   ]
  },
  {
   "cell_type": "code",
   "execution_count": 78,
   "metadata": {},
   "outputs": [
    {
     "data": {
      "text/plain": [
       "<tf.Tensor: shape=(10000, 64, 4, 4), dtype=float32, numpy=\n",
       "array([[[[ 0.        ,  0.        ,  0.        ,  0.        ],\n",
       "         [ 0.        , -1.590996  , -0.7392619 ,  0.70663345],\n",
       "         [ 0.        ,  0.21753213, -0.86750275,  1.881231  ],\n",
       "         [ 0.        , -0.31784147, -0.84181976,  1.0325533 ]],\n",
       "\n",
       "        [[ 0.        ,  0.        ,  0.        ,  0.        ],\n",
       "         [-1.590996  , -0.7392619 ,  0.70663345, -1.3885567 ],\n",
       "         [ 0.21753213, -0.86750275,  1.881231  ,  1.1596411 ],\n",
       "         [-0.31784147, -0.84181976,  1.0325533 ,  1.2873256 ]],\n",
       "\n",
       "        [[ 0.        ,  0.        ,  0.        ,  0.        ],\n",
       "         [-0.7392619 ,  0.70663345, -1.3885567 ,  0.7011143 ],\n",
       "         [-0.86750275,  1.881231  ,  1.1596411 ,  1.4499713 ],\n",
       "         [-0.84181976,  1.0325533 ,  1.2873256 , -1.2548099 ]],\n",
       "\n",
       "        ...,\n",
       "\n",
       "        [[-0.9324289 , -0.8642169 ,  0.7944592 ,  0.25673652],\n",
       "         [-1.5249949 , -1.0504858 ,  1.010458  , -0.41208702],\n",
       "         [ 0.        ,  0.        ,  0.        ,  0.        ],\n",
       "         [ 0.        ,  0.        ,  0.        ,  0.        ]],\n",
       "\n",
       "        [[-0.8642169 ,  0.7944592 ,  0.25673652,  0.        ],\n",
       "         [-1.0504858 ,  1.010458  , -0.41208702,  0.        ],\n",
       "         [ 0.        ,  0.        ,  0.        ,  0.        ],\n",
       "         [ 0.        ,  0.        ,  0.        ,  0.        ]],\n",
       "\n",
       "        [[ 0.7944592 ,  0.25673652,  0.        ,  0.        ],\n",
       "         [ 1.010458  , -0.41208702,  0.        ,  0.        ],\n",
       "         [ 0.        ,  0.        ,  0.        ,  0.        ],\n",
       "         [ 0.        ,  0.        ,  0.        ,  0.        ]]],\n",
       "\n",
       "\n",
       "       [[[ 0.        ,  0.        ,  0.        ,  0.        ],\n",
       "         [ 0.        , -0.760338  ,  1.4169431 , -1.3112195 ],\n",
       "         [ 0.        ,  0.95793545, -1.1389761 , -0.4598268 ],\n",
       "         [ 0.        , -0.9911952 ,  0.25644946, -0.7864675 ]],\n",
       "\n",
       "        [[ 0.        ,  0.        ,  0.        ,  0.        ],\n",
       "         [-0.760338  ,  1.4169431 , -1.3112195 ,  0.7719157 ],\n",
       "         [ 0.95793545, -1.1389761 , -0.4598268 ,  0.6146281 ],\n",
       "         [-0.9911952 ,  0.25644946, -0.7864675 ,  0.78345716]],\n",
       "\n",
       "        [[ 0.        ,  0.        ,  0.        ,  0.        ],\n",
       "         [ 1.4169431 , -1.3112195 ,  0.7719157 , -1.2059913 ],\n",
       "         [-1.1389761 , -0.4598268 ,  0.6146281 ,  0.20511898],\n",
       "         [ 0.25644946, -0.7864675 ,  0.78345716,  0.32969958]],\n",
       "\n",
       "        ...,\n",
       "\n",
       "        [[-1.1489878 ,  0.7431491 ,  1.3158907 ,  0.83245033],\n",
       "         [-1.958378  , -0.28378993,  0.21003124,  0.16521603],\n",
       "         [ 0.        ,  0.        ,  0.        ,  0.        ],\n",
       "         [ 0.        ,  0.        ,  0.        ,  0.        ]],\n",
       "\n",
       "        [[ 0.7431491 ,  1.3158907 ,  0.83245033,  0.        ],\n",
       "         [-0.28378993,  0.21003124,  0.16521603,  0.        ],\n",
       "         [ 0.        ,  0.        ,  0.        ,  0.        ],\n",
       "         [ 0.        ,  0.        ,  0.        ,  0.        ]],\n",
       "\n",
       "        [[ 1.3158907 ,  0.83245033,  0.        ,  0.        ],\n",
       "         [ 0.21003124,  0.16521603,  0.        ,  0.        ],\n",
       "         [ 0.        ,  0.        ,  0.        ,  0.        ],\n",
       "         [ 0.        ,  0.        ,  0.        ,  0.        ]]],\n",
       "\n",
       "\n",
       "       [[[ 0.        ,  0.        ,  0.        ,  0.        ],\n",
       "         [ 0.        , -1.121917  ,  1.493311  , -0.3182548 ],\n",
       "         [ 0.        ,  1.4049051 ,  2.0768301 , -0.8454926 ],\n",
       "         [ 0.        ,  1.0320904 ,  0.8831511 ,  0.80485225]],\n",
       "\n",
       "        [[ 0.        ,  0.        ,  0.        ,  0.        ],\n",
       "         [-1.121917  ,  1.493311  , -0.3182548 ,  0.38260642],\n",
       "         [ 1.4049051 ,  2.0768301 , -0.8454926 , -0.41494337],\n",
       "         [ 1.0320904 ,  0.8831511 ,  0.80485225,  0.17355238]],\n",
       "\n",
       "        [[ 0.        ,  0.        ,  0.        ,  0.        ],\n",
       "         [ 1.493311  , -0.3182548 ,  0.38260642,  1.4809471 ],\n",
       "         [ 2.0768301 , -0.8454926 , -0.41494337,  0.94588083],\n",
       "         [ 0.8831511 ,  0.80485225,  0.17355238,  1.5670561 ]],\n",
       "\n",
       "        ...,\n",
       "\n",
       "        [[ 0.51962304,  1.5025516 , -0.6585495 , -1.0462874 ],\n",
       "         [-0.09659855,  0.2770175 ,  0.298696  ,  0.1064478 ],\n",
       "         [ 0.        ,  0.        ,  0.        ,  0.        ],\n",
       "         [ 0.        ,  0.        ,  0.        ,  0.        ]],\n",
       "\n",
       "        [[ 1.5025516 , -0.6585495 , -1.0462874 ,  0.        ],\n",
       "         [ 0.2770175 ,  0.298696  ,  0.1064478 ,  0.        ],\n",
       "         [ 0.        ,  0.        ,  0.        ,  0.        ],\n",
       "         [ 0.        ,  0.        ,  0.        ,  0.        ]],\n",
       "\n",
       "        [[-0.6585495 , -1.0462874 ,  0.        ,  0.        ],\n",
       "         [ 0.298696  ,  0.1064478 ,  0.        ,  0.        ],\n",
       "         [ 0.        ,  0.        ,  0.        ,  0.        ],\n",
       "         [ 0.        ,  0.        ,  0.        ,  0.        ]]],\n",
       "\n",
       "\n",
       "       ...,\n",
       "\n",
       "\n",
       "       [[[ 0.        ,  0.        ,  0.        ,  0.        ],\n",
       "         [ 0.        ,  1.196835  , -2.855857  , -1.7958797 ],\n",
       "         [ 0.        , -0.17939933, -1.0086954 , -0.5367241 ],\n",
       "         [ 0.        ,  0.64262843, -2.0696185 , -0.723602  ]],\n",
       "\n",
       "        [[ 0.        ,  0.        ,  0.        ,  0.        ],\n",
       "         [ 1.196835  , -2.855857  , -1.7958797 , -0.65621966],\n",
       "         [-0.17939933, -1.0086954 , -0.5367241 ,  0.29696694],\n",
       "         [ 0.64262843, -2.0696185 , -0.723602  ,  0.9009115 ]],\n",
       "\n",
       "        [[ 0.        ,  0.        ,  0.        ,  0.        ],\n",
       "         [-2.855857  , -1.7958797 , -0.65621966,  0.11681876],\n",
       "         [-1.0086954 , -0.5367241 ,  0.29696694,  0.14408062],\n",
       "         [-2.0696185 , -0.723602  ,  0.9009115 ,  0.24152915]],\n",
       "\n",
       "        ...,\n",
       "\n",
       "        [[ 0.45327783,  1.1775995 ,  0.6574207 ,  0.15221384],\n",
       "         [-0.95677793, -0.48502526, -0.01404276, -0.00737213],\n",
       "         [ 0.        ,  0.        ,  0.        ,  0.        ],\n",
       "         [ 0.        ,  0.        ,  0.        ,  0.        ]],\n",
       "\n",
       "        [[ 1.1775995 ,  0.6574207 ,  0.15221384,  0.        ],\n",
       "         [-0.48502526, -0.01404276, -0.00737213,  0.        ],\n",
       "         [ 0.        ,  0.        ,  0.        ,  0.        ],\n",
       "         [ 0.        ,  0.        ,  0.        ,  0.        ]],\n",
       "\n",
       "        [[ 0.6574207 ,  0.15221384,  0.        ,  0.        ],\n",
       "         [-0.01404276, -0.00737213,  0.        ,  0.        ],\n",
       "         [ 0.        ,  0.        ,  0.        ,  0.        ],\n",
       "         [ 0.        ,  0.        ,  0.        ,  0.        ]]],\n",
       "\n",
       "\n",
       "       [[[ 0.        ,  0.        ,  0.        ,  0.        ],\n",
       "         [ 0.        , -0.64219576, -0.02480227,  2.6569748 ],\n",
       "         [ 0.        ,  0.3746563 ,  0.6220177 ,  0.15603784],\n",
       "         [ 0.        , -0.90991634, -1.2185621 ,  0.08292008]],\n",
       "\n",
       "        [[ 0.        ,  0.        ,  0.        ,  0.        ],\n",
       "         [-0.64219576, -0.02480227,  2.6569748 ,  1.0476695 ],\n",
       "         [ 0.3746563 ,  0.6220177 ,  0.15603784, -0.42460993],\n",
       "         [-0.90991634, -1.2185621 ,  0.08292008, -0.02225276]],\n",
       "\n",
       "        [[ 0.        ,  0.        ,  0.        ,  0.        ],\n",
       "         [-0.02480227,  2.6569748 ,  1.0476695 ,  0.02761265],\n",
       "         [ 0.6220177 ,  0.15603784, -0.42460993, -0.2072225 ],\n",
       "         [-1.2185621 ,  0.08292008, -0.02225276,  0.04210177]],\n",
       "\n",
       "        ...,\n",
       "\n",
       "        [[ 1.1284317 , -0.31708792,  1.1153843 ,  0.14805563],\n",
       "         [ 0.1106241 , -1.2180681 , -0.14851648, -0.05537357],\n",
       "         [ 0.        ,  0.        ,  0.        ,  0.        ],\n",
       "         [ 0.        ,  0.        ,  0.        ,  0.        ]],\n",
       "\n",
       "        [[-0.31708792,  1.1153843 ,  0.14805563,  0.        ],\n",
       "         [-1.2180681 , -0.14851648, -0.05537357,  0.        ],\n",
       "         [ 0.        ,  0.        ,  0.        ,  0.        ],\n",
       "         [ 0.        ,  0.        ,  0.        ,  0.        ]],\n",
       "\n",
       "        [[ 1.1153843 ,  0.14805563,  0.        ,  0.        ],\n",
       "         [-0.14851648, -0.05537357,  0.        ,  0.        ],\n",
       "         [ 0.        ,  0.        ,  0.        ,  0.        ],\n",
       "         [ 0.        ,  0.        ,  0.        ,  0.        ]]],\n",
       "\n",
       "\n",
       "       [[[ 0.        ,  0.        ,  0.        ,  0.        ],\n",
       "         [ 0.        , -1.0269325 , -1.252759  ,  0.42155325],\n",
       "         [ 0.        ,  0.1868662 ,  0.51746225, -0.5360867 ],\n",
       "         [ 0.        , -1.0913086 ,  0.8901307 ,  0.42285997]],\n",
       "\n",
       "        [[ 0.        ,  0.        ,  0.        ,  0.        ],\n",
       "         [-1.0269325 , -1.252759  ,  0.42155325,  1.1011124 ],\n",
       "         [ 0.1868662 ,  0.51746225, -0.5360867 , -0.5837441 ],\n",
       "         [-1.0913086 ,  0.8901307 ,  0.42285997,  0.90514624]],\n",
       "\n",
       "        [[ 0.        ,  0.        ,  0.        ,  0.        ],\n",
       "         [-1.252759  ,  0.42155325,  1.1011124 , -0.29983458],\n",
       "         [ 0.51746225, -0.5360867 , -0.5837441 ,  0.85094005],\n",
       "         [ 0.8901307 ,  0.42285997,  0.90514624,  0.9801894 ]],\n",
       "\n",
       "        ...,\n",
       "\n",
       "        [[-0.0623588 ,  0.58024   , -0.84134203,  0.66259116],\n",
       "         [-0.08626122,  1.782228  ,  1.1829531 , -0.28172395],\n",
       "         [ 0.        ,  0.        ,  0.        ,  0.        ],\n",
       "         [ 0.        ,  0.        ,  0.        ,  0.        ]],\n",
       "\n",
       "        [[ 0.58024   , -0.84134203,  0.66259116,  0.        ],\n",
       "         [ 1.782228  ,  1.1829531 , -0.28172395,  0.        ],\n",
       "         [ 0.        ,  0.        ,  0.        ,  0.        ],\n",
       "         [ 0.        ,  0.        ,  0.        ,  0.        ]],\n",
       "\n",
       "        [[-0.84134203,  0.66259116,  0.        ,  0.        ],\n",
       "         [ 1.1829531 , -0.28172395,  0.        ,  0.        ],\n",
       "         [ 0.        ,  0.        ,  0.        ,  0.        ],\n",
       "         [ 0.        ,  0.        ,  0.        ,  0.        ]]]],\n",
       "      dtype=float32)>"
      ]
     },
     "execution_count": 78,
     "metadata": {},
     "output_type": "execute_result"
    }
   ],
   "source": [
    "z"
   ]
  },
  {
   "cell_type": "code",
   "execution_count": 68,
   "metadata": {},
   "outputs": [
    {
     "data": {
      "text/plain": [
       "<tf.Tensor: shape=(8, 8), dtype=float32, numpy=\n",
       "array([[ 1.1145319 , -1.259327  , -1.0086454 ,  1.9532356 ,  0.74242425,\n",
       "        -0.13960357,  0.56477183, -1.1871703 ],\n",
       "       [-1.3762298 ,  0.03977383, -0.06379321, -0.5861331 ,  1.9370478 ,\n",
       "        -0.6888917 , -0.568229  ,  1.199499  ],\n",
       "       [-0.85617536,  0.44456628, -0.9446129 ,  0.92101645,  0.55581105,\n",
       "        -1.8344688 , -0.7246132 , -0.96282345],\n",
       "       [-0.19778939,  1.0964499 ,  0.69064665,  0.6124117 , -0.9231351 ,\n",
       "        -0.8664092 , -0.055967  , -0.15046082],\n",
       "       [-1.0669558 , -0.9617483 , -0.53658104,  0.8647541 , -1.0690981 ,\n",
       "        -1.0106542 , -0.14718816,  0.15023343],\n",
       "       [-1.5762436 ,  0.29205307, -0.42049012, -0.92266554,  0.6590746 ,\n",
       "        -0.6380777 , -0.489992  , -0.2868585 ],\n",
       "       [-0.8768207 , -0.3308659 , -0.288344  ,  1.0866082 ,  0.68157303,\n",
       "        -0.7039895 ,  0.25016245,  0.7475735 ],\n",
       "       [-0.96669817, -0.06656947,  0.5255943 , -1.3027202 , -0.65705085,\n",
       "         0.76534826, -2.1613064 ,  0.978051  ]], dtype=float32)>"
      ]
     },
     "execution_count": 68,
     "metadata": {},
     "output_type": "execute_result"
    }
   ],
   "source": [
    "x"
   ]
  },
  {
   "cell_type": "code",
   "execution_count": null,
   "metadata": {},
   "outputs": [],
   "source": [
    "x"
   ]
  },
  {
   "cell_type": "raw",
   "metadata": {},
   "source": [
    "input_shape = (8,8)\n",
    "filter_shape = (4,4)\n",
    "strides = (1,1)"
   ]
  },
  {
   "cell_type": "code",
   "execution_count": 33,
   "metadata": {},
   "outputs": [],
   "source": [
    "paddings = get_paddings(input_shape, filter_shape, strides)\n",
    "output_shape = get_output_shape(input_shape, filter_shape,strides)"
   ]
  },
  {
   "cell_type": "code",
   "execution_count": 36,
   "metadata": {},
   "outputs": [
    {
     "data": {
      "text/plain": [
       "int"
      ]
     },
     "execution_count": 36,
     "metadata": {},
     "output_type": "execute_result"
    }
   ],
   "source": [
    "type(output_shape[0])"
   ]
  },
  {
   "cell_type": "code",
   "execution_count": 20,
   "metadata": {},
   "outputs": [],
   "source": [
    "x = tf.random.normal(shape=(8,8))"
   ]
  },
  {
   "cell_type": "code",
   "execution_count": 30,
   "metadata": {},
   "outputs": [
    {
     "data": {
      "text/plain": [
       "TensorShape([8, 8])"
      ]
     },
     "execution_count": 30,
     "metadata": {},
     "output_type": "execute_result"
    }
   ],
   "source": [
    "x.shape"
   ]
  },
  {
   "cell_type": "code",
   "execution_count": 23,
   "metadata": {},
   "outputs": [],
   "source": [
    "padded_x = tf.pad(x, paddings)"
   ]
  },
  {
   "cell_type": "code",
   "execution_count": 29,
   "metadata": {},
   "outputs": [
    {
     "data": {
      "text/plain": [
       "<tf.Tensor: shape=(11,), dtype=float32, numpy=\n",
       "array([ 0.        , -0.96669817, -0.06656947,  0.5255943 , -1.3027202 ,\n",
       "       -0.65705085,  0.76534826, -2.1613064 ,  0.978051  ,  0.        ,\n",
       "        0.        ], dtype=float32)>"
      ]
     },
     "execution_count": 29,
     "metadata": {},
     "output_type": "execute_result"
    }
   ],
   "source": [
    "padded_x[-3]"
   ]
  },
  {
   "cell_type": "code",
   "execution_count": 25,
   "metadata": {},
   "outputs": [],
   "source": [
    "from tensorflow.python.keras.utils import conv_utils"
   ]
  },
  {
   "cell_type": "code",
   "execution_count": 27,
   "metadata": {},
   "outputs": [
    {
     "data": {
      "text/plain": [
       "'SAME'"
      ]
     },
     "execution_count": 27,
     "metadata": {},
     "output_type": "execute_result"
    }
   ],
   "source": [
    "conv_utils.normalize_padding(\"same\").upper()"
   ]
  },
  {
   "cell_type": "code",
   "execution_count": 31,
   "metadata": {},
   "outputs": [
    {
     "data": {
      "text/plain": [
       "TensorShape([1, 2])"
      ]
     },
     "execution_count": 31,
     "metadata": {},
     "output_type": "execute_result"
    }
   ],
   "source": [
    "tf.TensorShape(conv_utils.normalize_tuple([1,2], 2, 'kernel_size'))"
   ]
  },
  {
   "cell_type": "code",
   "execution_count": 38,
   "metadata": {},
   "outputs": [],
   "source": [
    "x = tf.random.normal((15,))"
   ]
  },
  {
   "cell_type": "code",
   "execution_count": 39,
   "metadata": {},
   "outputs": [
    {
     "ename": "InvalidArgumentError",
     "evalue": "Expected multiples argument to be a vector of length 1 but got length 2 [Op:Tile]",
     "output_type": "error",
     "traceback": [
      "\u001b[0;31m---------------------------------------------------------------------------\u001b[0m",
      "\u001b[0;31mInvalidArgumentError\u001b[0m                      Traceback (most recent call last)",
      "\u001b[0;32m<ipython-input-39-c3cf47158218>\u001b[0m in \u001b[0;36m<module>\u001b[0;34m\u001b[0m\n\u001b[0;32m----> 1\u001b[0;31m \u001b[0mtf\u001b[0m\u001b[0;34m.\u001b[0m\u001b[0mtile\u001b[0m\u001b[0;34m(\u001b[0m\u001b[0mx\u001b[0m\u001b[0;34m,\u001b[0m \u001b[0;34m[\u001b[0m\u001b[0;36m5\u001b[0m\u001b[0;34m,\u001b[0m \u001b[0;36m1\u001b[0m\u001b[0;34m]\u001b[0m\u001b[0;34m)\u001b[0m\u001b[0;34m\u001b[0m\u001b[0;34m\u001b[0m\u001b[0m\n\u001b[0m",
      "\u001b[0;32m/afs/cern.ch/work/c/chlcheng/public/local/conda/miniconda/envs/ml-base/lib/python3.7/site-packages/tensorflow/python/ops/gen_array_ops.py\u001b[0m in \u001b[0;36mtile\u001b[0;34m(input, multiples, name)\u001b[0m\n\u001b[1;32m  11391\u001b[0m     \u001b[0;32mtry\u001b[0m\u001b[0;34m:\u001b[0m\u001b[0;34m\u001b[0m\u001b[0;34m\u001b[0m\u001b[0m\n\u001b[1;32m  11392\u001b[0m       return tile_eager_fallback(\n\u001b[0;32m> 11393\u001b[0;31m           input, multiples, name=name, ctx=_ctx)\n\u001b[0m\u001b[1;32m  11394\u001b[0m     \u001b[0;32mexcept\u001b[0m \u001b[0m_core\u001b[0m\u001b[0;34m.\u001b[0m\u001b[0m_SymbolicException\u001b[0m\u001b[0;34m:\u001b[0m\u001b[0;34m\u001b[0m\u001b[0;34m\u001b[0m\u001b[0m\n\u001b[1;32m  11395\u001b[0m       \u001b[0;32mpass\u001b[0m  \u001b[0;31m# Add nodes to the TensorFlow graph.\u001b[0m\u001b[0;34m\u001b[0m\u001b[0;34m\u001b[0m\u001b[0m\n",
      "\u001b[0;32m/afs/cern.ch/work/c/chlcheng/public/local/conda/miniconda/envs/ml-base/lib/python3.7/site-packages/tensorflow/python/ops/gen_array_ops.py\u001b[0m in \u001b[0;36mtile_eager_fallback\u001b[0;34m(input, multiples, name, ctx)\u001b[0m\n\u001b[1;32m  11431\u001b[0m   \u001b[0m_attrs\u001b[0m \u001b[0;34m=\u001b[0m \u001b[0;34m(\u001b[0m\u001b[0;34m\"T\"\u001b[0m\u001b[0;34m,\u001b[0m \u001b[0m_attr_T\u001b[0m\u001b[0;34m,\u001b[0m \u001b[0;34m\"Tmultiples\"\u001b[0m\u001b[0;34m,\u001b[0m \u001b[0m_attr_Tmultiples\u001b[0m\u001b[0;34m)\u001b[0m\u001b[0;34m\u001b[0m\u001b[0;34m\u001b[0m\u001b[0m\n\u001b[1;32m  11432\u001b[0m   _result = _execute.execute(b\"Tile\", 1, inputs=_inputs_flat, attrs=_attrs,\n\u001b[0;32m> 11433\u001b[0;31m                              ctx=ctx, name=name)\n\u001b[0m\u001b[1;32m  11434\u001b[0m   \u001b[0;32mif\u001b[0m \u001b[0m_execute\u001b[0m\u001b[0;34m.\u001b[0m\u001b[0mmust_record_gradient\u001b[0m\u001b[0;34m(\u001b[0m\u001b[0;34m)\u001b[0m\u001b[0;34m:\u001b[0m\u001b[0;34m\u001b[0m\u001b[0;34m\u001b[0m\u001b[0m\n\u001b[1;32m  11435\u001b[0m     _execute.record_gradient(\n",
      "\u001b[0;32m/afs/cern.ch/work/c/chlcheng/public/local/conda/miniconda/envs/ml-base/lib/python3.7/site-packages/tensorflow/python/eager/execute.py\u001b[0m in \u001b[0;36mquick_execute\u001b[0;34m(op_name, num_outputs, inputs, attrs, ctx, name)\u001b[0m\n\u001b[1;32m     58\u001b[0m     \u001b[0mctx\u001b[0m\u001b[0;34m.\u001b[0m\u001b[0mensure_initialized\u001b[0m\u001b[0;34m(\u001b[0m\u001b[0;34m)\u001b[0m\u001b[0;34m\u001b[0m\u001b[0;34m\u001b[0m\u001b[0m\n\u001b[1;32m     59\u001b[0m     tensors = pywrap_tfe.TFE_Py_Execute(ctx._handle, device_name, op_name,\n\u001b[0;32m---> 60\u001b[0;31m                                         inputs, attrs, num_outputs)\n\u001b[0m\u001b[1;32m     61\u001b[0m   \u001b[0;32mexcept\u001b[0m \u001b[0mcore\u001b[0m\u001b[0;34m.\u001b[0m\u001b[0m_NotOkStatusException\u001b[0m \u001b[0;32mas\u001b[0m \u001b[0me\u001b[0m\u001b[0;34m:\u001b[0m\u001b[0;34m\u001b[0m\u001b[0;34m\u001b[0m\u001b[0m\n\u001b[1;32m     62\u001b[0m     \u001b[0;32mif\u001b[0m \u001b[0mname\u001b[0m \u001b[0;32mis\u001b[0m \u001b[0;32mnot\u001b[0m \u001b[0;32mNone\u001b[0m\u001b[0;34m:\u001b[0m\u001b[0;34m\u001b[0m\u001b[0;34m\u001b[0m\u001b[0m\n",
      "\u001b[0;31mInvalidArgumentError\u001b[0m: Expected multiples argument to be a vector of length 1 but got length 2 [Op:Tile]"
     ]
    }
   ],
   "source": [
    "tf.tile(x, [5, 1])"
   ]
  },
  {
   "cell_type": "code",
   "execution_count": 117,
   "metadata": {},
   "outputs": [],
   "source": [
    "import numpy as np\n",
    "\n",
    "import tensorflow as tf\n",
    "from tensorflow.python.keras.engine.base_layer import Layer\n",
    "from tensorflow.python.keras.utils import conv_utils\n",
    "from tensorflow.python.framework import tensor_shape\n",
    "from tensorflow.python.keras import constraints, initializers, regularizers\n",
    "\n",
    "from quple.interface.tfq.layers import PQC\n",
    "\n",
    "class QConv2D(PQC):\n",
    "    def __init__(self, kernel_circuit,\n",
    "                 data_circuit,\n",
    "                 operators,\n",
    "                 kernel_size,\n",
    "                 strides=1,\n",
    "                 padding='same',\n",
    "                 trainable=True,\n",
    "                 kernel_initializer=tf.keras.initializers.RandomUniform(0, 2 * np.pi),\n",
    "                 kernel_regularizer=None,\n",
    "                 kernel_constraint=None,               \n",
    "                 name=None, **kwargs):\n",
    "        self.kernel_initializer = initializers.get(kernel_initializer)\n",
    "        self.kernel_regularizer = regularizers.get(kernel_regularizer)\n",
    "        self.kernel_constraint = constraints.get(kernel_constraint)\n",
    "        super(QConv2D, self).__init__(kernel_circuit, data_circuit, operators,\n",
    "                                      trainable=trainable, name=name, **kwargs)\n",
    "        self.rank = 2\n",
    "        self.kernel_size = conv_utils.normalize_tuple(kernel_size, self.rank, 'kernel_size')\n",
    "        self.strides = conv_utils.normalize_tuple(strides, self.rank, 'strides')\n",
    "        self.padding = conv_utils.normalize_padding(padding)\n",
    "        self._validate_init()\n",
    "        self._input_resolver = self._get_input_resolver()\n",
    "        \n",
    "    def _validate_init(self):\n",
    "        if not all(self.kernel_size):\n",
    "            raise ValueError('The argument `kernel_size` cannot contain 0(s). '\n",
    "                           'Received: %s' % (self.kernel_size,))\n",
    "\n",
    "        if not all(self.strides):\n",
    "            raise ValueError('The argument `strides` cannot contains 0(s). '\n",
    "                           'Received: %s' % (self.strides,))\n",
    "            \n",
    "    def _init_weights(self):\n",
    "        # Weight creation is not placed in a Build function because the number\n",
    "        # of weights is independent of the input shape.\n",
    "        self.kernel = self.add_weight('kernel',\n",
    "                                      shape=self._symbols.shape,\n",
    "                                      initializer=self.kernel_initializer,\n",
    "                                      regularizer=self.kernel_regularizer,\n",
    "                                      constraint=self.kernel_constraint,\n",
    "                                      dtype=tf.float32,\n",
    "                                      trainable=True)\n",
    "        \n",
    "    def _get_input_resolver(self):\n",
    "        kernel_size = (1, 1) + self.kernel_size + (1,)\n",
    "        strides = (1, 1) + self.strides + (1,)\n",
    "        padding = self.padding.upper()\n",
    "        batchsize = lambda x: tf.gather(tf.shape(x), 0)\n",
    "        input_height = lambda x: tf.gather(tf.shape(x), 1)\n",
    "        input_width = lambda x: tf.gather(tf.shape(x), 2)\n",
    "        reshaped_input = lambda x: tf.reshape(x, shape=(batchsize(x), 1, input_height(x), input_width(x), 1))\n",
    "        input_patches = lambda x: tf.extract_volume_patches(reshaped_input(x),\n",
    "            ksizes=kernel_size, strides=strides, padding=padding)\n",
    "        resolved_input = lambda x: self._data_circuit_resolver(input_patches(x))\n",
    "        return resolved_input\n",
    "        return input_patches\n",
    "        \n",
    "    def call(self, inputs):\n",
    "        \"\"\"Keras call function.\"\"\"\n",
    "        batchsize = tf.gather(tf.shape(inputs), 0)\n",
    "        resolved_inputs_ = self._input_resolver(inputs)       \n",
    "        circuit_size = tf.reduce_prod(resolved_inputs_.shape[:-1])\n",
    "        output_height = tf.gather(tf.shape(resolved_inputs_), 2)\n",
    "        output_width = tf.gather(tf.shape(resolved_inputs_), 3)\n",
    "        resolved_inputs = tf.reshape(resolved_inputs_, (circuit_size, resolved_inputs_.shape[-1]))     \n",
    "        tiled_up_parameters_ = tf.tile([self.kernel], [circuit_size, 1])\n",
    "        tiled_up_parameters = tf.concat([resolved_inputs, tiled_up_parameters_], 1)        \n",
    "        \n",
    "        tiled_up_data_circuit = tf.tile(self._data_circuit, [circuit_size])\n",
    "        tiled_up_model = tf.tile(self._model_circuit, [circuit_size])\n",
    "        model_appended = self._append_layer(tiled_up_data_circuit, append=tiled_up_model)\n",
    "        \n",
    "        tiled_up_operators = tf.tile(self._operators, [circuit_size, 1])\n",
    "\n",
    "        # this is disabled to make autograph compilation easier.\n",
    "        # pylint: disable=no-else-return\n",
    "        if self._analytic:\n",
    "            result = self._executor(model_appended,\n",
    "                                   symbol_names=self._all_symbols,\n",
    "                                   symbol_values=tiled_up_parameters,\n",
    "                                   operators=tiled_up_operators)\n",
    "        else:\n",
    "            tiled_up_repetitions = tf.tile(self._repetitions,\n",
    "                                           [circuit_batch_dim, 1])\n",
    "            result =  self._executor(model_appended,\n",
    "                                    symbol_names=self._all_symbols,\n",
    "                                    symbol_values=tiled_up_parameters,\n",
    "                                    operators=tiled_up_operators,\n",
    "                                    repetitions=tiled_up_repetitions)\n",
    "        return tf.reshape(result, (batchsize, output_height, output_width))\n",
    "        # pylint: enable=no-else-return"
   ]
  },
  {
   "cell_type": "code",
   "execution_count": 118,
   "metadata": {},
   "outputs": [],
   "source": [
    "from quple.data_encoding import FirstOrderPauliZEncoding, SecondOrderPauliZEncoding\n",
    "from quple import ParameterisedCircuit"
   ]
  },
  {
   "cell_type": "code",
   "execution_count": 119,
   "metadata": {},
   "outputs": [],
   "source": [
    "import cirq"
   ]
  },
  {
   "cell_type": "code",
   "execution_count": 120,
   "metadata": {},
   "outputs": [
    {
     "data": {
      "text/html": [
       "<pre style=\"overflow: auto; white-space: pre;\">                                                                                                                 ┌──┐                                                                                                                                                                                                                                           ┌──────────────────────────────┐                                               ┌──┐                                                                                                                                                                                                   ┌──────────────────────────────┐                                               ┌──┐                                                                                                                                                           ┌──────────────────────────────┐                                               ┌──┐                                                                                                                   ┌──────────────────────────────┐                                               ┌──┐                                                                           ┌──────────────────────────────┐                                               ┌──┐                                   ┌──────────────────────────────┐                                                                                                                                                                                                       ┌──┐                                                                                                                                                                                                                                           ┌──────────────────────────────┐                                               ┌──┐                                                                                                                                                                                                   ┌──────────────────────────────┐                                               ┌──┐                                                                                                                                                           ┌──────────────────────────────┐                                               ┌──┐                                                                                                                   ┌──────────────────────────────┐                                               ┌──┐                                                                           ┌──────────────────────────────┐                                               ┌──┐                                   ┌──────────────────────────────┐\n",
       "(0, 0): ───H───Rz(pi*&lt;x_0/pi&gt;)───@───────────────────────────────────@───@───────────────────────────────────@────@─────────────────────────────────────@───@───────────────────────────────────@───@───────────────────────────────────@───@───────────────────────────────────@───@───────────────────────────────────@───@────────────────────────────────────@───────────────────────────────────────────────────────────────────────────────────────────────────────────────────────────────────────────────────────────────────────────────────────────────────────────────────────────────────────────────────────────────────────────────────────────────────────────────────────────────────────────────────────────────────────────────────────────────────────────────────────────────────────────────────────────────────────────────────────────────────────────────────────────────────────────────────────────────────────────────────────────────────────────────────────────────────────────────────────────────────────────────────────────────────────────────────────────────────────────────────────────────────────────────────────────────────────────────────────────────────────────────────────────────────────────────────────────────────────────────────────────────────────────────────────────────────────────────────────────────────────────────────────────────────────────────────────────────────────────────────────────────────────────────────────────────────────────────H───Rz(pi*&lt;x_0/pi&gt;)───@─────────────────────────────────────────────────@───@───────────────────────────────────@────@─────────────────────────────────────@───@───────────────────────────────────@───@───────────────────────────────────@───@───────────────────────────────────@───@───────────────────────────────────@───@────────────────────────────────────@───────────────────────────────────────────────────────────────────────────────────────────────────────────────────────────────────────────────────────────────────────────────────────────────────────────────────────────────────────────────────────────────────────────────────────────────────────────────────────────────────────────────────────────────────────────────────────────────────────────────────────────────────────────────────────────────────────────────────────────────────────────────────────────────────────────────────────────────────────────────────────────────────────────────────────────────────────────────────────────────────────────────────────────────────────────────────────────────────────────────────────────────────────────────────────────────────────────────────────────────────────────────────────────────────────────────────────────────────────────────────────────────────────────────────────────────────────────────────────────────────────────────────────────────────────────────────────────────────────────────────────────────────────────────────────────────────────────────────\n",
       "                                 │                                   │   │                                   │    │                                     │   │                                   │   │                                   │   │                                   │   │                                   │   │                                    │                                                                                                                                                                                                                                                                                                                                                                                                                                                                                                                                                                                                                                                                                                                                                                                                                                                                                                                                                                                                                                                                                                                                                                     │                                                 │   │                                   │    │                                     │   │                                   │   │                                   │   │                                   │   │                                   │   │                                    │\n",
       "(0, 1): ───H───Rz(pi*&lt;x_1/pi&gt;)───X───Rz(pi*&lt;cos(x_0)*cos(x_1)/pi&gt;)───X───┼───────────────────────────────────┼────┼@────────────────────────────────────┼───┼───────────────────────────────────┼───┼───────────────────────────────────┼───┼───────────────────────────────────┼───┼───────────────────────────────────┼───┼────────────────────────────────────┼─────────────────────────────────@───@───────────────────────────────────@────@─────────────────────────────────────@───@───────────────────────────────────@───@───────────────────────────────────@───@───────────────────────────────────@───@────────────────────────────────────@─────────────────────────────────────────────────────────────────────────────────────────────────────────────────────────────────────────────────────────────────────────────────────────────────────────────────────────────────────────────────────────────────────────────────────────────────────────────────────────────────────────────────────────────────────────────────────────────────────────────────────────────────────────────────────────────────────────────────────────────────────────────────────────────────────────────────────────────────────────────────────────────────────────────────────────────────────────────────────────────────────────────────────────────────────────────────────────────────────────────────────────────────────────────────────────────────────────────────────────────────────────────────────────H───Rz(pi*&lt;x_1/pi&gt;)───X─────────────────Rz(pi*&lt;cos(x_0)*cos(x_1)/pi&gt;)───X───┼───────────────────────────────────┼────┼@────────────────────────────────────┼───┼───────────────────────────────────┼───┼───────────────────────────────────┼───┼───────────────────────────────────┼───┼───────────────────────────────────┼───┼────────────────────────────────────┼─────────────────────────────────@───@───────────────────────────────────@────@─────────────────────────────────────@───@───────────────────────────────────@───@───────────────────────────────────@───@───────────────────────────────────@───@────────────────────────────────────@─────────────────────────────────────────────────────────────────────────────────────────────────────────────────────────────────────────────────────────────────────────────────────────────────────────────────────────────────────────────────────────────────────────────────────────────────────────────────────────────────────────────────────────────────────────────────────────────────────────────────────────────────────────────────────────────────────────────────────────────────────────────────────────────────────────────────────────────────────────────────────────────────────────────────────────────────────────────────────────────────────────────────────────────────────────────────────────────────────────────────────────────────────────────────────────────────────────────────────────────────────────────────────────────\n",
       "                                                                         │                                   │    ││                                    │   │                                   │   │                                   │   │                                   │   │                                   │   │                                    │                                 │   │                                   │    │                                     │   │                                   │   │                                   │   │                                   │   │                                    │                                                                                                                                                                                                                                                                                                                                                                                                                                                                                                                                                                                                                                                                                                                                                                                                                                                                                                                                     │                                   │    ││                                    │   │                                   │   │                                   │   │                                   │   │                                   │   │                                    │                                 │   │                                   │    │                                     │   │                                   │   │                                   │   │                                   │   │                                    │\n",
       "(0, 2): ───H───Rz(pi*&lt;x_2/pi&gt;)───────────────────────────────────────────X───Rz(pi*&lt;cos(x_0)*cos(x_2)/pi&gt;)───X────┼X────────────────────────────────────┼───┼───────────────────────────────────┼───┼───────────────────────────────────┼───┼───────────────────────────────────┼───┼───────────────────────────────────┼───┼────────────────────────────────────┼Rz(pi*&lt;cos(x_1)*cos(x_2)/pi&gt;)────X───┼───────────────────────────────────┼────┼@────────────────────────────────────┼───┼───────────────────────────────────┼───┼───────────────────────────────────┼───┼───────────────────────────────────┼───┼────────────────────────────────────┼─────────────────────────────────@───@───────────────────────────────────@────@─────────────────────────────────────@───@───────────────────────────────────@───@───────────────────────────────────@───@────────────────────────────────────@───────────────────────────────────────────────────────────────────────────────────────────────────────────────────────────────────────────────────────────────────────────────────────────────────────────────────────────────────────────────────────────────────────────────────────────────────────────────────────────────────────────────────────────────────────────────────────────────────────────────────────────────────────────────────────────────────────────────────────────────────────────────────────────────────────────────────────────────────────────────────────────────────────────H───Rz(pi*&lt;x_2/pi&gt;)─────────────────────────────────────────────────────────X───Rz(pi*&lt;cos(x_0)*cos(x_2)/pi&gt;)───X────┼X────────────────────────────────────┼───┼───────────────────────────────────┼───┼───────────────────────────────────┼───┼───────────────────────────────────┼───┼───────────────────────────────────┼───┼────────────────────────────────────┼Rz(pi*&lt;cos(x_1)*cos(x_2)/pi&gt;)────X───┼───────────────────────────────────┼────┼@────────────────────────────────────┼───┼───────────────────────────────────┼───┼───────────────────────────────────┼───┼───────────────────────────────────┼───┼────────────────────────────────────┼─────────────────────────────────@───@───────────────────────────────────@────@─────────────────────────────────────@───@───────────────────────────────────@───@───────────────────────────────────@───@────────────────────────────────────@───────────────────────────────────────────────────────────────────────────────────────────────────────────────────────────────────────────────────────────────────────────────────────────────────────────────────────────────────────────────────────────────────────────────────────────────────────────────────────────────────────────────────────────────────────────────────────────────────────────────────────────────────────────────────────────────────────────────────────────────────────────────────────────────────────────────────────────────────────────────────────────────────────────────\n",
       "                                                                                                                  │                                     │   │                                   │   │                                   │   │                                   │   │                                   │   │                                    │                                     │                                   │    ││                                    │   │                                   │   │                                   │   │                                   │   │                                    │                                 │   │                                   │    │                                     │   │                                   │   │                                   │   │                                    │                                                                                                                                                                                                                                                                                                                                                                                                                                                                                                                                                                                                                                                                                                                                │                                     │   │                                   │   │                                   │   │                                   │   │                                   │   │                                    │                                     │                                   │    ││                                    │   │                                   │   │                                   │   │                                   │   │                                    │                                 │   │                                   │    │                                     │   │                                   │   │                                   │   │                                    │\n",
       "(0, 3): ───H───Rz(pi*&lt;x_3/pi&gt;)────────────────────────────────────────────────────────────────────────────────────X─────Rz(pi*&lt;cos(x_0)*cos(x_3)/pi&gt;)───X───┼───────────────────────────────────┼───┼───────────────────────────────────┼───┼───────────────────────────────────┼───┼───────────────────────────────────┼───┼────────────────────────────────────┼─────────────────────────────────────X───Rz(pi*&lt;cos(x_1)*cos(x_3)/pi&gt;)───X────┼X────────────────────────────────────┼───┼───────────────────────────────────┼───┼───────────────────────────────────┼───┼───────────────────────────────────┼───┼────────────────────────────────────┼Rz(pi*&lt;cos(x_2)*cos(x_3)/pi&gt;)────X───┼───────────────────────────────────┼────┼@────────────────────────────────────┼───┼───────────────────────────────────┼───┼───────────────────────────────────┼───┼────────────────────────────────────┼─────────────────────────────────@───@───────────────────────────────────@────@─────────────────────────────────────@───@───────────────────────────────────@───@────────────────────────────────────@─────────────────────────────────────────────────────────────────────────────────────────────────────────────────────────────────────────────────────────────────────────────────────────────────────────────────────────────────────────────────────────────────────────────────────────────────────────────────────────────────────────────────────────────────────────────────────────────────────H───Rz(pi*&lt;x_3/pi&gt;)──────────────────────────────────────────────────────────────────────────────────────────────────X─────Rz(pi*&lt;cos(x_0)*cos(x_3)/pi&gt;)───X───┼───────────────────────────────────┼───┼───────────────────────────────────┼───┼───────────────────────────────────┼───┼───────────────────────────────────┼───┼────────────────────────────────────┼─────────────────────────────────────X───Rz(pi*&lt;cos(x_1)*cos(x_3)/pi&gt;)───X────┼X────────────────────────────────────┼───┼───────────────────────────────────┼───┼───────────────────────────────────┼───┼───────────────────────────────────┼───┼────────────────────────────────────┼Rz(pi*&lt;cos(x_2)*cos(x_3)/pi&gt;)────X───┼───────────────────────────────────┼────┼@────────────────────────────────────┼───┼───────────────────────────────────┼───┼───────────────────────────────────┼───┼────────────────────────────────────┼─────────────────────────────────@───@───────────────────────────────────@────@─────────────────────────────────────@───@───────────────────────────────────@───@────────────────────────────────────@─────────────────────────────────────────────────────────────────────────────────────────────────────────────────────────────────────────────────────────────────────────────────────────────────────────────────────────────────────────────────────────────────────────────────────────────────────────────────────────────────────────────────────────────────────────────────────────────────────────\n",
       "                                                                                                                                                            │                                   │   │                                   │   │                                   │   │                                   │   │                                    │                                                                              │                                     │   │                                   │   │                                   │   │                                   │   │                                    │                                     │                                   │    ││                                    │   │                                   │   │                                   │   │                                    │                                 │   │                                   │    │                                     │   │                                   │   │                                    │                                                                                                                                                                                                                                                                                                                                                                                                                                                                                                                                                                    │                                   │   │                                   │   │                                   │   │                                   │   │                                    │                                                                              │                                     │   │                                   │   │                                   │   │                                   │   │                                    │                                     │                                   │    ││                                    │   │                                   │   │                                   │   │                                    │                                 │   │                                   │    │                                     │   │                                   │   │                                    │\n",
       "(0, 4): ───H───Rz(pi*&lt;x_4/pi&gt;)──────────────────────────────────────────────────────────────────────────────────────────────────────────────────────────────X───Rz(pi*&lt;cos(x_0)*cos(x_4)/pi&gt;)───X───┼───────────────────────────────────┼───┼───────────────────────────────────┼───┼───────────────────────────────────┼───┼────────────────────────────────────┼──────────────────────────────────────────────────────────────────────────────X─────Rz(pi*&lt;cos(x_1)*cos(x_4)/pi&gt;)───X───┼───────────────────────────────────┼───┼───────────────────────────────────┼───┼───────────────────────────────────┼───┼────────────────────────────────────┼─────────────────────────────────────X───Rz(pi*&lt;cos(x_2)*cos(x_4)/pi&gt;)───X────┼X────────────────────────────────────┼───┼───────────────────────────────────┼───┼───────────────────────────────────┼───┼────────────────────────────────────┼Rz(pi*&lt;cos(x_3)*cos(x_4)/pi&gt;)────X───┼───────────────────────────────────┼────┼@────────────────────────────────────┼───┼───────────────────────────────────┼───┼────────────────────────────────────┼─────────────────────────────────@───@───────────────────────────────────@────@─────────────────────────────────────@───@────────────────────────────────────@───────────────────────────────────────────────────────────────────────────────────────────────────────────────────────────────────────────────────────────────────────────────────────────────────────────────────────────────────────H───Rz(pi*&lt;x_4/pi&gt;)────────────────────────────────────────────────────────────────────────────────────────────────────────────────────────────────────────────X───Rz(pi*&lt;cos(x_0)*cos(x_4)/pi&gt;)───X───┼───────────────────────────────────┼───┼───────────────────────────────────┼───┼───────────────────────────────────┼───┼────────────────────────────────────┼──────────────────────────────────────────────────────────────────────────────X─────Rz(pi*&lt;cos(x_1)*cos(x_4)/pi&gt;)───X───┼───────────────────────────────────┼───┼───────────────────────────────────┼───┼───────────────────────────────────┼───┼────────────────────────────────────┼─────────────────────────────────────X───Rz(pi*&lt;cos(x_2)*cos(x_4)/pi&gt;)───X────┼X────────────────────────────────────┼───┼───────────────────────────────────┼───┼───────────────────────────────────┼───┼────────────────────────────────────┼Rz(pi*&lt;cos(x_3)*cos(x_4)/pi&gt;)────X───┼───────────────────────────────────┼────┼@────────────────────────────────────┼───┼───────────────────────────────────┼───┼────────────────────────────────────┼─────────────────────────────────@───@───────────────────────────────────@────@─────────────────────────────────────@───@────────────────────────────────────@───────────────────────────────────────────────────────────────────────────────────────────────────────────────────────────────────────────────────────────────────────────────────────────────────────────────────────────────────────────\n",
       "                                                                                                                                                                                                    │                                   │   │                                   │   │                                   │   │                                    │                                                                                                                        │                                   │   │                                   │   │                                   │   │                                    │                                                                              │                                     │   │                                   │   │                                   │   │                                    │                                     │                                   │    ││                                    │   │                                   │   │                                    │                                 │   │                                   │    │                                     │   │                                    │                                                                                                                                                                                                                                                                                                                                                                                                                                              │                                   │   │                                   │   │                                   │   │                                    │                                                                                                                        │                                   │   │                                   │   │                                   │   │                                    │                                                                              │                                     │   │                                   │   │                                   │   │                                    │                                     │                                   │    ││                                    │   │                                   │   │                                    │                                 │   │                                   │    │                                     │   │                                    │\n",
       "(0, 5): ───H───Rz(pi*&lt;x_5/pi&gt;)──────────────────────────────────────────────────────────────────────────────────────────────────────────────────────────────────────────────────────────────────────X───Rz(pi*&lt;cos(x_0)*cos(x_5)/pi&gt;)───X───┼───────────────────────────────────┼───┼───────────────────────────────────┼───┼────────────────────────────────────┼────────────────────────────────────────────────────────────────────────────────────────────────────────────────────────X───Rz(pi*&lt;cos(x_1)*cos(x_5)/pi&gt;)───X───┼───────────────────────────────────┼───┼───────────────────────────────────┼───┼────────────────────────────────────┼──────────────────────────────────────────────────────────────────────────────X─────Rz(pi*&lt;cos(x_2)*cos(x_5)/pi&gt;)───X───┼───────────────────────────────────┼───┼───────────────────────────────────┼───┼────────────────────────────────────┼─────────────────────────────────────X───Rz(pi*&lt;cos(x_3)*cos(x_5)/pi&gt;)───X────┼X────────────────────────────────────┼───┼───────────────────────────────────┼───┼────────────────────────────────────┼Rz(pi*&lt;cos(x_4)*cos(x_5)/pi&gt;)────X───┼───────────────────────────────────┼────┼@────────────────────────────────────┼───┼────────────────────────────────────┼─────────────────────────────────@───@───────────────────────────────────@────@──────────────────────────────────────@─────────────────────────────────────────────────────────────────────────────────────────────────────────────────H───Rz(pi*&lt;x_5/pi&gt;)────────────────────────────────────────────────────────────────────────────────────────────────────────────────────────────────────────────────────────────────────────────────────X───Rz(pi*&lt;cos(x_0)*cos(x_5)/pi&gt;)───X───┼───────────────────────────────────┼───┼───────────────────────────────────┼───┼────────────────────────────────────┼────────────────────────────────────────────────────────────────────────────────────────────────────────────────────────X───Rz(pi*&lt;cos(x_1)*cos(x_5)/pi&gt;)───X───┼───────────────────────────────────┼───┼───────────────────────────────────┼───┼────────────────────────────────────┼──────────────────────────────────────────────────────────────────────────────X─────Rz(pi*&lt;cos(x_2)*cos(x_5)/pi&gt;)───X───┼───────────────────────────────────┼───┼───────────────────────────────────┼───┼────────────────────────────────────┼─────────────────────────────────────X───Rz(pi*&lt;cos(x_3)*cos(x_5)/pi&gt;)───X────┼X────────────────────────────────────┼───┼───────────────────────────────────┼───┼────────────────────────────────────┼Rz(pi*&lt;cos(x_4)*cos(x_5)/pi&gt;)────X───┼───────────────────────────────────┼────┼@────────────────────────────────────┼───┼────────────────────────────────────┼─────────────────────────────────@───@───────────────────────────────────@────@──────────────────────────────────────@─────────────────────────────────────────────────────────────────────────────────────────────────────────────────────\n",
       "                                                                                                                                                                                                                                            │                                   │   │                                   │   │                                    │                                                                                                                                                                │                                   │   │                                   │   │                                    │                                                                                                                        │                                   │   │                                   │   │                                    │                                                                              │                                     │   │                                   │   │                                    │                                     │                                   │    ││                                    │   │                                    │                                 │   │                                   │    │                                      │                                                                                                                                                                                                                                                                                                                                                                │                                   │   │                                   │   │                                    │                                                                                                                                                                │                                   │   │                                   │   │                                    │                                                                                                                        │                                   │   │                                   │   │                                    │                                                                              │                                     │   │                                   │   │                                    │                                     │                                   │    ││                                    │   │                                    │                                 │   │                                   │    │                                      │\n",
       "(0, 6): ───H───Rz(pi*&lt;x_6/pi&gt;)──────────────────────────────────────────────────────────────────────────────────────────────────────────────────────────────────────────────────────────────────────────────────────────────────────────────X───Rz(pi*&lt;cos(x_0)*cos(x_6)/pi&gt;)───X───┼───────────────────────────────────┼───┼────────────────────────────────────┼────────────────────────────────────────────────────────────────────────────────────────────────────────────────────────────────────────────────────────────────X───Rz(pi*&lt;cos(x_1)*cos(x_6)/pi&gt;)───X───┼───────────────────────────────────┼───┼────────────────────────────────────┼────────────────────────────────────────────────────────────────────────────────────────────────────────────────────────X───Rz(pi*&lt;cos(x_2)*cos(x_6)/pi&gt;)───X───┼───────────────────────────────────┼───┼────────────────────────────────────┼──────────────────────────────────────────────────────────────────────────────X─────Rz(pi*&lt;cos(x_3)*cos(x_6)/pi&gt;)───X───┼───────────────────────────────────┼───┼────────────────────────────────────┼─────────────────────────────────────X───Rz(pi*&lt;cos(x_4)*cos(x_6)/pi&gt;)───X────┼X────────────────────────────────────┼───┼────────────────────────────────────┼Rz(pi*&lt;cos(x_5)*cos(x_6)/pi&gt;)────X───┼───────────────────────────────────┼────┼@─────────────────────────────────────┼─────────────────────────────────@───@───────────────────────────────────@───────────────────────────────────────H───Rz(pi*&lt;x_6/pi&gt;)────────────────────────────────────────────────────────────────────────────────────────────────────────────────────────────────────────────────────────────────────────────────────────────────────────────────────────────X───Rz(pi*&lt;cos(x_0)*cos(x_6)/pi&gt;)───X───┼───────────────────────────────────┼───┼────────────────────────────────────┼────────────────────────────────────────────────────────────────────────────────────────────────────────────────────────────────────────────────────────────────X───Rz(pi*&lt;cos(x_1)*cos(x_6)/pi&gt;)───X───┼───────────────────────────────────┼───┼────────────────────────────────────┼────────────────────────────────────────────────────────────────────────────────────────────────────────────────────────X───Rz(pi*&lt;cos(x_2)*cos(x_6)/pi&gt;)───X───┼───────────────────────────────────┼───┼────────────────────────────────────┼──────────────────────────────────────────────────────────────────────────────X─────Rz(pi*&lt;cos(x_3)*cos(x_6)/pi&gt;)───X───┼───────────────────────────────────┼───┼────────────────────────────────────┼─────────────────────────────────────X───Rz(pi*&lt;cos(x_4)*cos(x_6)/pi&gt;)───X────┼X────────────────────────────────────┼───┼────────────────────────────────────┼Rz(pi*&lt;cos(x_5)*cos(x_6)/pi&gt;)────X───┼───────────────────────────────────┼────┼@─────────────────────────────────────┼─────────────────────────────────@───@───────────────────────────────────@───────────────────────────────────────────\n",
       "                                                                                                                                                                                                                                                                                    │                                   │   │                                    │                                                                                                                                                                                                        │                                   │   │                                    │                                                                                                                                                                │                                   │   │                                    │                                                                                                                        │                                   │   │                                    │                                                                              │                                     │   │                                    │                                     │                                   │    ││                                     │                                 │   │                                   │                                                                                                                                                                                                                                                                                                                              │                                   │   │                                    │                                                                                                                                                                                                        │                                   │   │                                    │                                                                                                                                                                │                                   │   │                                    │                                                                                                                        │                                   │   │                                    │                                                                              │                                     │   │                                    │                                     │                                   │    ││                                     │                                 │   │                                   │\n",
       "(0, 7): ───H───Rz(pi*&lt;x_7/pi&gt;)──────────────────────────────────────────────────────────────────────────────────────────────────────────────────────────────────────────────────────────────────────────────────────────────────────────────────────────────────────────────────────X───Rz(pi*&lt;cos(x_0)*cos(x_7)/pi&gt;)───X───┼────────────────────────────────────┼────────────────────────────────────────────────────────────────────────────────────────────────────────────────────────────────────────────────────────────────────────────────────────────────────────X───Rz(pi*&lt;cos(x_1)*cos(x_7)/pi&gt;)───X───┼────────────────────────────────────┼────────────────────────────────────────────────────────────────────────────────────────────────────────────────────────────────────────────────────────────────X───Rz(pi*&lt;cos(x_2)*cos(x_7)/pi&gt;)───X───┼────────────────────────────────────┼────────────────────────────────────────────────────────────────────────────────────────────────────────────────────────X───Rz(pi*&lt;cos(x_3)*cos(x_7)/pi&gt;)───X───┼────────────────────────────────────┼──────────────────────────────────────────────────────────────────────────────X─────Rz(pi*&lt;cos(x_4)*cos(x_7)/pi&gt;)───X───┼────────────────────────────────────┼─────────────────────────────────────X───Rz(pi*&lt;cos(x_5)*cos(x_7)/pi&gt;)───X────┼X─────────────────────────────────────┼Rz(pi*&lt;cos(x_6)*cos(x_7)/pi&gt;)────X───┼───────────────────────────────────┼───@───────────────────────────────────@───H─────────────────Rz(pi*&lt;x_7/pi&gt;)──────────────────────────────────────────────────────────────────────────────────────────────────────────────────────────────────────────────────────────────────────────────────────────────────────────────────────────────────────────────────X───Rz(pi*&lt;cos(x_0)*cos(x_7)/pi&gt;)───X───┼────────────────────────────────────┼────────────────────────────────────────────────────────────────────────────────────────────────────────────────────────────────────────────────────────────────────────────────────────────────────────X───Rz(pi*&lt;cos(x_1)*cos(x_7)/pi&gt;)───X───┼────────────────────────────────────┼────────────────────────────────────────────────────────────────────────────────────────────────────────────────────────────────────────────────────────────────X───Rz(pi*&lt;cos(x_2)*cos(x_7)/pi&gt;)───X───┼────────────────────────────────────┼────────────────────────────────────────────────────────────────────────────────────────────────────────────────────────X───Rz(pi*&lt;cos(x_3)*cos(x_7)/pi&gt;)───X───┼────────────────────────────────────┼──────────────────────────────────────────────────────────────────────────────X─────Rz(pi*&lt;cos(x_4)*cos(x_7)/pi&gt;)───X───┼────────────────────────────────────┼─────────────────────────────────────X───Rz(pi*&lt;cos(x_5)*cos(x_7)/pi&gt;)───X────┼X─────────────────────────────────────┼Rz(pi*&lt;cos(x_6)*cos(x_7)/pi&gt;)────X───┼───────────────────────────────────┼───@───────────────────────────────────@───\n",
       "                                                                                                                                                                                                                                                                                                                            │                                    │                                                                                                                                                                                                                                                │                                    │                                                                                                                                                                                                        │                                    │                                                                                                                                                                │                                    │                                                                                                                        │                                    │                                                                              │                                      │                                     │                                   │   │                                   │                                                                                                                                                                                                                                                                                                                              │                                    │                                                                                                                                                                                                                                                │                                    │                                                                                                                                                                                                        │                                    │                                                                                                                                                                │                                    │                                                                                                                        │                                    │                                                                              │                                      │                                     │                                   │   │                                   │\n",
       "(0, 8): ───H───Rz(pi*&lt;x_8/pi&gt;)──────────────────────────────────────────────────────────────────────────────────────────────────────────────────────────────────────────────────────────────────────────────────────────────────────────────────────────────────────────────────────────────────────────────────────────────X───Rz(pi*&lt;cos(x_0)*cos(x_8)/pi&gt;)────X────────────────────────────────────────────────────────────────────────────────────────────────────────────────────────────────────────────────────────────────────────────────────────────────────────────────────────────────────────────────X───Rz(pi*&lt;cos(x_1)*cos(x_8)/pi&gt;)────X────────────────────────────────────────────────────────────────────────────────────────────────────────────────────────────────────────────────────────────────────────────────────────────────────────X───Rz(pi*&lt;cos(x_2)*cos(x_8)/pi&gt;)────X────────────────────────────────────────────────────────────────────────────────────────────────────────────────────────────────────────────────────────────────X───Rz(pi*&lt;cos(x_3)*cos(x_8)/pi&gt;)────X────────────────────────────────────────────────────────────────────────────────────────────────────────────────────────X───Rz(pi*&lt;cos(x_4)*cos(x_8)/pi&gt;)────X──────────────────────────────────────────────────────────────────────────────X─────Rz(pi*&lt;cos(x_5)*cos(x_8)/pi&gt;)────X─────────────────────────────────────X───Rz(pi*&lt;cos(x_6)*cos(x_8)/pi&gt;)───X───X───Rz(pi*&lt;cos(x_7)*cos(x_8)/pi&gt;)───X───H─────────────────Rz(pi*&lt;x_8/pi&gt;)──────────────────────────────────────────────────────────────────────────────────────────────────────────────────────────────────────────────────────────────────────────────────────────────────────────────────────────────────────────────────────────────────────────────────────────X───Rz(pi*&lt;cos(x_0)*cos(x_8)/pi&gt;)────X────────────────────────────────────────────────────────────────────────────────────────────────────────────────────────────────────────────────────────────────────────────────────────────────────────────────────────────────────────────────X───Rz(pi*&lt;cos(x_1)*cos(x_8)/pi&gt;)────X────────────────────────────────────────────────────────────────────────────────────────────────────────────────────────────────────────────────────────────────────────────────────────────────────────X───Rz(pi*&lt;cos(x_2)*cos(x_8)/pi&gt;)────X────────────────────────────────────────────────────────────────────────────────────────────────────────────────────────────────────────────────────────────────X───Rz(pi*&lt;cos(x_3)*cos(x_8)/pi&gt;)────X────────────────────────────────────────────────────────────────────────────────────────────────────────────────────────X───Rz(pi*&lt;cos(x_4)*cos(x_8)/pi&gt;)────X──────────────────────────────────────────────────────────────────────────────X─────Rz(pi*&lt;cos(x_5)*cos(x_8)/pi&gt;)────X─────────────────────────────────────X───Rz(pi*&lt;cos(x_6)*cos(x_8)/pi&gt;)───X───X───Rz(pi*&lt;cos(x_7)*cos(x_8)/pi&gt;)───X───\n",
       "                                                                                                                 └──┘                                                                                                                                                                                                                                           └──────────────────────────────┘                                               └──┘                                                                                                                                                                                                   └──────────────────────────────┘                                               └──┘                                                                                                                                                           └──────────────────────────────┘                                               └──┘                                                                                                                   └──────────────────────────────┘                                               └──┘                                                                           └──────────────────────────────┘                                               └──┘                                   └──────────────────────────────┘                                                                                                                                                                                                       └──┘                                                                                                                                                                                                                                           └──────────────────────────────┘                                               └──┘                                                                                                                                                                                                   └──────────────────────────────┘                                               └──┘                                                                                                                                                           └──────────────────────────────┘                                               └──┘                                                                                                                   └──────────────────────────────┘                                               └──┘                                                                           └──────────────────────────────┘                                               └──┘                                   └──────────────────────────────┘</pre>"
      ],
      "text/plain": [
       "                                                                                                                 ┌──┐                                                                                                                                                                                                                                           ┌──────────────────────────────┐                                               ┌──┐                                                                                                                                                                                                   ┌──────────────────────────────┐                                               ┌──┐                                                                                                                                                           ┌──────────────────────────────┐                                               ┌──┐                                                                                                                   ┌──────────────────────────────┐                                               ┌──┐                                                                           ┌──────────────────────────────┐                                               ┌──┐                                   ┌──────────────────────────────┐                                                                                                                                                                                                       ┌──┐                                                                                                                                                                                                                                           ┌──────────────────────────────┐                                               ┌──┐                                                                                                                                                                                                   ┌──────────────────────────────┐                                               ┌──┐                                                                                                                                                           ┌──────────────────────────────┐                                               ┌──┐                                                                                                                   ┌──────────────────────────────┐                                               ┌──┐                                                                           ┌──────────────────────────────┐                                               ┌──┐                                   ┌──────────────────────────────┐\n",
       "(0, 0): ───H───Rz(pi*<x_0/pi>)───@───────────────────────────────────@───@───────────────────────────────────@────@─────────────────────────────────────@───@───────────────────────────────────@───@───────────────────────────────────@───@───────────────────────────────────@───@───────────────────────────────────@───@────────────────────────────────────@───────────────────────────────────────────────────────────────────────────────────────────────────────────────────────────────────────────────────────────────────────────────────────────────────────────────────────────────────────────────────────────────────────────────────────────────────────────────────────────────────────────────────────────────────────────────────────────────────────────────────────────────────────────────────────────────────────────────────────────────────────────────────────────────────────────────────────────────────────────────────────────────────────────────────────────────────────────────────────────────────────────────────────────────────────────────────────────────────────────────────────────────────────────────────────────────────────────────────────────────────────────────────────────────────────────────────────────────────────────────────────────────────────────────────────────────────────────────────────────────────────────────────────────────────────────────────────────────────────────────────────────────────────────────────────────────────────────────H───Rz(pi*<x_0/pi>)───@─────────────────────────────────────────────────@───@───────────────────────────────────@────@─────────────────────────────────────@───@───────────────────────────────────@───@───────────────────────────────────@───@───────────────────────────────────@───@───────────────────────────────────@───@────────────────────────────────────@───────────────────────────────────────────────────────────────────────────────────────────────────────────────────────────────────────────────────────────────────────────────────────────────────────────────────────────────────────────────────────────────────────────────────────────────────────────────────────────────────────────────────────────────────────────────────────────────────────────────────────────────────────────────────────────────────────────────────────────────────────────────────────────────────────────────────────────────────────────────────────────────────────────────────────────────────────────────────────────────────────────────────────────────────────────────────────────────────────────────────────────────────────────────────────────────────────────────────────────────────────────────────────────────────────────────────────────────────────────────────────────────────────────────────────────────────────────────────────────────────────────────────────────────────────────────────────────────────────────────────────────────────────────────────────────────────────────────────\n",
       "                                 │                                   │   │                                   │    │                                     │   │                                   │   │                                   │   │                                   │   │                                   │   │                                    │                                                                                                                                                                                                                                                                                                                                                                                                                                                                                                                                                                                                                                                                                                                                                                                                                                                                                                                                                                                                                                                                                                                                                                     │                                                 │   │                                   │    │                                     │   │                                   │   │                                   │   │                                   │   │                                   │   │                                    │\n",
       "(0, 1): ───H───Rz(pi*<x_1/pi>)───X───Rz(pi*<cos(x_0)*cos(x_1)/pi>)───X───┼───────────────────────────────────┼────┼@────────────────────────────────────┼───┼───────────────────────────────────┼───┼───────────────────────────────────┼───┼───────────────────────────────────┼───┼───────────────────────────────────┼───┼────────────────────────────────────┼─────────────────────────────────@───@───────────────────────────────────@────@─────────────────────────────────────@───@───────────────────────────────────@───@───────────────────────────────────@───@───────────────────────────────────@───@────────────────────────────────────@─────────────────────────────────────────────────────────────────────────────────────────────────────────────────────────────────────────────────────────────────────────────────────────────────────────────────────────────────────────────────────────────────────────────────────────────────────────────────────────────────────────────────────────────────────────────────────────────────────────────────────────────────────────────────────────────────────────────────────────────────────────────────────────────────────────────────────────────────────────────────────────────────────────────────────────────────────────────────────────────────────────────────────────────────────────────────────────────────────────────────────────────────────────────────────────────────────────────────────────────────────────────────────────H───Rz(pi*<x_1/pi>)───X─────────────────Rz(pi*<cos(x_0)*cos(x_1)/pi>)───X───┼───────────────────────────────────┼────┼@────────────────────────────────────┼───┼───────────────────────────────────┼───┼───────────────────────────────────┼───┼───────────────────────────────────┼───┼───────────────────────────────────┼───┼────────────────────────────────────┼─────────────────────────────────@───@───────────────────────────────────@────@─────────────────────────────────────@───@───────────────────────────────────@───@───────────────────────────────────@───@───────────────────────────────────@───@────────────────────────────────────@─────────────────────────────────────────────────────────────────────────────────────────────────────────────────────────────────────────────────────────────────────────────────────────────────────────────────────────────────────────────────────────────────────────────────────────────────────────────────────────────────────────────────────────────────────────────────────────────────────────────────────────────────────────────────────────────────────────────────────────────────────────────────────────────────────────────────────────────────────────────────────────────────────────────────────────────────────────────────────────────────────────────────────────────────────────────────────────────────────────────────────────────────────────────────────────────────────────────────────────────────────────────────────────────\n",
       "                                                                         │                                   │    ││                                    │   │                                   │   │                                   │   │                                   │   │                                   │   │                                    │                                 │   │                                   │    │                                     │   │                                   │   │                                   │   │                                   │   │                                    │                                                                                                                                                                                                                                                                                                                                                                                                                                                                                                                                                                                                                                                                                                                                                                                                                                                                                                                                     │                                   │    ││                                    │   │                                   │   │                                   │   │                                   │   │                                   │   │                                    │                                 │   │                                   │    │                                     │   │                                   │   │                                   │   │                                   │   │                                    │\n",
       "(0, 2): ───H───Rz(pi*<x_2/pi>)───────────────────────────────────────────X───Rz(pi*<cos(x_0)*cos(x_2)/pi>)───X────┼X────────────────────────────────────┼───┼───────────────────────────────────┼───┼───────────────────────────────────┼───┼───────────────────────────────────┼───┼───────────────────────────────────┼───┼────────────────────────────────────┼Rz(pi*<cos(x_1)*cos(x_2)/pi>)────X───┼───────────────────────────────────┼────┼@────────────────────────────────────┼───┼───────────────────────────────────┼───┼───────────────────────────────────┼───┼───────────────────────────────────┼───┼────────────────────────────────────┼─────────────────────────────────@───@───────────────────────────────────@────@─────────────────────────────────────@───@───────────────────────────────────@───@───────────────────────────────────@───@────────────────────────────────────@───────────────────────────────────────────────────────────────────────────────────────────────────────────────────────────────────────────────────────────────────────────────────────────────────────────────────────────────────────────────────────────────────────────────────────────────────────────────────────────────────────────────────────────────────────────────────────────────────────────────────────────────────────────────────────────────────────────────────────────────────────────────────────────────────────────────────────────────────────────────────────────────────────────H───Rz(pi*<x_2/pi>)─────────────────────────────────────────────────────────X───Rz(pi*<cos(x_0)*cos(x_2)/pi>)───X────┼X────────────────────────────────────┼───┼───────────────────────────────────┼───┼───────────────────────────────────┼───┼───────────────────────────────────┼───┼───────────────────────────────────┼───┼────────────────────────────────────┼Rz(pi*<cos(x_1)*cos(x_2)/pi>)────X───┼───────────────────────────────────┼────┼@────────────────────────────────────┼───┼───────────────────────────────────┼───┼───────────────────────────────────┼───┼───────────────────────────────────┼───┼────────────────────────────────────┼─────────────────────────────────@───@───────────────────────────────────@────@─────────────────────────────────────@───@───────────────────────────────────@───@───────────────────────────────────@───@────────────────────────────────────@───────────────────────────────────────────────────────────────────────────────────────────────────────────────────────────────────────────────────────────────────────────────────────────────────────────────────────────────────────────────────────────────────────────────────────────────────────────────────────────────────────────────────────────────────────────────────────────────────────────────────────────────────────────────────────────────────────────────────────────────────────────────────────────────────────────────────────────────────────────────────────────────────────────────\n",
       "                                                                                                                  │                                     │   │                                   │   │                                   │   │                                   │   │                                   │   │                                    │                                     │                                   │    ││                                    │   │                                   │   │                                   │   │                                   │   │                                    │                                 │   │                                   │    │                                     │   │                                   │   │                                   │   │                                    │                                                                                                                                                                                                                                                                                                                                                                                                                                                                                                                                                                                                                                                                                                                                │                                     │   │                                   │   │                                   │   │                                   │   │                                   │   │                                    │                                     │                                   │    ││                                    │   │                                   │   │                                   │   │                                   │   │                                    │                                 │   │                                   │    │                                     │   │                                   │   │                                   │   │                                    │\n",
       "(0, 3): ───H───Rz(pi*<x_3/pi>)────────────────────────────────────────────────────────────────────────────────────X─────Rz(pi*<cos(x_0)*cos(x_3)/pi>)───X───┼───────────────────────────────────┼───┼───────────────────────────────────┼───┼───────────────────────────────────┼───┼───────────────────────────────────┼───┼────────────────────────────────────┼─────────────────────────────────────X───Rz(pi*<cos(x_1)*cos(x_3)/pi>)───X────┼X────────────────────────────────────┼───┼───────────────────────────────────┼───┼───────────────────────────────────┼───┼───────────────────────────────────┼───┼────────────────────────────────────┼Rz(pi*<cos(x_2)*cos(x_3)/pi>)────X───┼───────────────────────────────────┼────┼@────────────────────────────────────┼───┼───────────────────────────────────┼───┼───────────────────────────────────┼───┼────────────────────────────────────┼─────────────────────────────────@───@───────────────────────────────────@────@─────────────────────────────────────@───@───────────────────────────────────@───@────────────────────────────────────@─────────────────────────────────────────────────────────────────────────────────────────────────────────────────────────────────────────────────────────────────────────────────────────────────────────────────────────────────────────────────────────────────────────────────────────────────────────────────────────────────────────────────────────────────────────────────────────────────────H───Rz(pi*<x_3/pi>)──────────────────────────────────────────────────────────────────────────────────────────────────X─────Rz(pi*<cos(x_0)*cos(x_3)/pi>)───X───┼───────────────────────────────────┼───┼───────────────────────────────────┼───┼───────────────────────────────────┼───┼───────────────────────────────────┼───┼────────────────────────────────────┼─────────────────────────────────────X───Rz(pi*<cos(x_1)*cos(x_3)/pi>)───X────┼X────────────────────────────────────┼───┼───────────────────────────────────┼───┼───────────────────────────────────┼───┼───────────────────────────────────┼───┼────────────────────────────────────┼Rz(pi*<cos(x_2)*cos(x_3)/pi>)────X───┼───────────────────────────────────┼────┼@────────────────────────────────────┼───┼───────────────────────────────────┼───┼───────────────────────────────────┼───┼────────────────────────────────────┼─────────────────────────────────@───@───────────────────────────────────@────@─────────────────────────────────────@───@───────────────────────────────────@───@────────────────────────────────────@─────────────────────────────────────────────────────────────────────────────────────────────────────────────────────────────────────────────────────────────────────────────────────────────────────────────────────────────────────────────────────────────────────────────────────────────────────────────────────────────────────────────────────────────────────────────────────────────────────────\n",
       "                                                                                                                                                            │                                   │   │                                   │   │                                   │   │                                   │   │                                    │                                                                              │                                     │   │                                   │   │                                   │   │                                   │   │                                    │                                     │                                   │    ││                                    │   │                                   │   │                                   │   │                                    │                                 │   │                                   │    │                                     │   │                                   │   │                                    │                                                                                                                                                                                                                                                                                                                                                                                                                                                                                                                                                                    │                                   │   │                                   │   │                                   │   │                                   │   │                                    │                                                                              │                                     │   │                                   │   │                                   │   │                                   │   │                                    │                                     │                                   │    ││                                    │   │                                   │   │                                   │   │                                    │                                 │   │                                   │    │                                     │   │                                   │   │                                    │\n",
       "(0, 4): ───H───Rz(pi*<x_4/pi>)──────────────────────────────────────────────────────────────────────────────────────────────────────────────────────────────X───Rz(pi*<cos(x_0)*cos(x_4)/pi>)───X───┼───────────────────────────────────┼───┼───────────────────────────────────┼───┼───────────────────────────────────┼───┼────────────────────────────────────┼──────────────────────────────────────────────────────────────────────────────X─────Rz(pi*<cos(x_1)*cos(x_4)/pi>)───X───┼───────────────────────────────────┼───┼───────────────────────────────────┼───┼───────────────────────────────────┼───┼────────────────────────────────────┼─────────────────────────────────────X───Rz(pi*<cos(x_2)*cos(x_4)/pi>)───X────┼X────────────────────────────────────┼───┼───────────────────────────────────┼───┼───────────────────────────────────┼───┼────────────────────────────────────┼Rz(pi*<cos(x_3)*cos(x_4)/pi>)────X───┼───────────────────────────────────┼────┼@────────────────────────────────────┼───┼───────────────────────────────────┼───┼────────────────────────────────────┼─────────────────────────────────@───@───────────────────────────────────@────@─────────────────────────────────────@───@────────────────────────────────────@───────────────────────────────────────────────────────────────────────────────────────────────────────────────────────────────────────────────────────────────────────────────────────────────────────────────────────────────────────H───Rz(pi*<x_4/pi>)────────────────────────────────────────────────────────────────────────────────────────────────────────────────────────────────────────────X───Rz(pi*<cos(x_0)*cos(x_4)/pi>)───X───┼───────────────────────────────────┼───┼───────────────────────────────────┼───┼───────────────────────────────────┼───┼────────────────────────────────────┼──────────────────────────────────────────────────────────────────────────────X─────Rz(pi*<cos(x_1)*cos(x_4)/pi>)───X───┼───────────────────────────────────┼───┼───────────────────────────────────┼───┼───────────────────────────────────┼───┼────────────────────────────────────┼─────────────────────────────────────X───Rz(pi*<cos(x_2)*cos(x_4)/pi>)───X────┼X────────────────────────────────────┼───┼───────────────────────────────────┼───┼───────────────────────────────────┼───┼────────────────────────────────────┼Rz(pi*<cos(x_3)*cos(x_4)/pi>)────X───┼───────────────────────────────────┼────┼@────────────────────────────────────┼───┼───────────────────────────────────┼───┼────────────────────────────────────┼─────────────────────────────────@───@───────────────────────────────────@────@─────────────────────────────────────@───@────────────────────────────────────@───────────────────────────────────────────────────────────────────────────────────────────────────────────────────────────────────────────────────────────────────────────────────────────────────────────────────────────────────────────\n",
       "                                                                                                                                                                                                    │                                   │   │                                   │   │                                   │   │                                    │                                                                                                                        │                                   │   │                                   │   │                                   │   │                                    │                                                                              │                                     │   │                                   │   │                                   │   │                                    │                                     │                                   │    ││                                    │   │                                   │   │                                    │                                 │   │                                   │    │                                     │   │                                    │                                                                                                                                                                                                                                                                                                                                                                                                                                              │                                   │   │                                   │   │                                   │   │                                    │                                                                                                                        │                                   │   │                                   │   │                                   │   │                                    │                                                                              │                                     │   │                                   │   │                                   │   │                                    │                                     │                                   │    ││                                    │   │                                   │   │                                    │                                 │   │                                   │    │                                     │   │                                    │\n",
       "(0, 5): ───H───Rz(pi*<x_5/pi>)──────────────────────────────────────────────────────────────────────────────────────────────────────────────────────────────────────────────────────────────────────X───Rz(pi*<cos(x_0)*cos(x_5)/pi>)───X───┼───────────────────────────────────┼───┼───────────────────────────────────┼───┼────────────────────────────────────┼────────────────────────────────────────────────────────────────────────────────────────────────────────────────────────X───Rz(pi*<cos(x_1)*cos(x_5)/pi>)───X───┼───────────────────────────────────┼───┼───────────────────────────────────┼───┼────────────────────────────────────┼──────────────────────────────────────────────────────────────────────────────X─────Rz(pi*<cos(x_2)*cos(x_5)/pi>)───X───┼───────────────────────────────────┼───┼───────────────────────────────────┼───┼────────────────────────────────────┼─────────────────────────────────────X───Rz(pi*<cos(x_3)*cos(x_5)/pi>)───X────┼X────────────────────────────────────┼───┼───────────────────────────────────┼───┼────────────────────────────────────┼Rz(pi*<cos(x_4)*cos(x_5)/pi>)────X───┼───────────────────────────────────┼────┼@────────────────────────────────────┼───┼────────────────────────────────────┼─────────────────────────────────@───@───────────────────────────────────@────@──────────────────────────────────────@─────────────────────────────────────────────────────────────────────────────────────────────────────────────────H───Rz(pi*<x_5/pi>)────────────────────────────────────────────────────────────────────────────────────────────────────────────────────────────────────────────────────────────────────────────────────X───Rz(pi*<cos(x_0)*cos(x_5)/pi>)───X───┼───────────────────────────────────┼───┼───────────────────────────────────┼───┼────────────────────────────────────┼────────────────────────────────────────────────────────────────────────────────────────────────────────────────────────X───Rz(pi*<cos(x_1)*cos(x_5)/pi>)───X───┼───────────────────────────────────┼───┼───────────────────────────────────┼───┼────────────────────────────────────┼──────────────────────────────────────────────────────────────────────────────X─────Rz(pi*<cos(x_2)*cos(x_5)/pi>)───X───┼───────────────────────────────────┼───┼───────────────────────────────────┼───┼────────────────────────────────────┼─────────────────────────────────────X───Rz(pi*<cos(x_3)*cos(x_5)/pi>)───X────┼X────────────────────────────────────┼───┼───────────────────────────────────┼───┼────────────────────────────────────┼Rz(pi*<cos(x_4)*cos(x_5)/pi>)────X───┼───────────────────────────────────┼────┼@────────────────────────────────────┼───┼────────────────────────────────────┼─────────────────────────────────@───@───────────────────────────────────@────@──────────────────────────────────────@─────────────────────────────────────────────────────────────────────────────────────────────────────────────────────\n",
       "                                                                                                                                                                                                                                            │                                   │   │                                   │   │                                    │                                                                                                                                                                │                                   │   │                                   │   │                                    │                                                                                                                        │                                   │   │                                   │   │                                    │                                                                              │                                     │   │                                   │   │                                    │                                     │                                   │    ││                                    │   │                                    │                                 │   │                                   │    │                                      │                                                                                                                                                                                                                                                                                                                                                                │                                   │   │                                   │   │                                    │                                                                                                                                                                │                                   │   │                                   │   │                                    │                                                                                                                        │                                   │   │                                   │   │                                    │                                                                              │                                     │   │                                   │   │                                    │                                     │                                   │    ││                                    │   │                                    │                                 │   │                                   │    │                                      │\n",
       "(0, 6): ───H───Rz(pi*<x_6/pi>)──────────────────────────────────────────────────────────────────────────────────────────────────────────────────────────────────────────────────────────────────────────────────────────────────────────────X───Rz(pi*<cos(x_0)*cos(x_6)/pi>)───X───┼───────────────────────────────────┼───┼────────────────────────────────────┼────────────────────────────────────────────────────────────────────────────────────────────────────────────────────────────────────────────────────────────────X───Rz(pi*<cos(x_1)*cos(x_6)/pi>)───X───┼───────────────────────────────────┼───┼────────────────────────────────────┼────────────────────────────────────────────────────────────────────────────────────────────────────────────────────────X───Rz(pi*<cos(x_2)*cos(x_6)/pi>)───X───┼───────────────────────────────────┼───┼────────────────────────────────────┼──────────────────────────────────────────────────────────────────────────────X─────Rz(pi*<cos(x_3)*cos(x_6)/pi>)───X───┼───────────────────────────────────┼───┼────────────────────────────────────┼─────────────────────────────────────X───Rz(pi*<cos(x_4)*cos(x_6)/pi>)───X────┼X────────────────────────────────────┼───┼────────────────────────────────────┼Rz(pi*<cos(x_5)*cos(x_6)/pi>)────X───┼───────────────────────────────────┼────┼@─────────────────────────────────────┼─────────────────────────────────@───@───────────────────────────────────@───────────────────────────────────────H───Rz(pi*<x_6/pi>)────────────────────────────────────────────────────────────────────────────────────────────────────────────────────────────────────────────────────────────────────────────────────────────────────────────────────────────X───Rz(pi*<cos(x_0)*cos(x_6)/pi>)───X───┼───────────────────────────────────┼───┼────────────────────────────────────┼────────────────────────────────────────────────────────────────────────────────────────────────────────────────────────────────────────────────────────────────X───Rz(pi*<cos(x_1)*cos(x_6)/pi>)───X───┼───────────────────────────────────┼───┼────────────────────────────────────┼────────────────────────────────────────────────────────────────────────────────────────────────────────────────────────X───Rz(pi*<cos(x_2)*cos(x_6)/pi>)───X───┼───────────────────────────────────┼───┼────────────────────────────────────┼──────────────────────────────────────────────────────────────────────────────X─────Rz(pi*<cos(x_3)*cos(x_6)/pi>)───X───┼───────────────────────────────────┼───┼────────────────────────────────────┼─────────────────────────────────────X───Rz(pi*<cos(x_4)*cos(x_6)/pi>)───X────┼X────────────────────────────────────┼───┼────────────────────────────────────┼Rz(pi*<cos(x_5)*cos(x_6)/pi>)────X───┼───────────────────────────────────┼────┼@─────────────────────────────────────┼─────────────────────────────────@───@───────────────────────────────────@───────────────────────────────────────────\n",
       "                                                                                                                                                                                                                                                                                    │                                   │   │                                    │                                                                                                                                                                                                        │                                   │   │                                    │                                                                                                                                                                │                                   │   │                                    │                                                                                                                        │                                   │   │                                    │                                                                              │                                     │   │                                    │                                     │                                   │    ││                                     │                                 │   │                                   │                                                                                                                                                                                                                                                                                                                              │                                   │   │                                    │                                                                                                                                                                                                        │                                   │   │                                    │                                                                                                                                                                │                                   │   │                                    │                                                                                                                        │                                   │   │                                    │                                                                              │                                     │   │                                    │                                     │                                   │    ││                                     │                                 │   │                                   │\n",
       "(0, 7): ───H───Rz(pi*<x_7/pi>)──────────────────────────────────────────────────────────────────────────────────────────────────────────────────────────────────────────────────────────────────────────────────────────────────────────────────────────────────────────────────────X───Rz(pi*<cos(x_0)*cos(x_7)/pi>)───X───┼────────────────────────────────────┼────────────────────────────────────────────────────────────────────────────────────────────────────────────────────────────────────────────────────────────────────────────────────────────────────────X───Rz(pi*<cos(x_1)*cos(x_7)/pi>)───X───┼────────────────────────────────────┼────────────────────────────────────────────────────────────────────────────────────────────────────────────────────────────────────────────────────────────────X───Rz(pi*<cos(x_2)*cos(x_7)/pi>)───X───┼────────────────────────────────────┼────────────────────────────────────────────────────────────────────────────────────────────────────────────────────────X───Rz(pi*<cos(x_3)*cos(x_7)/pi>)───X───┼────────────────────────────────────┼──────────────────────────────────────────────────────────────────────────────X─────Rz(pi*<cos(x_4)*cos(x_7)/pi>)───X───┼────────────────────────────────────┼─────────────────────────────────────X───Rz(pi*<cos(x_5)*cos(x_7)/pi>)───X────┼X─────────────────────────────────────┼Rz(pi*<cos(x_6)*cos(x_7)/pi>)────X───┼───────────────────────────────────┼───@───────────────────────────────────@───H─────────────────Rz(pi*<x_7/pi>)──────────────────────────────────────────────────────────────────────────────────────────────────────────────────────────────────────────────────────────────────────────────────────────────────────────────────────────────────────────────────X───Rz(pi*<cos(x_0)*cos(x_7)/pi>)───X───┼────────────────────────────────────┼────────────────────────────────────────────────────────────────────────────────────────────────────────────────────────────────────────────────────────────────────────────────────────────────────────X───Rz(pi*<cos(x_1)*cos(x_7)/pi>)───X───┼────────────────────────────────────┼────────────────────────────────────────────────────────────────────────────────────────────────────────────────────────────────────────────────────────────────X───Rz(pi*<cos(x_2)*cos(x_7)/pi>)───X───┼────────────────────────────────────┼────────────────────────────────────────────────────────────────────────────────────────────────────────────────────────X───Rz(pi*<cos(x_3)*cos(x_7)/pi>)───X───┼────────────────────────────────────┼──────────────────────────────────────────────────────────────────────────────X─────Rz(pi*<cos(x_4)*cos(x_7)/pi>)───X───┼────────────────────────────────────┼─────────────────────────────────────X───Rz(pi*<cos(x_5)*cos(x_7)/pi>)───X────┼X─────────────────────────────────────┼Rz(pi*<cos(x_6)*cos(x_7)/pi>)────X───┼───────────────────────────────────┼───@───────────────────────────────────@───\n",
       "                                                                                                                                                                                                                                                                                                                            │                                    │                                                                                                                                                                                                                                                │                                    │                                                                                                                                                                                                        │                                    │                                                                                                                                                                │                                    │                                                                                                                        │                                    │                                                                              │                                      │                                     │                                   │   │                                   │                                                                                                                                                                                                                                                                                                                              │                                    │                                                                                                                                                                                                                                                │                                    │                                                                                                                                                                                                        │                                    │                                                                                                                                                                │                                    │                                                                                                                        │                                    │                                                                              │                                      │                                     │                                   │   │                                   │\n",
       "(0, 8): ───H───Rz(pi*<x_8/pi>)──────────────────────────────────────────────────────────────────────────────────────────────────────────────────────────────────────────────────────────────────────────────────────────────────────────────────────────────────────────────────────────────────────────────────────────────X───Rz(pi*<cos(x_0)*cos(x_8)/pi>)────X────────────────────────────────────────────────────────────────────────────────────────────────────────────────────────────────────────────────────────────────────────────────────────────────────────────────────────────────────────────────X───Rz(pi*<cos(x_1)*cos(x_8)/pi>)────X────────────────────────────────────────────────────────────────────────────────────────────────────────────────────────────────────────────────────────────────────────────────────────────────────────X───Rz(pi*<cos(x_2)*cos(x_8)/pi>)────X────────────────────────────────────────────────────────────────────────────────────────────────────────────────────────────────────────────────────────────────X───Rz(pi*<cos(x_3)*cos(x_8)/pi>)────X────────────────────────────────────────────────────────────────────────────────────────────────────────────────────────X───Rz(pi*<cos(x_4)*cos(x_8)/pi>)────X──────────────────────────────────────────────────────────────────────────────X─────Rz(pi*<cos(x_5)*cos(x_8)/pi>)────X─────────────────────────────────────X───Rz(pi*<cos(x_6)*cos(x_8)/pi>)───X───X───Rz(pi*<cos(x_7)*cos(x_8)/pi>)───X───H─────────────────Rz(pi*<x_8/pi>)──────────────────────────────────────────────────────────────────────────────────────────────────────────────────────────────────────────────────────────────────────────────────────────────────────────────────────────────────────────────────────────────────────────────────────────X───Rz(pi*<cos(x_0)*cos(x_8)/pi>)────X────────────────────────────────────────────────────────────────────────────────────────────────────────────────────────────────────────────────────────────────────────────────────────────────────────────────────────────────────────────────X───Rz(pi*<cos(x_1)*cos(x_8)/pi>)────X────────────────────────────────────────────────────────────────────────────────────────────────────────────────────────────────────────────────────────────────────────────────────────────────────────X───Rz(pi*<cos(x_2)*cos(x_8)/pi>)────X────────────────────────────────────────────────────────────────────────────────────────────────────────────────────────────────────────────────────────────────X───Rz(pi*<cos(x_3)*cos(x_8)/pi>)────X────────────────────────────────────────────────────────────────────────────────────────────────────────────────────────X───Rz(pi*<cos(x_4)*cos(x_8)/pi>)────X──────────────────────────────────────────────────────────────────────────────X─────Rz(pi*<cos(x_5)*cos(x_8)/pi>)────X─────────────────────────────────────X───Rz(pi*<cos(x_6)*cos(x_8)/pi>)───X───X───Rz(pi*<cos(x_7)*cos(x_8)/pi>)───X───\n",
       "                                                                                                                 └──┘                                                                                                                                                                                                                                           └──────────────────────────────┘                                               └──┘                                                                                                                                                                                                   └──────────────────────────────┘                                               └──┘                                                                                                                                                           └──────────────────────────────┘                                               └──┘                                                                                                                   └──────────────────────────────┘                                               └──┘                                                                           └──────────────────────────────┘                                               └──┘                                   └──────────────────────────────┘                                                                                                                                                                                                       └──┘                                                                                                                                                                                                                                           └──────────────────────────────┘                                               └──┘                                                                                                                                                                                                   └──────────────────────────────┘                                               └──┘                                                                                                                                                           └──────────────────────────────┘                                               └──┘                                                                                                                   └──────────────────────────────┘                                               └──┘                                                                           └──────────────────────────────┘                                               └──┘                                   └──────────────────────────────┘"
      ]
     },
     "execution_count": 120,
     "metadata": {},
     "output_type": "execute_result"
    }
   ],
   "source": [
    "n_qubit = 9\n",
    "data_circuit = SecondOrderPauliZEncoding(n_qubit, copies=2, parameter_scale=1, encoding_map='cosine_product')\n",
    "data_circuit"
   ]
  },
  {
   "cell_type": "code",
   "execution_count": 121,
   "metadata": {},
   "outputs": [
    {
     "data": {
      "text/html": [
       "<pre style=\"overflow: auto; white-space: pre;\">(0, 0): ───Rz(θ_0)───Ry(θ_9)────XX──────────Rz(θ_26)────Ry(θ_35)──────────────XX──────────────────────\n",
       "                                │                                             │\n",
       "(0, 1): ───Rz(θ_1)───Ry(θ_10)───XX^(θ_18)───XX──────────Rz(θ_27)───Ry(θ_36)───XX^(θ_44)───XX──────────\n",
       "                                            │                                             │\n",
       "(0, 2): ───Rz(θ_2)───Ry(θ_11)───XX──────────XX^(θ_22)───Rz(θ_28)───Ry(θ_37)───XX──────────XX^(θ_48)───\n",
       "                                │                                             │\n",
       "(0, 3): ───Rz(θ_3)───Ry(θ_12)───XX^(θ_19)───XX──────────Rz(θ_29)───Ry(θ_38)───XX^(θ_45)───XX──────────\n",
       "                                            │                                             │\n",
       "(0, 4): ───Rz(θ_4)───Ry(θ_13)───XX──────────XX^(θ_23)───Rz(θ_30)───Ry(θ_39)───XX──────────XX^(θ_49)───\n",
       "                                │                                             │\n",
       "(0, 5): ───Rz(θ_5)───Ry(θ_14)───XX^(θ_20)───XX──────────Rz(θ_31)───Ry(θ_40)───XX^(θ_46)───XX──────────\n",
       "                                            │                                             │\n",
       "(0, 6): ───Rz(θ_6)───Ry(θ_15)───XX──────────XX^(θ_24)───Rz(θ_32)───Ry(θ_41)───XX──────────XX^(θ_50)───\n",
       "                                │                                             │\n",
       "(0, 7): ───Rz(θ_7)───Ry(θ_16)───XX^(θ_21)───XX──────────Rz(θ_33)───Ry(θ_42)───XX^(θ_47)───XX──────────\n",
       "                                            │                                             │\n",
       "(0, 8): ───Rz(θ_8)───Ry(θ_17)───────────────XX^(θ_25)───Rz(θ_34)───Ry(θ_43)───────────────XX^(θ_51)───</pre>"
      ],
      "text/plain": [
       "(0, 0): ───Rz(θ_0)───Ry(θ_9)────XX──────────Rz(θ_26)────Ry(θ_35)──────────────XX──────────────────────\n",
       "                                │                                             │\n",
       "(0, 1): ───Rz(θ_1)───Ry(θ_10)───XX^(θ_18)───XX──────────Rz(θ_27)───Ry(θ_36)───XX^(θ_44)───XX──────────\n",
       "                                            │                                             │\n",
       "(0, 2): ───Rz(θ_2)───Ry(θ_11)───XX──────────XX^(θ_22)───Rz(θ_28)───Ry(θ_37)───XX──────────XX^(θ_48)───\n",
       "                                │                                             │\n",
       "(0, 3): ───Rz(θ_3)───Ry(θ_12)───XX^(θ_19)───XX──────────Rz(θ_29)───Ry(θ_38)───XX^(θ_45)───XX──────────\n",
       "                                            │                                             │\n",
       "(0, 4): ───Rz(θ_4)───Ry(θ_13)───XX──────────XX^(θ_23)───Rz(θ_30)───Ry(θ_39)───XX──────────XX^(θ_49)───\n",
       "                                │                                             │\n",
       "(0, 5): ───Rz(θ_5)───Ry(θ_14)───XX^(θ_20)───XX──────────Rz(θ_31)───Ry(θ_40)───XX^(θ_46)───XX──────────\n",
       "                                            │                                             │\n",
       "(0, 6): ───Rz(θ_6)───Ry(θ_15)───XX──────────XX^(θ_24)───Rz(θ_32)───Ry(θ_41)───XX──────────XX^(θ_50)───\n",
       "                                │                                             │\n",
       "(0, 7): ───Rz(θ_7)───Ry(θ_16)───XX^(θ_21)───XX──────────Rz(θ_33)───Ry(θ_42)───XX^(θ_47)───XX──────────\n",
       "                                            │                                             │\n",
       "(0, 8): ───Rz(θ_8)───Ry(θ_17)───────────────XX^(θ_25)───Rz(θ_34)───Ry(θ_43)───────────────XX^(θ_51)───"
      ]
     },
     "execution_count": 121,
     "metadata": {},
     "output_type": "execute_result"
    }
   ],
   "source": [
    "model_circuit = ParameterisedCircuit(n_qubit, copies=2, rotation_blocks=[\"RZ\",\"RY\"], entanglement_blocks=[\"XX\"],\n",
    "                                    entangle_strategy=\"alternate_linear\")\n",
    "model_circuit\n"
   ]
  },
  {
   "cell_type": "code",
   "execution_count": 122,
   "metadata": {},
   "outputs": [],
   "source": [
    "operators = [cirq.Z(model_circuit.qubits[-1])]"
   ]
  },
  {
   "cell_type": "code",
   "execution_count": 129,
   "metadata": {},
   "outputs": [],
   "source": [
    "conv2d = QConv2D(model_circuit, data_circuit, operators, kernel_size=(3,3), strides=(2,2))"
   ]
  },
  {
   "cell_type": "code",
   "execution_count": 130,
   "metadata": {},
   "outputs": [],
   "source": [
    "batchsize = 10\n",
    "inputs = tf.random.normal(shape=(batchsize, 8, 8))"
   ]
  },
  {
   "cell_type": "code",
   "execution_count": 131,
   "metadata": {},
   "outputs": [],
   "source": [
    "output = conv2d(inputs)"
   ]
  },
  {
   "cell_type": "code",
   "execution_count": 128,
   "metadata": {},
   "outputs": [
    {
     "data": {
      "text/plain": [
       "TensorShape([10, 8, 8])"
      ]
     },
     "execution_count": 128,
     "metadata": {},
     "output_type": "execute_result"
    }
   ],
   "source": [
    "inputs.shape"
   ]
  },
  {
   "cell_type": "code",
   "execution_count": 136,
   "metadata": {},
   "outputs": [
    {
     "data": {
      "text/plain": [
       "<tf.Variable 'parameters:0' shape=(52,) dtype=float32, numpy=\n",
       "array([4.948103  , 4.3416443 , 1.9675566 , 0.22585696, 5.2155476 ,\n",
       "       2.474094  , 4.4560847 , 2.8016872 , 1.8137203 , 4.076514  ,\n",
       "       1.2183149 , 3.0566082 , 4.230261  , 1.2968093 , 2.3089812 ,\n",
       "       6.0673285 , 3.4434192 , 1.9699146 , 2.1816225 , 5.290678  ,\n",
       "       2.6861413 , 0.5966017 , 1.7969409 , 5.0895934 , 2.4261637 ,\n",
       "       0.68767583, 0.53365004, 3.46667   , 5.1150365 , 2.3341675 ,\n",
       "       1.8150125 , 4.4686046 , 5.1675262 , 0.13128494, 5.646898  ,\n",
       "       5.708794  , 4.656639  , 5.4027286 , 1.9198729 , 0.25781065,\n",
       "       0.7842552 , 2.8505342 , 5.457753  , 1.4096828 , 2.649116  ,\n",
       "       0.34749684, 5.683602  , 1.7315977 , 1.4353132 , 3.2434886 ,\n",
       "       4.3518767 , 3.2653434 ], dtype=float32)>"
      ]
     },
     "execution_count": 136,
     "metadata": {},
     "output_type": "execute_result"
    }
   ],
   "source": [
    "conv2d.weights[0]"
   ]
  },
  {
   "cell_type": "code",
   "execution_count": 10,
   "metadata": {},
   "outputs": [],
   "source": [
    "batchsize = 10\n",
    "kernel_size = (3, 3)\n",
    "strides = (1, 1)\n",
    "padding = \"SAME\"\n",
    "inputs = tf.random.normal(shape=(batchsize, 8, 8))\n",
    "y = tf.extract_volume_patches(tf.reshape(inputs, shape=(inputs.shape[0], 1, inputs.shape[1], inputs.shape[2], 1)), \n",
    "                              ksizes=(1, 1) + kernel_size + (1,), strides=(1, 1) + strides+ (1,), padding=padding)\n",
    "resolved_y = conv2d._data_circuit_resolver(y)\n",
    "z = tf.reshape(resolved_y, (tf.reduce_prod(resolved_y.shape[:-1]), resolved_y.shape[-1]))"
   ]
  },
  {
   "cell_type": "code",
   "execution_count": 20,
   "metadata": {},
   "outputs": [],
   "source": [
    "batchsize = 10\n",
    "kernel_size = (3, 3)\n",
    "strides = (1, 1)\n",
    "padding=\"SAME\"\n",
    "@tf.function\n",
    "def k(x):\n",
    "    y = tf.extract_volume_patches(tf.reshape(x, shape=(x.shape[0], 1, x.shape[1], x.shape[2], 1)), \n",
    "                              ksizes=(1, 1) + kernel_size + (1,), strides=(1, 1) + strides+ (1,), padding=padding)\n",
    "    resolved_y = conv2d._data_circuit_resolver(y)\n",
    "    z = tf.reshape(resolved_y, (tf.reduce_prod(resolved_y.shape[:-1]), resolved_y.shape[-1]))\n",
    "    return z"
   ]
  },
  {
   "cell_type": "code",
   "execution_count": 22,
   "metadata": {},
   "outputs": [],
   "source": [
    "batchsize=10\n",
    "v = tf.Variable(tf.random.normal(shape=(batchsize, 8, 8)))\n",
    "with tf.GradientTape() as tape:\n",
    "    loss = k(v)\n",
    "grad = tape.gradient(loss, v)"
   ]
  },
  {
   "cell_type": "code",
   "execution_count": 19,
   "metadata": {},
   "outputs": [
    {
     "data": {
      "text/plain": [
       "TensorShape([10, 1, 8, 8, 45])"
      ]
     },
     "execution_count": 19,
     "metadata": {},
     "output_type": "execute_result"
    }
   ],
   "source": [
    "loss.shape"
   ]
  },
  {
   "cell_type": "code",
   "execution_count": 12,
   "metadata": {},
   "outputs": [
    {
     "data": {
      "text/plain": [
       "TensorShape([10, 1, 8, 8, 45])"
      ]
     },
     "execution_count": 12,
     "metadata": {},
     "output_type": "execute_result"
    }
   ],
   "source": [
    "resolved_y.shape"
   ]
  },
  {
   "cell_type": "code",
   "execution_count": 17,
   "metadata": {},
   "outputs": [],
   "source": []
  },
  {
   "cell_type": "code",
   "execution_count": 18,
   "metadata": {},
   "outputs": [
    {
     "data": {
      "text/plain": [
       "<tf.Tensor: shape=(640, 45), dtype=float32, numpy=\n",
       "array([[ 0.        ,  0.        ,  0.        , ...,  0.14948083,\n",
       "         0.20293415,  0.09529948],\n",
       "       [ 0.        ,  0.        ,  0.        , ...,  0.09529948,\n",
       "         0.13930537,  0.18912001],\n",
       "       [ 0.        ,  0.        ,  0.        , ...,  0.18912001,\n",
       "         0.1654471 ,  0.24184467],\n",
       "       ...,\n",
       "       [ 0.0372572 ,  0.25987318, -0.11108524, ...,  0.31830987,\n",
       "         0.31830987,  0.31830987],\n",
       "       [ 0.25987318, -0.11108524, -0.18750413, ...,  0.31830987,\n",
       "         0.31830987,  0.31830987],\n",
       "       [-0.11108524, -0.18750413,  0.        , ...,  0.31830987,\n",
       "         0.31830987,  0.31830987]], dtype=float32)>"
      ]
     },
     "execution_count": 18,
     "metadata": {},
     "output_type": "execute_result"
    }
   ],
   "source": []
  },
  {
   "cell_type": "code",
   "execution_count": null,
   "metadata": {},
   "outputs": [],
   "source": [
    "circuit_batch_dim = tf.gather(tf.shape(inputs), 0)\n",
    "tiled_up_data_circuit = tf.tile(self._data_circuit, [circuit_batch_dim])\n",
    "tiled_up_model = tf.tile(self._model_circuit, [circuit_batch_dim])\n",
    "model_appended = self._append_layer(tiled_up_data_circuit, append=tiled_up_model)\n",
    "tiled_up_parameters_ = tf.tile([self.parameters], [circuit_batch_dim, 1])\n",
    "resolved_inputs = self._data_circuit_resolver(inputs)\n",
    "tiled_up_parameters = tf.concat([resolved_inputs, tiled_up_parameters_], 1)\n",
    "tiled_up_operators = tf.tile(self._operators, [circuit_batch_dim, 1])\n",
    "y = tf.extract_volume_patches(tf.reshape(x, shape=(x.shape[0], 1, x.shape[1], x.shape[2], 1)), \n",
    "                              ksizes=(1, 1, 4, 4, 1), strides=(1, 1, 1, 1, 1), padding=\"SAME\")\n",
    "z = tf.reshape(y, (x.shape[0], x.shape[1]*x.shape[2], filter_shape[0]* filter_shape[1]))"
   ]
  },
  {
   "cell_type": "code",
   "execution_count": 21,
   "metadata": {},
   "outputs": [],
   "source": [
    "circuit_batch_dim = 10\n",
    "tiled_up_data_circuit = tf.tile(conv2d._data_circuit, [circuit_batch_dim*inputs.shape[1]*inputs.shape[2]*kernel_size[0]* kernel_size[1]])\n",
    "tiled_up_model = tf.tile(conv2d._model_circuit, [circuit_batch_dim*inputs.shape[1]*inputs.shape[2]*kernel_size[0]* kernel_size[1]])\n",
    "model_appended = conv2d._append_layer(tiled_up_data_circuit, append=tiled_up_model)"
   ]
  },
  {
   "cell_type": "code",
   "execution_count": 23,
   "metadata": {},
   "outputs": [
    {
     "data": {
      "text/plain": [
       "TensorShape([10, 1, 8, 8, 9])"
      ]
     },
     "execution_count": 23,
     "metadata": {},
     "output_type": "execute_result"
    }
   ],
   "source": [
    "y.shape"
   ]
  },
  {
   "cell_type": "code",
   "execution_count": 25,
   "metadata": {},
   "outputs": [],
   "source": [
    "kk = tf.transpose(y, perm=[4, 0, 1, 2, 3])"
   ]
  },
  {
   "cell_type": "code",
   "execution_count": 28,
   "metadata": {},
   "outputs": [
    {
     "data": {
      "text/plain": [
       "TensorShape([10, 1, 8, 8])"
      ]
     },
     "execution_count": 28,
     "metadata": {},
     "output_type": "execute_result"
    }
   ],
   "source": [
    "kk[0].shape"
   ]
  },
  {
   "cell_type": "code",
   "execution_count": 33,
   "metadata": {},
   "outputs": [],
   "source": [
    "perm=[y.ndim-1] + list(range(y.ndim-1))"
   ]
  },
  {
   "cell_type": "code",
   "execution_count": 36,
   "metadata": {},
   "outputs": [
    {
     "data": {
      "text/plain": [
       "[4, 0, 1, 2, 3]"
      ]
     },
     "execution_count": 36,
     "metadata": {},
     "output_type": "execute_result"
    }
   ],
   "source": [
    "perm=list(range(y.ndim))\n",
    "perm=perm[-1:] + perm[:-1]\n",
    "perm"
   ]
  },
  {
   "cell_type": "code",
   "execution_count": 40,
   "metadata": {},
   "outputs": [
    {
     "data": {
      "text/plain": [
       "<tf.Tensor: shape=(5,), dtype=int32, numpy=array([4, 0, 1, 2, 3], dtype=int32)>"
      ]
     },
     "execution_count": 40,
     "metadata": {},
     "output_type": "execute_result"
    }
   ],
   "source": [
    "perm = tf.roll(tf.range(y.ndim), shift=1, axis=0)\n",
    "perm"
   ]
  },
  {
   "cell_type": "code",
   "execution_count": 38,
   "metadata": {},
   "outputs": [
    {
     "data": {
      "text/plain": [
       "<tf.Tensor: shape=(5,), dtype=int32, numpy=array([0, 1, 2, 3, 4], dtype=int32)>"
      ]
     },
     "execution_count": 38,
     "metadata": {},
     "output_type": "execute_result"
    }
   ],
   "source": [
    "perm = tf.range(y.ndim)\n",
    "perm"
   ]
  },
  {
   "cell_type": "code",
   "execution_count": 50,
   "metadata": {},
   "outputs": [
    {
     "data": {
      "text/plain": [
       "TensorShape([10, 1, 8, 8, 9])"
      ]
     },
     "execution_count": 50,
     "metadata": {},
     "output_type": "execute_result"
    }
   ],
   "source": [
    "y.shape"
   ]
  },
  {
   "cell_type": "code",
   "execution_count": 48,
   "metadata": {},
   "outputs": [],
   "source": [
    "from quple.interface.tfq.tf_resolvers import resolve_formulas"
   ]
  },
  {
   "cell_type": "code",
   "execution_count": 25,
   "metadata": {},
   "outputs": [
    {
     "data": {
      "text/plain": [
       "<tf.Tensor: shape=(3,), dtype=int32, numpy=array([10,  8,  8], dtype=int32)>"
      ]
     },
     "execution_count": 25,
     "metadata": {},
     "output_type": "execute_result"
    }
   ],
   "source": [
    "n_formula = 45\n",
    "tf.slice(tf.shape(inputs), [0], [-1])"
   ]
  },
  {
   "cell_type": "code",
   "execution_count": null,
   "metadata": {},
   "outputs": [],
   "source": [
    "(n_formula,)+x.shape[:-1]"
   ]
  },
  {
   "cell_type": "code",
   "execution_count": null,
   "metadata": {},
   "outputs": [],
   "source": []
  },
  {
   "cell_type": "code",
   "execution_count": null,
   "metadata": {},
   "outputs": [],
   "source": []
  },
  {
   "cell_type": "markdown",
   "metadata": {},
   "source": [
    "1. QConv2D\n",
    "2. QPooling2D"
   ]
  }
 ],
 "metadata": {
  "colab": {
   "collapsed_sections": [],
   "name": "Untitled47.ipynb",
   "provenance": []
  },
  "kernelspec": {
   "display_name": "Python 3",
   "language": "python",
   "name": "python3"
  },
  "language_info": {
   "codemirror_mode": {
    "name": "ipython",
    "version": 3
   },
   "file_extension": ".py",
   "mimetype": "text/x-python",
   "name": "python",
   "nbconvert_exporter": "python",
   "pygments_lexer": "ipython3",
   "version": "3.7.10"
  }
 },
 "nbformat": 4,
 "nbformat_minor": 1
}
