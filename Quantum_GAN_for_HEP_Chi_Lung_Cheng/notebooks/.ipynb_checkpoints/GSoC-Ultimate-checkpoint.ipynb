{
 "cells": [
  {
   "cell_type": "code",
   "execution_count": 1,
   "id": "975fdd7c",
   "metadata": {},
   "outputs": [],
   "source": [
    "import os\n",
    "import glob\n",
    "import operator\n",
    "import numpy as np\n",
    "import pandas\n",
    "import h5py\n",
    "import tensorflow as tf\n",
    "import tensorflow_quantum as tfq"
   ]
  },
  {
   "cell_type": "code",
   "execution_count": 2,
   "id": "124e72c2",
   "metadata": {},
   "outputs": [],
   "source": [
    "# for reproducibility\n",
    "tf.random.set_seed(2021)\n",
    "np.random.seed(2021) "
   ]
  },
  {
   "cell_type": "code",
   "execution_count": 3,
   "id": "163cd0ed",
   "metadata": {},
   "outputs": [],
   "source": [
    "# use the cern afs public path or your own path containing the training data\n",
    "data_dir = \"/afs/cern.ch/work/c/chlcheng/public/GSoC2021/data\"\n",
    "photon_path = os.path.join(data_dir, \"photon.hdf5\")\n",
    "electron_path = os.path.join(data_dir, \"electron.hdf5\")"
   ]
  },
  {
   "cell_type": "code",
   "execution_count": 4,
   "id": "ba84e4d4",
   "metadata": {},
   "outputs": [],
   "source": [
    "# load photon data\n",
    "with h5py.File(photon_path, \"r\") as f:\n",
    "    px = np.asarray(f['X'][()], dtype=np.float32)[:,:,:,0]\n",
    "    py = np.asarray(f['y'][()], dtype=np.float32)\n",
    "\n",
    "# load electron data\n",
    "with h5py.File(electron_path, \"r\") as f:\n",
    "    ex = np.asarray(f['X'][()], dtype=np.float32)[:,:,:,0]\n",
    "    ey = np.asarray(f['y'][()], dtype=np.float32)"
   ]
  },
  {
   "cell_type": "code",
   "execution_count": null,
   "id": "948bf057",
   "metadata": {},
   "outputs": [],
   "source": [
    "particle_label_map = {\n",
    "    0: 'photon',\n",
    "    1: 'electron'\n",
    "}\n",
    "import matplotlib.pyplot as plt\n",
    "def vitualize_image(img, labels, name=None):\n",
    "    columns = 8\n",
    "    size = img.shape[0]\n",
    "    rows = ( size // columns ) + 1\n",
    "    fig = plt.figure(figsize=(20, rows*3))\n",
    "    plt.subplots_adjust(hspace=0.3)\n",
    "    for i in range(img.shape[0]):\n",
    "        ax = fig.add_subplot(rows, columns, i+1)\n",
    "        ax.set_title('Image {}: {}'.format(i+1, particle_label_map[labels[i]]))\n",
    "        plt.imshow(img[i])\n",
    "    if name is not None:\n",
    "        plt.savefig(name, bbox_inches=\"tight\")\n",
    "    return plt"
   ]
  },
  {
   "cell_type": "code",
   "execution_count": null,
   "id": "6d45c7bf",
   "metadata": {},
   "outputs": [],
   "source": []
  }
 ],
 "metadata": {
  "kernelspec": {
   "display_name": "Python 3",
   "language": "python",
   "name": "python3"
  },
  "language_info": {
   "codemirror_mode": {
    "name": "ipython",
    "version": 3
   },
   "file_extension": ".py",
   "mimetype": "text/x-python",
   "name": "python",
   "nbconvert_exporter": "python",
   "pygments_lexer": "ipython3",
   "version": "3.7.10"
  }
 },
 "nbformat": 4,
 "nbformat_minor": 5
}
